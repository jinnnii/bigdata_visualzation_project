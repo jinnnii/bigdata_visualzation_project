{
 "cells": [
  {
   "cell_type": "code",
   "execution_count": 1,
   "id": "95159ce9-751d-4b49-9bba-74a572a285cc",
   "metadata": {},
   "outputs": [
    {
     "data": {
      "text/plain": [
       "'0.6.0'"
      ]
     },
     "execution_count": 1,
     "metadata": {},
     "output_type": "execute_result"
    }
   ],
   "source": [
    "import warnings\n",
    "warnings.simplefilter('ignore')\n",
    "\n",
    "import konlpy\n",
    "konlpy.__version__"
   ]
  },
  {
   "cell_type": "code",
   "execution_count": 6,
   "id": "be74d54f-6ca8-4007-bfc8-ceea143fca5c",
   "metadata": {},
   "outputs": [],
   "source": [
    "from konlpy.tag import *\n",
    "hannanum = Hannanum()\n",
    "kkma= Kkma()\n",
    "komoran= Komoran()\n",
    "okt=Okt()"
   ]
  },
  {
   "cell_type": "code",
   "execution_count": null,
   "id": "6ad1efe9-a9bb-42ff-8875-9a166ead37dc",
   "metadata": {},
   "outputs": [],
   "source": [
    "from konlpy.corpus import "
   ]
  },
  {
   "cell_type": "code",
   "execution_count": 7,
   "id": "b34fde42-31ba-4c8a-9a50-c0b2444b7035",
   "metadata": {},
   "outputs": [
    {
     "ename": "NameError",
     "evalue": "name 'c' is not defined",
     "output_type": "error",
     "traceback": [
      "\u001b[1;31m---------------------------------------------------------------------------\u001b[0m",
      "\u001b[1;31mNameError\u001b[0m                                 Traceback (most recent call last)",
      "Input \u001b[1;32mIn [7]\u001b[0m, in \u001b[0;36m<cell line: 1>\u001b[1;34m()\u001b[0m\n\u001b[1;32m----> 1\u001b[0m hannanum\u001b[38;5;241m.\u001b[39mnouns(\u001b[43mc\u001b[49m[:\u001b[38;5;241m40\u001b[39m])\n",
      "\u001b[1;31mNameError\u001b[0m: name 'c' is not defined"
     ]
    }
   ],
   "source": [
    "hannanum.nouns(c[:40])"
   ]
  },
  {
   "cell_type": "code",
   "execution_count": 8,
   "id": "97841b6c-8ea3-4771-9f9f-0d7b1c3e6a66",
   "metadata": {},
   "outputs": [
    {
     "name": "stdout",
     "output_type": "stream",
     "text": [
      "[[1, 3, 3, 2], [2, 1, 4, 1], [0, 6, 4, 7]]\n",
      "19\n"
     ]
    }
   ],
   "source": [
    "str = '1 3 3 2 2 1 4 1 0 6 4 7'\n",
    "arr= list(map(int, str.split()))\n",
    "n,m=3,4\n",
    "dp= []\n",
    "index=0\n",
    "for i in range(n):\n",
    "    dp.append(arr[index:index+m])\n",
    "    index+=m\n",
    "print(dp)\n",
    "\n",
    "for j in range(1,m):\n",
    "    for i in range(n):\n",
    "        #왼쪽 위에서 오는 경우\n",
    "        if i==0:\n",
    "            left_up=0\n",
    "        else:\n",
    "            left_up=dp[i-1][j-1]\n",
    "        if i==n-1:\n",
    "            left_down=0\n",
    "        else:\n",
    "            left_down=dp[i+1][j-1]\n",
    "        left=dp[i][j-1]\n",
    "        dp[i][j] +=max(left_up, left, left_down)\n",
    "        \n",
    "result=max([dp[i][m-1] for i in range(n)])\n",
    "print(result)\n"
   ]
  },
  {
   "cell_type": "code",
   "execution_count": null,
   "id": "0438d2cb-b7f0-45c3-948d-75455eca3072",
   "metadata": {},
   "outputs": [],
   "source": []
  }
 ],
 "metadata": {
  "kernelspec": {
   "display_name": "Python 3 (ipykernel)",
   "language": "python",
   "name": "python3"
  },
  "language_info": {
   "codemirror_mode": {
    "name": "ipython",
    "version": 3
   },
   "file_extension": ".py",
   "mimetype": "text/x-python",
   "name": "python",
   "nbconvert_exporter": "python",
   "pygments_lexer": "ipython3",
   "version": "3.9.12"
  }
 },
 "nbformat": 4,
 "nbformat_minor": 5
}
