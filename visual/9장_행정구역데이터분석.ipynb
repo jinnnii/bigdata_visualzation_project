{
 "cells": [
  {
   "cell_type": "markdown",
   "metadata": {},
   "source": [
    "# 9장. 지리 정보 분석 (2) 행정구역별 데이터 분석 + 블록맵"
   ]
  },
  {
   "cell_type": "markdown",
   "metadata": {},
   "source": [
    "# 1. 데이터 준비 및 탐색"
   ]
  },
  {
   "cell_type": "code",
   "execution_count": 1,
   "metadata": {
    "tags": []
   },
   "outputs": [
    {
     "data": {
      "text/html": [
       "<div>\n",
       "<style scoped>\n",
       "    .dataframe tbody tr th:only-of-type {\n",
       "        vertical-align: middle;\n",
       "    }\n",
       "\n",
       "    .dataframe tbody tr th {\n",
       "        vertical-align: top;\n",
       "    }\n",
       "\n",
       "    .dataframe thead th {\n",
       "        text-align: right;\n",
       "    }\n",
       "</style>\n",
       "<table border=\"1\" class=\"dataframe\">\n",
       "  <thead>\n",
       "    <tr style=\"text-align: right;\">\n",
       "      <th></th>\n",
       "      <th>병원 명</th>\n",
       "      <th>설립형태</th>\n",
       "      <th>근거 법령</th>\n",
       "      <th>관계 행정기관</th>\n",
       "      <th>관계 공공단체</th>\n",
       "      <th>심평원 요양기관번호</th>\n",
       "      <th>종별구분</th>\n",
       "      <th>병상수</th>\n",
       "      <th>소재지 우편번호</th>\n",
       "      <th>주소</th>\n",
       "      <th>홈페이지</th>\n",
       "      <th>대표전화</th>\n",
       "      <th>FAX</th>\n",
       "      <th>비고</th>\n",
       "    </tr>\n",
       "    <tr>\n",
       "      <th>연번</th>\n",
       "      <th></th>\n",
       "      <th></th>\n",
       "      <th></th>\n",
       "      <th></th>\n",
       "      <th></th>\n",
       "      <th></th>\n",
       "      <th></th>\n",
       "      <th></th>\n",
       "      <th></th>\n",
       "      <th></th>\n",
       "      <th></th>\n",
       "      <th></th>\n",
       "      <th></th>\n",
       "      <th></th>\n",
       "    </tr>\n",
       "  </thead>\n",
       "  <tbody>\n",
       "    <tr>\n",
       "      <th>1</th>\n",
       "      <td>강원도 재활병원</td>\n",
       "      <td>시도립</td>\n",
       "      <td>강원도재활병원설치및운영에관한조례</td>\n",
       "      <td>강원도</td>\n",
       "      <td>해당없음</td>\n",
       "      <td>32200641</td>\n",
       "      <td>병원</td>\n",
       "      <td>165</td>\n",
       "      <td>24227</td>\n",
       "      <td>강원도 춘천시 충열로 142번길 24-16</td>\n",
       "      <td>www.grh.or.kr</td>\n",
       "      <td>033-248-7700</td>\n",
       "      <td>033-248-7723</td>\n",
       "      <td>NaN</td>\n",
       "    </tr>\n",
       "    <tr>\n",
       "      <th>2</th>\n",
       "      <td>강원도 삼척의료원</td>\n",
       "      <td>특수법인</td>\n",
       "      <td>지방의료원의 설립 및 운영에 관한 법률</td>\n",
       "      <td>보건복지부(강원도)</td>\n",
       "      <td>지방의료원</td>\n",
       "      <td>32100060</td>\n",
       "      <td>종합병원</td>\n",
       "      <td>152</td>\n",
       "      <td>25920</td>\n",
       "      <td>강원도 삼척시 오십천로 418</td>\n",
       "      <td>http://ksmc.or.kr</td>\n",
       "      <td>033-572-1141</td>\n",
       "      <td>033-573-8424</td>\n",
       "      <td>NaN</td>\n",
       "    </tr>\n",
       "    <tr>\n",
       "      <th>3</th>\n",
       "      <td>강원도 영월의료원</td>\n",
       "      <td>특수법인</td>\n",
       "      <td>지방의료원의 설립 및 운영에 관한 법률</td>\n",
       "      <td>보건복지부(강원도)</td>\n",
       "      <td>지방의료원</td>\n",
       "      <td>32100078</td>\n",
       "      <td>종합병원</td>\n",
       "      <td>214</td>\n",
       "      <td>26234</td>\n",
       "      <td>강원도 영월군 영월읍 중앙1로 59</td>\n",
       "      <td>http://www.youngwol.org</td>\n",
       "      <td>033-370-9117</td>\n",
       "      <td>033-370-9137</td>\n",
       "      <td>NaN</td>\n",
       "    </tr>\n",
       "    <tr>\n",
       "      <th>4</th>\n",
       "      <td>강원도 원주의료원</td>\n",
       "      <td>특수법인</td>\n",
       "      <td>지방의료원의 설립 및 운영에 관한 법률</td>\n",
       "      <td>보건복지부(강원도)</td>\n",
       "      <td>지방의료원</td>\n",
       "      <td>32100086</td>\n",
       "      <td>종합병원</td>\n",
       "      <td>237</td>\n",
       "      <td>26448</td>\n",
       "      <td>강원도 원주시 서원대로 387(개운동)</td>\n",
       "      <td>www.kwmc.or.kr</td>\n",
       "      <td>033-760-4500</td>\n",
       "      <td>033-761-5121</td>\n",
       "      <td>NaN</td>\n",
       "    </tr>\n",
       "    <tr>\n",
       "      <th>5</th>\n",
       "      <td>강원도 강릉의료원</td>\n",
       "      <td>특수법인</td>\n",
       "      <td>지방의료원의 설립 및 운영에 관한 법률</td>\n",
       "      <td>보건복지부(강원도)</td>\n",
       "      <td>지방의료원</td>\n",
       "      <td>32100159</td>\n",
       "      <td>종합병원</td>\n",
       "      <td>137</td>\n",
       "      <td>25535</td>\n",
       "      <td>강원도 강릉시 경강로 2007(남문동 164-1)</td>\n",
       "      <td>http://www.gnmc.or.kr</td>\n",
       "      <td>033-646-6910</td>\n",
       "      <td>033-610-1415</td>\n",
       "      <td>NaN</td>\n",
       "    </tr>\n",
       "  </tbody>\n",
       "</table>\n",
       "</div>"
      ],
      "text/plain": [
       "         병원 명  설립형태                  근거 법령     관계 행정기관 관계 공공단체  심평원 요양기관번호  \\\n",
       "연번                                                                           \n",
       "1    강원도 재활병원   시도립      강원도재활병원설치및운영에관한조례         강원도    해당없음    32200641   \n",
       "2   강원도 삼척의료원  특수법인  지방의료원의 설립 및 운영에 관한 법률  보건복지부(강원도)   지방의료원    32100060   \n",
       "3   강원도 영월의료원  특수법인  지방의료원의 설립 및 운영에 관한 법률  보건복지부(강원도)   지방의료원    32100078   \n",
       "4   강원도 원주의료원  특수법인  지방의료원의 설립 및 운영에 관한 법률  보건복지부(강원도)   지방의료원    32100086   \n",
       "5   강원도 강릉의료원  특수법인  지방의료원의 설립 및 운영에 관한 법률  보건복지부(강원도)   지방의료원    32100159   \n",
       "\n",
       "    종별구분  병상수 소재지 우편번호                           주소                     홈페이지  \\\n",
       "연번                                                                             \n",
       "1     병원  165    24227      강원도 춘천시 충열로 142번길 24-16            www.grh.or.kr   \n",
       "2   종합병원  152    25920             강원도 삼척시 오십천로 418        http://ksmc.or.kr   \n",
       "3   종합병원  214    26234          강원도 영월군 영월읍 중앙1로 59  http://www.youngwol.org   \n",
       "4   종합병원  237    26448        강원도 원주시 서원대로 387(개운동)           www.kwmc.or.kr   \n",
       "5   종합병원  137    25535  강원도 강릉시 경강로 2007(남문동 164-1)    http://www.gnmc.or.kr   \n",
       "\n",
       "            대표전화           FAX   비고  \n",
       "연번                                   \n",
       "1   033-248-7700  033-248-7723  NaN  \n",
       "2   033-572-1141  033-573-8424  NaN  \n",
       "3   033-370-9117  033-370-9137  NaN  \n",
       "4   033-760-4500  033-761-5121  NaN  \n",
       "5   033-646-6910  033-610-1415  NaN  "
      ]
     },
     "execution_count": 1,
     "metadata": {},
     "output_type": "execute_result"
    }
   ],
   "source": [
    "import pandas as pd\n",
    "pd.set_option('mode.chained_assignment',  None) # Warning 방지용\n",
    "import numpy as np\n",
    "\n",
    "data = pd.read_csv('data/공공보건의료기관현황.csv', index_col=0, encoding='CP949', engine='python')\n",
    "\n",
    "data.head() #작업내용 확인용 출력"
   ]
  },
  {
   "cell_type": "code",
   "execution_count": 2,
   "metadata": {
    "tags": []
   },
   "outputs": [
    {
     "data": {
      "text/html": [
       "<div>\n",
       "<style scoped>\n",
       "    .dataframe tbody tr th:only-of-type {\n",
       "        vertical-align: middle;\n",
       "    }\n",
       "\n",
       "    .dataframe tbody tr th {\n",
       "        vertical-align: top;\n",
       "    }\n",
       "\n",
       "    .dataframe thead th {\n",
       "        text-align: right;\n",
       "    }\n",
       "</style>\n",
       "<table border=\"1\" class=\"dataframe\">\n",
       "  <thead>\n",
       "    <tr style=\"text-align: right;\">\n",
       "      <th></th>\n",
       "      <th>시도</th>\n",
       "      <th>군구</th>\n",
       "    </tr>\n",
       "  </thead>\n",
       "  <tbody>\n",
       "    <tr>\n",
       "      <th>0</th>\n",
       "      <td>강원도</td>\n",
       "      <td>춘천시</td>\n",
       "    </tr>\n",
       "    <tr>\n",
       "      <th>1</th>\n",
       "      <td>강원도</td>\n",
       "      <td>삼척시</td>\n",
       "    </tr>\n",
       "    <tr>\n",
       "      <th>2</th>\n",
       "      <td>강원도</td>\n",
       "      <td>영월군</td>\n",
       "    </tr>\n",
       "    <tr>\n",
       "      <th>3</th>\n",
       "      <td>강원도</td>\n",
       "      <td>원주시</td>\n",
       "    </tr>\n",
       "    <tr>\n",
       "      <th>4</th>\n",
       "      <td>강원도</td>\n",
       "      <td>강릉시</td>\n",
       "    </tr>\n",
       "  </tbody>\n",
       "</table>\n",
       "</div>"
      ],
      "text/plain": [
       "    시도   군구\n",
       "0  강원도  춘천시\n",
       "1  강원도  삼척시\n",
       "2  강원도  영월군\n",
       "3  강원도  원주시\n",
       "4  강원도  강릉시"
      ]
     },
     "execution_count": 2,
     "metadata": {},
     "output_type": "execute_result"
    }
   ],
   "source": [
    "## 주소에서 시도, 군구 정보 분리\n",
    "\n",
    "addr = pd.DataFrame(data['주소'].apply(lambda v: v.split()[:2]).tolist(),columns=('시도', '군구'))\n",
    "\n",
    "addr.head()  #작업내용 확인용 출력"
   ]
  },
  {
   "cell_type": "markdown",
   "metadata": {},
   "source": [
    "## 1) 시도 이름 확인하기"
   ]
  },
  {
   "cell_type": "code",
   "execution_count": 3,
   "metadata": {
    "tags": []
   },
   "outputs": [
    {
     "data": {
      "text/plain": [
       "array(['강원도', '경기도', '경기', '경남', '창원시', '경상남도', '경상북도', '경산시', '경북',\n",
       "       '인천광역시', '대구광역시', '전라남도', '대전광역시', '광주광역시', '제주특별자치도', '부산광역시',\n",
       "       '전라북도', '충북', '서울특별시', '서울시', '부산특별시', '대전시', '충남', '전남', '충청남도',\n",
       "       '울산광역시', '전북', '천안시', '충청북도'], dtype=object)"
      ]
     },
     "execution_count": 3,
     "metadata": {},
     "output_type": "execute_result"
    }
   ],
   "source": [
    "addr['시도'].unique()"
   ]
  },
  {
   "cell_type": "markdown",
   "metadata": {},
   "source": [
    "### #잘못된 시도 이름 수정 : 창원시, 경산시, 천안시"
   ]
  },
  {
   "cell_type": "markdown",
   "metadata": {},
   "source": [
    "#### (1) '창원시'를 찾아서 '경상남도 창원시'로 수정"
   ]
  },
  {
   "cell_type": "code",
   "execution_count": 4,
   "metadata": {
    "tags": []
   },
   "outputs": [
    {
     "data": {
      "text/html": [
       "<div>\n",
       "<style scoped>\n",
       "    .dataframe tbody tr th:only-of-type {\n",
       "        vertical-align: middle;\n",
       "    }\n",
       "\n",
       "    .dataframe tbody tr th {\n",
       "        vertical-align: top;\n",
       "    }\n",
       "\n",
       "    .dataframe thead th {\n",
       "        text-align: right;\n",
       "    }\n",
       "</style>\n",
       "<table border=\"1\" class=\"dataframe\">\n",
       "  <thead>\n",
       "    <tr style=\"text-align: right;\">\n",
       "      <th></th>\n",
       "      <th>시도</th>\n",
       "      <th>군구</th>\n",
       "    </tr>\n",
       "  </thead>\n",
       "  <tbody>\n",
       "    <tr>\n",
       "      <th>27</th>\n",
       "      <td>창원시</td>\n",
       "      <td>의창구</td>\n",
       "    </tr>\n",
       "    <tr>\n",
       "      <th>31</th>\n",
       "      <td>창원시</td>\n",
       "      <td>마산합포구3.15대로</td>\n",
       "    </tr>\n",
       "  </tbody>\n",
       "</table>\n",
       "</div>"
      ],
      "text/plain": [
       "     시도           군구\n",
       "27  창원시          의창구\n",
       "31  창원시  마산합포구3.15대로"
      ]
     },
     "execution_count": 4,
     "metadata": {},
     "output_type": "execute_result"
    }
   ],
   "source": [
    "addr[addr['시도'] == '창원시']"
   ]
  },
  {
   "cell_type": "code",
   "execution_count": 5,
   "metadata": {},
   "outputs": [],
   "source": [
    "## 표준 행정구역 이름으로 수정 : 창원시-> 경상남도 창원시\n",
    "addr.iloc[27] = ['경상남도', '창원시']\n",
    "addr.iloc[31] = ['경상남도', '창원시']"
   ]
  },
  {
   "cell_type": "code",
   "execution_count": 6,
   "metadata": {
    "tags": []
   },
   "outputs": [
    {
     "data": {
      "text/plain": [
       "시도    경상남도\n",
       "군구     창원시\n",
       "Name: 27, dtype: object"
      ]
     },
     "execution_count": 6,
     "metadata": {},
     "output_type": "execute_result"
    }
   ],
   "source": [
    "addr.iloc[27]"
   ]
  },
  {
   "cell_type": "code",
   "execution_count": 7,
   "metadata": {
    "tags": []
   },
   "outputs": [
    {
     "data": {
      "text/plain": [
       "시도    경상남도\n",
       "군구     창원시\n",
       "Name: 31, dtype: object"
      ]
     },
     "execution_count": 7,
     "metadata": {},
     "output_type": "execute_result"
    }
   ],
   "source": [
    "addr.iloc[31]"
   ]
  },
  {
   "cell_type": "markdown",
   "metadata": {},
   "source": [
    "#### (2) '경산시'를 찾아서 '경상북도 경산시'로 수정"
   ]
  },
  {
   "cell_type": "code",
   "execution_count": 8,
   "metadata": {
    "tags": []
   },
   "outputs": [
    {
     "data": {
      "text/html": [
       "<div>\n",
       "<style scoped>\n",
       "    .dataframe tbody tr th:only-of-type {\n",
       "        vertical-align: middle;\n",
       "    }\n",
       "\n",
       "    .dataframe tbody tr th {\n",
       "        vertical-align: top;\n",
       "    }\n",
       "\n",
       "    .dataframe thead th {\n",
       "        text-align: right;\n",
       "    }\n",
       "</style>\n",
       "<table border=\"1\" class=\"dataframe\">\n",
       "  <thead>\n",
       "    <tr style=\"text-align: right;\">\n",
       "      <th></th>\n",
       "      <th>시도</th>\n",
       "      <th>군구</th>\n",
       "    </tr>\n",
       "  </thead>\n",
       "  <tbody>\n",
       "    <tr>\n",
       "      <th>47</th>\n",
       "      <td>경산시</td>\n",
       "      <td>경안로</td>\n",
       "    </tr>\n",
       "  </tbody>\n",
       "</table>\n",
       "</div>"
      ],
      "text/plain": [
       "     시도   군구\n",
       "47  경산시  경안로"
      ]
     },
     "execution_count": 8,
     "metadata": {},
     "output_type": "execute_result"
    }
   ],
   "source": [
    "addr[addr['시도'] == '경산시']"
   ]
  },
  {
   "cell_type": "code",
   "execution_count": 9,
   "metadata": {
    "tags": []
   },
   "outputs": [
    {
     "data": {
      "text/plain": [
       "시도    경상북도\n",
       "군구     경산시\n",
       "Name: 47, dtype: object"
      ]
     },
     "execution_count": 9,
     "metadata": {},
     "output_type": "execute_result"
    }
   ],
   "source": [
    "addr.iloc[47] = ['경상북도', '경산시']\n",
    "addr.iloc[47]"
   ]
  },
  {
   "cell_type": "markdown",
   "metadata": {},
   "source": [
    "#### (3) '천안시'를 찾아서 '충청남도 천안시'로 수정"
   ]
  },
  {
   "cell_type": "code",
   "execution_count": 10,
   "metadata": {
    "tags": []
   },
   "outputs": [
    {
     "data": {
      "text/html": [
       "<div>\n",
       "<style scoped>\n",
       "    .dataframe tbody tr th:only-of-type {\n",
       "        vertical-align: middle;\n",
       "    }\n",
       "\n",
       "    .dataframe tbody tr th {\n",
       "        vertical-align: top;\n",
       "    }\n",
       "\n",
       "    .dataframe thead th {\n",
       "        text-align: right;\n",
       "    }\n",
       "</style>\n",
       "<table border=\"1\" class=\"dataframe\">\n",
       "  <thead>\n",
       "    <tr style=\"text-align: right;\">\n",
       "      <th></th>\n",
       "      <th>시도</th>\n",
       "      <th>군구</th>\n",
       "    </tr>\n",
       "  </thead>\n",
       "  <tbody>\n",
       "    <tr>\n",
       "      <th>209</th>\n",
       "      <td>천안시</td>\n",
       "      <td>동남구</td>\n",
       "    </tr>\n",
       "    <tr>\n",
       "      <th>210</th>\n",
       "      <td>천안시</td>\n",
       "      <td>동남구</td>\n",
       "    </tr>\n",
       "  </tbody>\n",
       "</table>\n",
       "</div>"
      ],
      "text/plain": [
       "      시도   군구\n",
       "209  천안시  동남구\n",
       "210  천안시  동남구"
      ]
     },
     "execution_count": 10,
     "metadata": {},
     "output_type": "execute_result"
    }
   ],
   "source": [
    "addr[addr['시도'] == '천안시']"
   ]
  },
  {
   "cell_type": "code",
   "execution_count": 11,
   "metadata": {},
   "outputs": [],
   "source": [
    "## 표준 행정구역 이름으로 수정 : 천안시-> 충청남도 천안시\n",
    "addr.iloc[209] = ['충청남도', '천안시']\n",
    "addr.iloc[210] = ['충청남도', '천안시']"
   ]
  },
  {
   "cell_type": "code",
   "execution_count": 12,
   "metadata": {
    "tags": []
   },
   "outputs": [
    {
     "data": {
      "text/plain": [
       "시도    충청남도\n",
       "군구     천안시\n",
       "Name: 209, dtype: object"
      ]
     },
     "execution_count": 12,
     "metadata": {},
     "output_type": "execute_result"
    }
   ],
   "source": [
    "addr.iloc[209]"
   ]
  },
  {
   "cell_type": "code",
   "execution_count": 13,
   "metadata": {
    "tags": []
   },
   "outputs": [
    {
     "data": {
      "text/plain": [
       "시도    충청남도\n",
       "군구     천안시\n",
       "Name: 210, dtype: object"
      ]
     },
     "execution_count": 13,
     "metadata": {},
     "output_type": "execute_result"
    }
   ],
   "source": [
    "addr.iloc[210]"
   ]
  },
  {
   "cell_type": "code",
   "execution_count": 14,
   "metadata": {},
   "outputs": [
    {
     "data": {
      "text/plain": [
       "array(['강원도', '경기도', '경기', '경남', '경상남도', '경상북도', '경북', '인천광역시', '대구광역시',\n",
       "       '전라남도', '대전광역시', '광주광역시', '제주특별자치도', '부산광역시', '전라북도', '충북',\n",
       "       '서울특별시', '서울시', '부산특별시', '대전시', '충남', '전남', '충청남도', '울산광역시', '전북',\n",
       "       '충청북도'], dtype=object)"
      ]
     },
     "execution_count": 14,
     "metadata": {},
     "output_type": "execute_result"
    }
   ],
   "source": [
    "# 작업 결과 확인하기\n",
    "addr['시도'].unique()"
   ]
  },
  {
   "cell_type": "markdown",
   "metadata": {},
   "source": [
    "### # 시도 이름을 표준이름으로 수정"
   ]
  },
  {
   "cell_type": "code",
   "execution_count": 15,
   "metadata": {},
   "outputs": [],
   "source": [
    "## 표준 행정구역 이름으로 수정 :  경기 -> 경기도, 경남 -> 경상남도, ...\n",
    "addr_aliases = {'경기':'경기도', '경남':'경상남도', '경북':'경상북도', '충북':'충청북도', \n",
    "                '서울시':'서울특별시', '부산특별시':'부산광역시', '대전시':'대전광역시', \n",
    "                '충남':'충청남도', '전남':'전라남도', '전북':'전라북도'}"
   ]
  },
  {
   "cell_type": "code",
   "execution_count": 16,
   "metadata": {},
   "outputs": [],
   "source": [
    "addr['시도']= addr['시도'].apply(lambda v: addr_aliases.get(v, v))"
   ]
  },
  {
   "cell_type": "code",
   "execution_count": 17,
   "metadata": {
    "tags": []
   },
   "outputs": [
    {
     "data": {
      "text/plain": [
       "array(['강원도', '경기도', '경상남도', '경상북도', '인천광역시', '대구광역시', '전라남도', '대전광역시',\n",
       "       '광주광역시', '제주특별자치도', '부산광역시', '전라북도', '충청북도', '서울특별시', '충청남도',\n",
       "       '울산광역시'], dtype=object)"
      ]
     },
     "execution_count": 17,
     "metadata": {},
     "output_type": "execute_result"
    }
   ],
   "source": [
    "# 작업 결과 확인하기\n",
    "addr['시도'].unique()"
   ]
  },
  {
   "cell_type": "markdown",
   "metadata": {},
   "source": [
    "## 2) 군구 이름 확인하기 "
   ]
  },
  {
   "cell_type": "code",
   "execution_count": 18,
   "metadata": {
    "tags": []
   },
   "outputs": [
    {
     "data": {
      "text/plain": [
       "array(['춘천시', '삼척시', '영월군', '원주시', '강릉시', '속초시', '정선군', '수원시', '이천시',\n",
       "       '안성시', '의정부시', '포천시', '파주시', '용인시', '평택시', '시흥시', '여주시', '남양주시',\n",
       "       '동두천시', '안산시', '부천시', '통영시', '사천시', '창원시', '김해시', '양산시', '거창군',\n",
       "       '남해군', '의령군', '포항시', '김천시', '안동시', '울진군', '경주시', '구미시', '영주시',\n",
       "       '상주시', '문경시', '경산시', '의성군', '청도군', '고령군', '칠곡군', '봉화군', '울릉군',\n",
       "       '부평구', '북구', '순천시', '대덕구', '태백시', '동해시', '화성시', '광산구', '남구', '중구',\n",
       "       '아란13길', '서구', '전주시', '진주시', '청주시', '종로구', '성남시', '동구', '화순군',\n",
       "       '강동구', '사상구', '달서구', '해운대구', '유성구', '가평군', '양주시', '고양시', '홍천군',\n",
       "       '양구군', '청원군', '계룡시', '논산시', '함평군', '양평군', '수성구', '달성군', '연수구',\n",
       "       '노원구', '기장군', '공주시', '강북구', '광진구', '나주시', '창녕군', '목포시', '고흥군',\n",
       "       '연제구', '동매로', '서초구', '은평구', '중랑구', '강남구', '동작구', '동대문구', '양천구',\n",
       "       '성동구', '송파구', '울주군', '계양구', '옹진군', '보성군', '광양시', '영광군', '무안군',\n",
       "       '진도군', '강진군', '곡성군', '여수시', '신안군', '장성군', '완주군', '부안군', '정읍시',\n",
       "       '남원시', '군산시', '고창군', '진안군', '제주시', '서귀포시', '천안시', '보령시', '서산시',\n",
       "       '서천군', '홍성군', '제천시', '충주시', '영동군', '단양군'], dtype=object)"
      ]
     },
     "execution_count": 18,
     "metadata": {},
     "output_type": "execute_result"
    }
   ],
   "source": [
    "addr['군구'].unique()"
   ]
  },
  {
   "cell_type": "markdown",
   "metadata": {},
   "source": [
    "### # 잘못된 군구 이름 수정하기 "
   ]
  },
  {
   "cell_type": "markdown",
   "metadata": {},
   "source": [
    "#### (1) '아란13길' 을 '제주특별자치도'  '제주시'로 수정"
   ]
  },
  {
   "cell_type": "code",
   "execution_count": 19,
   "metadata": {},
   "outputs": [
    {
     "data": {
      "text/html": [
       "<div>\n",
       "<style scoped>\n",
       "    .dataframe tbody tr th:only-of-type {\n",
       "        vertical-align: middle;\n",
       "    }\n",
       "\n",
       "    .dataframe tbody tr th {\n",
       "        vertical-align: top;\n",
       "    }\n",
       "\n",
       "    .dataframe thead th {\n",
       "        text-align: right;\n",
       "    }\n",
       "</style>\n",
       "<table border=\"1\" class=\"dataframe\">\n",
       "  <thead>\n",
       "    <tr style=\"text-align: right;\">\n",
       "      <th></th>\n",
       "      <th>시도</th>\n",
       "      <th>군구</th>\n",
       "    </tr>\n",
       "  </thead>\n",
       "  <tbody>\n",
       "    <tr>\n",
       "      <th>75</th>\n",
       "      <td>제주특별자치도</td>\n",
       "      <td>아란13길</td>\n",
       "    </tr>\n",
       "  </tbody>\n",
       "</table>\n",
       "</div>"
      ],
      "text/plain": [
       "         시도     군구\n",
       "75  제주특별자치도  아란13길"
      ]
     },
     "execution_count": 19,
     "metadata": {},
     "output_type": "execute_result"
    }
   ],
   "source": [
    "addr[addr['군구'] == '아란13길']"
   ]
  },
  {
   "cell_type": "code",
   "execution_count": 20,
   "metadata": {
    "tags": []
   },
   "outputs": [
    {
     "data": {
      "text/plain": [
       "시도    제주특별자치도\n",
       "군구        제주시\n",
       "Name: 75, dtype: object"
      ]
     },
     "execution_count": 20,
     "metadata": {},
     "output_type": "execute_result"
    }
   ],
   "source": [
    "addr.iloc[75] = ['제주특별자치도', '제주시']\n",
    "addr.iloc[75]"
   ]
  },
  {
   "cell_type": "code",
   "execution_count": 21,
   "metadata": {
    "tags": []
   },
   "outputs": [
    {
     "data": {
      "text/plain": [
       "array(['춘천시', '삼척시', '영월군', '원주시', '강릉시', '속초시', '정선군', '수원시', '이천시',\n",
       "       '안성시', '의정부시', '포천시', '파주시', '용인시', '평택시', '시흥시', '여주시', '남양주시',\n",
       "       '동두천시', '안산시', '부천시', '통영시', '사천시', '창원시', '김해시', '양산시', '거창군',\n",
       "       '남해군', '의령군', '포항시', '김천시', '안동시', '울진군', '경주시', '구미시', '영주시',\n",
       "       '상주시', '문경시', '경산시', '의성군', '청도군', '고령군', '칠곡군', '봉화군', '울릉군',\n",
       "       '부평구', '북구', '순천시', '대덕구', '태백시', '동해시', '화성시', '광산구', '남구', '중구',\n",
       "       '제주시', '서구', '전주시', '진주시', '청주시', '종로구', '성남시', '동구', '화순군', '강동구',\n",
       "       '사상구', '달서구', '해운대구', '유성구', '가평군', '양주시', '고양시', '홍천군', '양구군',\n",
       "       '청원군', '계룡시', '논산시', '함평군', '양평군', '수성구', '달성군', '연수구', '노원구',\n",
       "       '기장군', '공주시', '강북구', '광진구', '나주시', '창녕군', '목포시', '고흥군', '연제구',\n",
       "       '동매로', '서초구', '은평구', '중랑구', '강남구', '동작구', '동대문구', '양천구', '성동구',\n",
       "       '송파구', '울주군', '계양구', '옹진군', '보성군', '광양시', '영광군', '무안군', '진도군',\n",
       "       '강진군', '곡성군', '여수시', '신안군', '장성군', '완주군', '부안군', '정읍시', '남원시',\n",
       "       '군산시', '고창군', '진안군', '서귀포시', '천안시', '보령시', '서산시', '서천군', '홍성군',\n",
       "       '제천시', '충주시', '영동군', '단양군'], dtype=object)"
      ]
     },
     "execution_count": 21,
     "metadata": {},
     "output_type": "execute_result"
    }
   ],
   "source": [
    "addr['군구'].unique()"
   ]
  },
  {
   "cell_type": "markdown",
   "metadata": {},
   "source": [
    "## 3) 행정구역별 공공보건의료기관의 수 구하기"
   ]
  },
  {
   "cell_type": "markdown",
   "metadata": {},
   "source": [
    "### (1) '시도' 와 '군구' 컬럼 결합하기"
   ]
  },
  {
   "cell_type": "code",
   "execution_count": 22,
   "metadata": {
    "tags": []
   },
   "outputs": [
    {
     "data": {
      "text/html": [
       "<div>\n",
       "<style scoped>\n",
       "    .dataframe tbody tr th:only-of-type {\n",
       "        vertical-align: middle;\n",
       "    }\n",
       "\n",
       "    .dataframe tbody tr th {\n",
       "        vertical-align: top;\n",
       "    }\n",
       "\n",
       "    .dataframe thead th {\n",
       "        text-align: right;\n",
       "    }\n",
       "</style>\n",
       "<table border=\"1\" class=\"dataframe\">\n",
       "  <thead>\n",
       "    <tr style=\"text-align: right;\">\n",
       "      <th></th>\n",
       "      <th>시도</th>\n",
       "      <th>군구</th>\n",
       "      <th>시도군구</th>\n",
       "    </tr>\n",
       "  </thead>\n",
       "  <tbody>\n",
       "    <tr>\n",
       "      <th>0</th>\n",
       "      <td>강원도</td>\n",
       "      <td>춘천시</td>\n",
       "      <td>강원도 춘천시</td>\n",
       "    </tr>\n",
       "    <tr>\n",
       "      <th>1</th>\n",
       "      <td>강원도</td>\n",
       "      <td>삼척시</td>\n",
       "      <td>강원도 삼척시</td>\n",
       "    </tr>\n",
       "    <tr>\n",
       "      <th>2</th>\n",
       "      <td>강원도</td>\n",
       "      <td>영월군</td>\n",
       "      <td>강원도 영월군</td>\n",
       "    </tr>\n",
       "    <tr>\n",
       "      <th>3</th>\n",
       "      <td>강원도</td>\n",
       "      <td>원주시</td>\n",
       "      <td>강원도 원주시</td>\n",
       "    </tr>\n",
       "    <tr>\n",
       "      <th>4</th>\n",
       "      <td>강원도</td>\n",
       "      <td>강릉시</td>\n",
       "      <td>강원도 강릉시</td>\n",
       "    </tr>\n",
       "  </tbody>\n",
       "</table>\n",
       "</div>"
      ],
      "text/plain": [
       "    시도   군구     시도군구\n",
       "0  강원도  춘천시  강원도 춘천시\n",
       "1  강원도  삼척시  강원도 삼척시\n",
       "2  강원도  영월군  강원도 영월군\n",
       "3  강원도  원주시  강원도 원주시\n",
       "4  강원도  강릉시  강원도 강릉시"
      ]
     },
     "execution_count": 22,
     "metadata": {},
     "output_type": "execute_result"
    }
   ],
   "source": [
    "addr['시도군구'] = addr.apply(lambda r: r['시도'] + ' ' + r['군구'], axis=1)\n",
    "addr.head() #작업 확인용 출력"
   ]
  },
  {
   "cell_type": "code",
   "execution_count": 23,
   "metadata": {
    "scrolled": true
   },
   "outputs": [
    {
     "data": {
      "text/html": [
       "<div>\n",
       "<style scoped>\n",
       "    .dataframe tbody tr th:only-of-type {\n",
       "        vertical-align: middle;\n",
       "    }\n",
       "\n",
       "    .dataframe tbody tr th {\n",
       "        vertical-align: top;\n",
       "    }\n",
       "\n",
       "    .dataframe thead th {\n",
       "        text-align: right;\n",
       "    }\n",
       "</style>\n",
       "<table border=\"1\" class=\"dataframe\">\n",
       "  <thead>\n",
       "    <tr style=\"text-align: right;\">\n",
       "      <th></th>\n",
       "      <th>시도</th>\n",
       "      <th>군구</th>\n",
       "      <th>시도군구</th>\n",
       "      <th>count</th>\n",
       "    </tr>\n",
       "  </thead>\n",
       "  <tbody>\n",
       "    <tr>\n",
       "      <th>0</th>\n",
       "      <td>강원도</td>\n",
       "      <td>춘천시</td>\n",
       "      <td>강원도 춘천시</td>\n",
       "      <td>0</td>\n",
       "    </tr>\n",
       "    <tr>\n",
       "      <th>1</th>\n",
       "      <td>강원도</td>\n",
       "      <td>삼척시</td>\n",
       "      <td>강원도 삼척시</td>\n",
       "      <td>0</td>\n",
       "    </tr>\n",
       "    <tr>\n",
       "      <th>2</th>\n",
       "      <td>강원도</td>\n",
       "      <td>영월군</td>\n",
       "      <td>강원도 영월군</td>\n",
       "      <td>0</td>\n",
       "    </tr>\n",
       "    <tr>\n",
       "      <th>3</th>\n",
       "      <td>강원도</td>\n",
       "      <td>원주시</td>\n",
       "      <td>강원도 원주시</td>\n",
       "      <td>0</td>\n",
       "    </tr>\n",
       "    <tr>\n",
       "      <th>4</th>\n",
       "      <td>강원도</td>\n",
       "      <td>강릉시</td>\n",
       "      <td>강원도 강릉시</td>\n",
       "      <td>0</td>\n",
       "    </tr>\n",
       "  </tbody>\n",
       "</table>\n",
       "</div>"
      ],
      "text/plain": [
       "    시도   군구     시도군구  count\n",
       "0  강원도  춘천시  강원도 춘천시      0\n",
       "1  강원도  삼척시  강원도 삼척시      0\n",
       "2  강원도  영월군  강원도 영월군      0\n",
       "3  강원도  원주시  강원도 원주시      0\n",
       "4  강원도  강릉시  강원도 강릉시      0"
      ]
     },
     "execution_count": 23,
     "metadata": {},
     "output_type": "execute_result"
    }
   ],
   "source": [
    "addr['count'] = 0  # 의료기관수 합계를 저장할 컬럼 만들기\n",
    "addr.head() #작업 확인용 출력"
   ]
  },
  {
   "cell_type": "code",
   "execution_count": 24,
   "metadata": {
    "tags": []
   },
   "outputs": [
    {
     "data": {
      "text/html": [
       "<div>\n",
       "<style scoped>\n",
       "    .dataframe tbody tr th:only-of-type {\n",
       "        vertical-align: middle;\n",
       "    }\n",
       "\n",
       "    .dataframe tbody tr th {\n",
       "        vertical-align: top;\n",
       "    }\n",
       "\n",
       "    .dataframe thead th {\n",
       "        text-align: right;\n",
       "    }\n",
       "</style>\n",
       "<table border=\"1\" class=\"dataframe\">\n",
       "  <thead>\n",
       "    <tr style=\"text-align: right;\">\n",
       "      <th></th>\n",
       "      <th>시도</th>\n",
       "      <th>군구</th>\n",
       "      <th>시도군구</th>\n",
       "      <th>count</th>\n",
       "    </tr>\n",
       "  </thead>\n",
       "  <tbody>\n",
       "    <tr>\n",
       "      <th>0</th>\n",
       "      <td>강원도</td>\n",
       "      <td>춘천시</td>\n",
       "      <td>강원도 춘천시</td>\n",
       "      <td>0</td>\n",
       "    </tr>\n",
       "    <tr>\n",
       "      <th>6</th>\n",
       "      <td>강원도</td>\n",
       "      <td>춘천시</td>\n",
       "      <td>강원도 춘천시</td>\n",
       "      <td>0</td>\n",
       "    </tr>\n",
       "    <tr>\n",
       "      <th>69</th>\n",
       "      <td>강원도</td>\n",
       "      <td>춘천시</td>\n",
       "      <td>강원도 춘천시</td>\n",
       "      <td>0</td>\n",
       "    </tr>\n",
       "    <tr>\n",
       "      <th>105</th>\n",
       "      <td>강원도</td>\n",
       "      <td>춘천시</td>\n",
       "      <td>강원도 춘천시</td>\n",
       "      <td>0</td>\n",
       "    </tr>\n",
       "    <tr>\n",
       "      <th>142</th>\n",
       "      <td>강원도</td>\n",
       "      <td>춘천시</td>\n",
       "      <td>강원도 춘천시</td>\n",
       "      <td>0</td>\n",
       "    </tr>\n",
       "  </tbody>\n",
       "</table>\n",
       "</div>"
      ],
      "text/plain": [
       "      시도   군구     시도군구  count\n",
       "0    강원도  춘천시  강원도 춘천시      0\n",
       "6    강원도  춘천시  강원도 춘천시      0\n",
       "69   강원도  춘천시  강원도 춘천시      0\n",
       "105  강원도  춘천시  강원도 춘천시      0\n",
       "142  강원도  춘천시  강원도 춘천시      0"
      ]
     },
     "execution_count": 24,
     "metadata": {},
     "output_type": "execute_result"
    }
   ],
   "source": [
    "addr.loc[addr['시도군구']=='강원도 춘천시',:]"
   ]
  },
  {
   "cell_type": "markdown",
   "metadata": {},
   "source": [
    "### (2) '시도군구' 를 기준으로 그룹을 만들고, 그룹별 의료기관수 합계 구하기"
   ]
  },
  {
   "cell_type": "code",
   "execution_count": 25,
   "metadata": {
    "scrolled": true,
    "tags": []
   },
   "outputs": [
    {
     "data": {
      "text/html": [
       "<div>\n",
       "<style scoped>\n",
       "    .dataframe tbody tr th:only-of-type {\n",
       "        vertical-align: middle;\n",
       "    }\n",
       "\n",
       "    .dataframe tbody tr th {\n",
       "        vertical-align: top;\n",
       "    }\n",
       "\n",
       "    .dataframe thead th {\n",
       "        text-align: right;\n",
       "    }\n",
       "</style>\n",
       "<table border=\"1\" class=\"dataframe\">\n",
       "  <thead>\n",
       "    <tr style=\"text-align: right;\">\n",
       "      <th></th>\n",
       "      <th>시도</th>\n",
       "      <th>군구</th>\n",
       "      <th>시도군구</th>\n",
       "      <th>count</th>\n",
       "    </tr>\n",
       "  </thead>\n",
       "  <tbody>\n",
       "    <tr>\n",
       "      <th>0</th>\n",
       "      <td>강원도</td>\n",
       "      <td>강릉시</td>\n",
       "      <td>강원도 강릉시</td>\n",
       "      <td>4</td>\n",
       "    </tr>\n",
       "    <tr>\n",
       "      <th>1</th>\n",
       "      <td>강원도</td>\n",
       "      <td>동해시</td>\n",
       "      <td>강원도 동해시</td>\n",
       "      <td>1</td>\n",
       "    </tr>\n",
       "    <tr>\n",
       "      <th>2</th>\n",
       "      <td>강원도</td>\n",
       "      <td>삼척시</td>\n",
       "      <td>강원도 삼척시</td>\n",
       "      <td>1</td>\n",
       "    </tr>\n",
       "    <tr>\n",
       "      <th>3</th>\n",
       "      <td>강원도</td>\n",
       "      <td>속초시</td>\n",
       "      <td>강원도 속초시</td>\n",
       "      <td>1</td>\n",
       "    </tr>\n",
       "    <tr>\n",
       "      <th>4</th>\n",
       "      <td>강원도</td>\n",
       "      <td>양구군</td>\n",
       "      <td>강원도 양구군</td>\n",
       "      <td>1</td>\n",
       "    </tr>\n",
       "  </tbody>\n",
       "</table>\n",
       "</div>"
      ],
      "text/plain": [
       "    시도   군구     시도군구  count\n",
       "0  강원도  강릉시  강원도 강릉시      4\n",
       "1  강원도  동해시  강원도 동해시      1\n",
       "2  강원도  삼척시  강원도 삼척시      1\n",
       "3  강원도  속초시  강원도 속초시      1\n",
       "4  강원도  양구군  강원도 양구군      1"
      ]
     },
     "execution_count": 25,
     "metadata": {},
     "output_type": "execute_result"
    }
   ],
   "source": [
    "addr_group =pd.DataFrame(addr.groupby(['시도', '군구', '시도군구'], as_index=False).count())\n",
    "addr_group.head()  #작업 확인용 출력"
   ]
  },
  {
   "cell_type": "markdown",
   "metadata": {},
   "source": [
    "### (3) 데이터 병합에 사용할 인덱스 설정하기"
   ]
  },
  {
   "cell_type": "code",
   "execution_count": 26,
   "metadata": {
    "tags": []
   },
   "outputs": [
    {
     "data": {
      "text/html": [
       "<div>\n",
       "<style scoped>\n",
       "    .dataframe tbody tr th:only-of-type {\n",
       "        vertical-align: middle;\n",
       "    }\n",
       "\n",
       "    .dataframe tbody tr th {\n",
       "        vertical-align: top;\n",
       "    }\n",
       "\n",
       "    .dataframe thead th {\n",
       "        text-align: right;\n",
       "    }\n",
       "</style>\n",
       "<table border=\"1\" class=\"dataframe\">\n",
       "  <thead>\n",
       "    <tr style=\"text-align: right;\">\n",
       "      <th></th>\n",
       "      <th>시도</th>\n",
       "      <th>군구</th>\n",
       "      <th>count</th>\n",
       "    </tr>\n",
       "    <tr>\n",
       "      <th>시도군구</th>\n",
       "      <th></th>\n",
       "      <th></th>\n",
       "      <th></th>\n",
       "    </tr>\n",
       "  </thead>\n",
       "  <tbody>\n",
       "    <tr>\n",
       "      <th>강원도 강릉시</th>\n",
       "      <td>강원도</td>\n",
       "      <td>강릉시</td>\n",
       "      <td>4</td>\n",
       "    </tr>\n",
       "    <tr>\n",
       "      <th>강원도 동해시</th>\n",
       "      <td>강원도</td>\n",
       "      <td>동해시</td>\n",
       "      <td>1</td>\n",
       "    </tr>\n",
       "    <tr>\n",
       "      <th>강원도 삼척시</th>\n",
       "      <td>강원도</td>\n",
       "      <td>삼척시</td>\n",
       "      <td>1</td>\n",
       "    </tr>\n",
       "    <tr>\n",
       "      <th>강원도 속초시</th>\n",
       "      <td>강원도</td>\n",
       "      <td>속초시</td>\n",
       "      <td>1</td>\n",
       "    </tr>\n",
       "    <tr>\n",
       "      <th>강원도 양구군</th>\n",
       "      <td>강원도</td>\n",
       "      <td>양구군</td>\n",
       "      <td>1</td>\n",
       "    </tr>\n",
       "  </tbody>\n",
       "</table>\n",
       "</div>"
      ],
      "text/plain": [
       "          시도   군구  count\n",
       "시도군구                    \n",
       "강원도 강릉시  강원도  강릉시      4\n",
       "강원도 동해시  강원도  동해시      1\n",
       "강원도 삼척시  강원도  삼척시      1\n",
       "강원도 속초시  강원도  속초시      1\n",
       "강원도 양구군  강원도  양구군      1"
      ]
     },
     "execution_count": 26,
     "metadata": {},
     "output_type": "execute_result"
    }
   ],
   "source": [
    "addr_group = addr_group.set_index(\"시도군구\")\n",
    "addr_group.head()   #작업 확인용 출력"
   ]
  },
  {
   "cell_type": "markdown",
   "metadata": {},
   "source": [
    "## 4) 행정구역 인구수 컬럼 추가하기"
   ]
  },
  {
   "cell_type": "markdown",
   "metadata": {},
   "source": [
    "####   (1) 행정구역 이름 데이터 불러오기 : 행정구역_시군구_별__성별_인구수_2.xlsx"
   ]
  },
  {
   "cell_type": "code",
   "execution_count": 27,
   "metadata": {
    "tags": []
   },
   "outputs": [
    {
     "data": {
      "text/html": [
       "<div>\n",
       "<style scoped>\n",
       "    .dataframe tbody tr th:only-of-type {\n",
       "        vertical-align: middle;\n",
       "    }\n",
       "\n",
       "    .dataframe tbody tr th {\n",
       "        vertical-align: top;\n",
       "    }\n",
       "\n",
       "    .dataframe thead th {\n",
       "        text-align: right;\n",
       "    }\n",
       "</style>\n",
       "<table border=\"1\" class=\"dataframe\">\n",
       "  <thead>\n",
       "    <tr style=\"text-align: right;\">\n",
       "      <th></th>\n",
       "      <th>행정구역(시군구)별</th>\n",
       "      <th>행정구역(시군구)별.1</th>\n",
       "      <th>총인구수 (명)</th>\n",
       "      <th>남자인구수 (명)</th>\n",
       "      <th>여자인구수 (명)</th>\n",
       "    </tr>\n",
       "  </thead>\n",
       "  <tbody>\n",
       "    <tr>\n",
       "      <th>0</th>\n",
       "      <td>전국</td>\n",
       "      <td>소계</td>\n",
       "      <td>51583722</td>\n",
       "      <td>25715591</td>\n",
       "      <td>25868131</td>\n",
       "    </tr>\n",
       "    <tr>\n",
       "      <th>1</th>\n",
       "      <td>서울특별시</td>\n",
       "      <td>소계</td>\n",
       "      <td>9496887</td>\n",
       "      <td>4607440</td>\n",
       "      <td>4889447</td>\n",
       "    </tr>\n",
       "    <tr>\n",
       "      <th>2</th>\n",
       "      <td>서울특별시</td>\n",
       "      <td>종로구</td>\n",
       "      <td>143850</td>\n",
       "      <td>69638</td>\n",
       "      <td>74212</td>\n",
       "    </tr>\n",
       "    <tr>\n",
       "      <th>3</th>\n",
       "      <td>서울특별시</td>\n",
       "      <td>중구</td>\n",
       "      <td>122054</td>\n",
       "      <td>59368</td>\n",
       "      <td>62686</td>\n",
       "    </tr>\n",
       "    <tr>\n",
       "      <th>4</th>\n",
       "      <td>서울특별시</td>\n",
       "      <td>용산구</td>\n",
       "      <td>222083</td>\n",
       "      <td>106666</td>\n",
       "      <td>115417</td>\n",
       "    </tr>\n",
       "  </tbody>\n",
       "</table>\n",
       "</div>"
      ],
      "text/plain": [
       "  행정구역(시군구)별 행정구역(시군구)별.1  총인구수 (명)  남자인구수 (명)  여자인구수 (명)\n",
       "0         전국           소계  51583722   25715591   25868131\n",
       "1      서울특별시           소계   9496887    4607440    4889447\n",
       "2      서울특별시       　　　종로구    143850      69638      74212\n",
       "3      서울특별시        　　　중구    122054      59368      62686\n",
       "4      서울특별시       　　　용산구    222083     106666     115417"
      ]
     },
     "execution_count": 27,
     "metadata": {},
     "output_type": "execute_result"
    }
   ],
   "source": [
    "population = pd.read_excel('data/행정구역_시군구_별__성별_인구수.xlsx')\n",
    "population.head()    #작업 확인용 출력"
   ]
  },
  {
   "cell_type": "code",
   "execution_count": 30,
   "metadata": {
    "tags": []
   },
   "outputs": [
    {
     "data": {
      "text/html": [
       "<div>\n",
       "<style scoped>\n",
       "    .dataframe tbody tr th:only-of-type {\n",
       "        vertical-align: middle;\n",
       "    }\n",
       "\n",
       "    .dataframe tbody tr th {\n",
       "        vertical-align: top;\n",
       "    }\n",
       "\n",
       "    .dataframe thead th {\n",
       "        text-align: right;\n",
       "    }\n",
       "</style>\n",
       "<table border=\"1\" class=\"dataframe\">\n",
       "  <thead>\n",
       "    <tr style=\"text-align: right;\">\n",
       "      <th></th>\n",
       "      <th>시도</th>\n",
       "      <th>군구</th>\n",
       "      <th>총인구수 (명)</th>\n",
       "      <th>남자인구수 (명)</th>\n",
       "      <th>여자인구수 (명)</th>\n",
       "    </tr>\n",
       "  </thead>\n",
       "  <tbody>\n",
       "    <tr>\n",
       "      <th>0</th>\n",
       "      <td>전국</td>\n",
       "      <td>소계</td>\n",
       "      <td>51583722</td>\n",
       "      <td>25715591</td>\n",
       "      <td>25868131</td>\n",
       "    </tr>\n",
       "    <tr>\n",
       "      <th>1</th>\n",
       "      <td>서울특별시</td>\n",
       "      <td>소계</td>\n",
       "      <td>9496887</td>\n",
       "      <td>4607440</td>\n",
       "      <td>4889447</td>\n",
       "    </tr>\n",
       "    <tr>\n",
       "      <th>2</th>\n",
       "      <td>서울특별시</td>\n",
       "      <td>종로구</td>\n",
       "      <td>143850</td>\n",
       "      <td>69638</td>\n",
       "      <td>74212</td>\n",
       "    </tr>\n",
       "    <tr>\n",
       "      <th>3</th>\n",
       "      <td>서울특별시</td>\n",
       "      <td>중구</td>\n",
       "      <td>122054</td>\n",
       "      <td>59368</td>\n",
       "      <td>62686</td>\n",
       "    </tr>\n",
       "    <tr>\n",
       "      <th>4</th>\n",
       "      <td>서울특별시</td>\n",
       "      <td>용산구</td>\n",
       "      <td>222083</td>\n",
       "      <td>106666</td>\n",
       "      <td>115417</td>\n",
       "    </tr>\n",
       "  </tbody>\n",
       "</table>\n",
       "</div>"
      ],
      "text/plain": [
       "      시도      군구  총인구수 (명)  남자인구수 (명)  여자인구수 (명)\n",
       "0     전국      소계  51583722   25715591   25868131\n",
       "1  서울특별시      소계   9496887    4607440    4889447\n",
       "2  서울특별시  　　　종로구    143850      69638      74212\n",
       "3  서울특별시   　　　중구    122054      59368      62686\n",
       "4  서울특별시  　　　용산구    222083     106666     115417"
      ]
     },
     "execution_count": 30,
     "metadata": {},
     "output_type": "execute_result"
    }
   ],
   "source": [
    "population = population.rename(columns = {'행정구역(시군구)별': '시도', \n",
    "                                          '행정구역(시군구)별.1': '군구'}) #컬럼이름 변경\n",
    "population.head()  #작업 확인용 출력"
   ]
  },
  {
   "cell_type": "markdown",
   "metadata": {},
   "source": [
    "####   (2) 병합에 사용할 공통 컬럼 '시도군구' 추가하기"
   ]
  },
  {
   "cell_type": "code",
   "execution_count": 31,
   "metadata": {
    "collapsed": true,
    "jupyter": {
     "outputs_hidden": true
    },
    "tags": []
   },
   "outputs": [
    {
     "name": "stdout",
     "output_type": "stream",
     "text": [
      "소계\n",
      "소계\n",
      "종로구\n",
      "중구\n",
      "용산구\n",
      "성동구\n",
      "광진구\n",
      "동대문구\n",
      "중랑구\n",
      "성북구\n",
      "강북구\n",
      "도봉구\n",
      "노원구\n",
      "은평구\n",
      "서대문구\n",
      "마포구\n",
      "양천구\n",
      "강서구\n",
      "구로구\n",
      "금천구\n",
      "영등포구\n",
      "동작구\n",
      "관악구\n",
      "서초구\n",
      "강남구\n",
      "송파구\n",
      "강동구\n",
      "소계\n",
      "중구\n",
      "서구\n",
      "동구\n",
      "영도구\n",
      "부산진구\n",
      "동래구\n",
      "남구\n",
      "북구\n",
      "해운대구\n",
      "사하구\n",
      "금정구\n",
      "강서구\n",
      "연제구\n",
      "수영구\n",
      "사상구\n",
      "기장군\n",
      "소계\n",
      "중구\n",
      "동구\n",
      "서구\n",
      "남구\n",
      "북구\n",
      "수성구\n",
      "달서구\n",
      "달성군\n",
      "소계\n",
      "중구\n",
      "중구영종출장소\n",
      "중구용유출장소\n",
      "동구\n",
      "미추홀구\n",
      "연수구\n",
      "남동구\n",
      "부평구\n",
      "계양구\n",
      "서구\n",
      "서구검단출장소\n",
      "강화군\n",
      "옹진군\n",
      "소계\n",
      "동구\n",
      "서구\n",
      "남구\n",
      "북구\n",
      "광산구\n",
      "소계\n",
      "동구\n",
      "중구\n",
      "서구\n",
      "유성구\n",
      "대덕구\n",
      "소계\n",
      "중구\n",
      "남구\n",
      "동구\n",
      "북구\n",
      "울주군\n",
      "소계\n",
      "세종시\n",
      "소계\n",
      "수원시\n",
      "장안구\n",
      "권선구\n",
      "팔달구\n",
      "영통구\n",
      "성남시\n",
      "수정구\n",
      "중원구\n",
      "분당구\n",
      "의정부시\n",
      "안양시\n",
      "만안구\n",
      "동안구\n",
      "부천시\n",
      "광명시\n",
      "평택시\n",
      "송탄출장소\n",
      "안중출장소\n",
      "동두천시\n",
      "안산시\n",
      "상록구\n",
      "단원구\n",
      "고양시\n",
      "덕양구\n",
      "일산동구\n",
      "일산서구\n",
      "과천시\n",
      "구리시\n",
      "남양주시\n",
      "풍양출장소\n",
      "오산시\n",
      "시흥시\n",
      "군포시\n",
      "의왕시\n",
      "하남시\n",
      "용인시\n",
      "처인구\n",
      "기흥구\n",
      "수지구\n",
      "파주시\n",
      "이천시\n",
      "안성시\n",
      "김포시\n",
      "화성시\n",
      "화성시동부출장소\n",
      "화성시동탄출장소\n",
      "광주시\n",
      "양주시\n",
      "포천시\n",
      "여주시\n",
      "연천군\n",
      "가평군\n",
      "양평군\n",
      "소계\n",
      "춘천시\n",
      "원주시\n",
      "강릉시\n",
      "동해시\n",
      "태백시\n",
      "속초시\n",
      "삼척시\n",
      "홍천군\n",
      "횡성군\n",
      "영월군\n",
      "평창군\n",
      "정선군\n",
      "철원군\n",
      "화천군\n",
      "양구군\n",
      "인제군\n",
      "고성군\n",
      "양양군\n",
      "소계\n",
      "청주시\n",
      "서원구\n",
      "청원구\n",
      "상당구\n",
      "흥덕구\n",
      "충주시\n",
      "제천시\n",
      "보은군\n",
      "옥천군\n",
      "영동군\n",
      "증평군\n",
      "진천군\n",
      "괴산군\n",
      "음성군\n",
      "단양군\n",
      "소계\n",
      "당진시\n",
      "천안시\n",
      "동남구\n",
      "서북구\n",
      "공주시\n",
      "보령시\n",
      "아산시\n",
      "서산시\n",
      "논산시\n",
      "계룡시\n",
      "금산군\n",
      "부여군\n",
      "서천군\n",
      "청양군\n",
      "홍성군\n",
      "예산군\n",
      "태안군\n",
      "소계\n",
      "전주시\n",
      "완산구\n",
      "덕진구\n",
      "전주시효자출장소\n",
      "군산시\n",
      "익산시\n",
      "익산시함열출장소\n",
      "정읍시\n",
      "남원시\n",
      "김제시\n",
      "완주군\n",
      "진안군\n",
      "무주군\n",
      "장수군\n",
      "임실군\n",
      "순창군\n",
      "고창군\n",
      "부안군\n",
      "소계\n",
      "목포시\n",
      "여수시\n",
      "순천시\n",
      "나주시\n",
      "광양시\n",
      "담양군\n",
      "곡성군\n",
      "구례군\n",
      "고흥군\n",
      "보성군\n",
      "화순군\n",
      "장흥군\n",
      "강진군\n",
      "해남군\n",
      "영암군\n",
      "무안군\n",
      "함평군\n",
      "영광군\n",
      "장성군\n",
      "완도군\n",
      "진도군\n",
      "신안군\n",
      "소계\n",
      "포항시\n",
      "남구\n",
      "북구\n",
      "경주시\n",
      "김천시\n",
      "안동시\n",
      "구미시\n",
      "영주시\n",
      "영천시\n",
      "상주시\n",
      "문경시\n",
      "경산시\n",
      "군위군\n",
      "의성군\n",
      "청송군\n",
      "영양군\n",
      "영덕군\n",
      "청도군\n",
      "고령군\n",
      "성주군\n",
      "칠곡군\n",
      "예천군\n",
      "봉화군\n",
      "울진군\n",
      "울릉군\n",
      "소계\n",
      "창원시\n",
      "의창구\n",
      "성산구\n",
      "마산합포구\n",
      "마산회원구\n",
      "진해구\n",
      "진주시\n",
      "통영시\n",
      "사천시\n",
      "사천남양출장소\n",
      "김해시\n",
      "장유출장소\n",
      "밀양시\n",
      "거제시\n",
      "양산시\n",
      "양산시웅상출장소\n",
      "의령군\n",
      "함안군\n",
      "창녕군\n",
      "고성군\n",
      "남해군\n",
      "하동군\n",
      "산청군\n",
      "함양군\n",
      "거창군\n",
      "합천군\n",
      "소계\n",
      "제주시\n",
      "서귀포시\n"
     ]
    }
   ],
   "source": [
    "# '군구' 컬럼에서 공백 제거하기\n",
    "for element in range(0,len(population)):\n",
    "    population['군구'][element] = population['군구'][element].strip()\n",
    "    print(population['군구'][element])  "
   ]
  },
  {
   "cell_type": "code",
   "execution_count": 32,
   "metadata": {
    "tags": []
   },
   "outputs": [
    {
     "data": {
      "text/html": [
       "<div>\n",
       "<style scoped>\n",
       "    .dataframe tbody tr th:only-of-type {\n",
       "        vertical-align: middle;\n",
       "    }\n",
       "\n",
       "    .dataframe tbody tr th {\n",
       "        vertical-align: top;\n",
       "    }\n",
       "\n",
       "    .dataframe thead th {\n",
       "        text-align: right;\n",
       "    }\n",
       "</style>\n",
       "<table border=\"1\" class=\"dataframe\">\n",
       "  <thead>\n",
       "    <tr style=\"text-align: right;\">\n",
       "      <th></th>\n",
       "      <th>시도</th>\n",
       "      <th>군구</th>\n",
       "      <th>총인구수 (명)</th>\n",
       "      <th>남자인구수 (명)</th>\n",
       "      <th>여자인구수 (명)</th>\n",
       "      <th>시도군구</th>\n",
       "    </tr>\n",
       "  </thead>\n",
       "  <tbody>\n",
       "    <tr>\n",
       "      <th>0</th>\n",
       "      <td>전국</td>\n",
       "      <td>소계</td>\n",
       "      <td>51583722</td>\n",
       "      <td>25715591</td>\n",
       "      <td>25868131</td>\n",
       "      <td>전국 소계</td>\n",
       "    </tr>\n",
       "    <tr>\n",
       "      <th>1</th>\n",
       "      <td>서울특별시</td>\n",
       "      <td>소계</td>\n",
       "      <td>9496887</td>\n",
       "      <td>4607440</td>\n",
       "      <td>4889447</td>\n",
       "      <td>서울특별시 소계</td>\n",
       "    </tr>\n",
       "    <tr>\n",
       "      <th>2</th>\n",
       "      <td>서울특별시</td>\n",
       "      <td>종로구</td>\n",
       "      <td>143850</td>\n",
       "      <td>69638</td>\n",
       "      <td>74212</td>\n",
       "      <td>서울특별시 종로구</td>\n",
       "    </tr>\n",
       "    <tr>\n",
       "      <th>3</th>\n",
       "      <td>서울특별시</td>\n",
       "      <td>중구</td>\n",
       "      <td>122054</td>\n",
       "      <td>59368</td>\n",
       "      <td>62686</td>\n",
       "      <td>서울특별시 중구</td>\n",
       "    </tr>\n",
       "    <tr>\n",
       "      <th>4</th>\n",
       "      <td>서울특별시</td>\n",
       "      <td>용산구</td>\n",
       "      <td>222083</td>\n",
       "      <td>106666</td>\n",
       "      <td>115417</td>\n",
       "      <td>서울특별시 용산구</td>\n",
       "    </tr>\n",
       "  </tbody>\n",
       "</table>\n",
       "</div>"
      ],
      "text/plain": [
       "      시도   군구  총인구수 (명)  남자인구수 (명)  여자인구수 (명)       시도군구\n",
       "0     전국   소계  51583722   25715591   25868131      전국 소계\n",
       "1  서울특별시   소계   9496887    4607440    4889447   서울특별시 소계\n",
       "2  서울특별시  종로구    143850      69638      74212  서울특별시 종로구\n",
       "3  서울특별시   중구    122054      59368      62686   서울특별시 중구\n",
       "4  서울특별시  용산구    222083     106666     115417  서울특별시 용산구"
      ]
     },
     "execution_count": 32,
     "metadata": {},
     "output_type": "execute_result"
    }
   ],
   "source": [
    "# '시도'와 '군구'를 연결하여 '시도군구' 컬럼 추가\n",
    "population['시도군구']= population.apply(lambda r: r['시도'] + ' ' + r['군구'], axis=1)\n",
    "population.head()  #작업 확인용 출력"
   ]
  },
  {
   "cell_type": "markdown",
   "metadata": {},
   "source": [
    "##### -  필요없는  '소계' 행 삭제"
   ]
  },
  {
   "cell_type": "code",
   "execution_count": 34,
   "metadata": {
    "tags": []
   },
   "outputs": [
    {
     "data": {
      "text/html": [
       "<div>\n",
       "<style scoped>\n",
       "    .dataframe tbody tr th:only-of-type {\n",
       "        vertical-align: middle;\n",
       "    }\n",
       "\n",
       "    .dataframe tbody tr th {\n",
       "        vertical-align: top;\n",
       "    }\n",
       "\n",
       "    .dataframe thead th {\n",
       "        text-align: right;\n",
       "    }\n",
       "</style>\n",
       "<table border=\"1\" class=\"dataframe\">\n",
       "  <thead>\n",
       "    <tr style=\"text-align: right;\">\n",
       "      <th></th>\n",
       "      <th>시도</th>\n",
       "      <th>군구</th>\n",
       "      <th>총인구수 (명)</th>\n",
       "      <th>남자인구수 (명)</th>\n",
       "      <th>여자인구수 (명)</th>\n",
       "      <th>시도군구</th>\n",
       "    </tr>\n",
       "  </thead>\n",
       "  <tbody>\n",
       "    <tr>\n",
       "      <th>2</th>\n",
       "      <td>서울특별시</td>\n",
       "      <td>종로구</td>\n",
       "      <td>143850</td>\n",
       "      <td>69638</td>\n",
       "      <td>74212</td>\n",
       "      <td>서울특별시 종로구</td>\n",
       "    </tr>\n",
       "    <tr>\n",
       "      <th>3</th>\n",
       "      <td>서울특별시</td>\n",
       "      <td>중구</td>\n",
       "      <td>122054</td>\n",
       "      <td>59368</td>\n",
       "      <td>62686</td>\n",
       "      <td>서울특별시 중구</td>\n",
       "    </tr>\n",
       "    <tr>\n",
       "      <th>4</th>\n",
       "      <td>서울특별시</td>\n",
       "      <td>용산구</td>\n",
       "      <td>222083</td>\n",
       "      <td>106666</td>\n",
       "      <td>115417</td>\n",
       "      <td>서울특별시 용산구</td>\n",
       "    </tr>\n",
       "    <tr>\n",
       "      <th>5</th>\n",
       "      <td>서울특별시</td>\n",
       "      <td>성동구</td>\n",
       "      <td>284173</td>\n",
       "      <td>138373</td>\n",
       "      <td>145800</td>\n",
       "      <td>서울특별시 성동구</td>\n",
       "    </tr>\n",
       "    <tr>\n",
       "      <th>6</th>\n",
       "      <td>서울특별시</td>\n",
       "      <td>광진구</td>\n",
       "      <td>340062</td>\n",
       "      <td>164091</td>\n",
       "      <td>175971</td>\n",
       "      <td>서울특별시 광진구</td>\n",
       "    </tr>\n",
       "  </tbody>\n",
       "</table>\n",
       "</div>"
      ],
      "text/plain": [
       "      시도   군구  총인구수 (명)  남자인구수 (명)  여자인구수 (명)       시도군구\n",
       "2  서울특별시  종로구    143850      69638      74212  서울특별시 종로구\n",
       "3  서울특별시   중구    122054      59368      62686   서울특별시 중구\n",
       "4  서울특별시  용산구    222083     106666     115417  서울특별시 용산구\n",
       "5  서울특별시  성동구    284173     138373     145800  서울특별시 성동구\n",
       "6  서울특별시  광진구    340062     164091     175971  서울특별시 광진구"
      ]
     },
     "execution_count": 34,
     "metadata": {},
     "output_type": "execute_result"
    }
   ],
   "source": [
    "population = population[population.군구 != '소계']\n",
    "population.head()  #작업 확인용 출력"
   ]
  },
  {
   "cell_type": "markdown",
   "metadata": {},
   "source": [
    "####   (3) 병합의 기준이 될 인덱스를 '시도군구'로 설정"
   ]
  },
  {
   "cell_type": "code",
   "execution_count": 35,
   "metadata": {
    "tags": []
   },
   "outputs": [
    {
     "data": {
      "text/html": [
       "<div>\n",
       "<style scoped>\n",
       "    .dataframe tbody tr th:only-of-type {\n",
       "        vertical-align: middle;\n",
       "    }\n",
       "\n",
       "    .dataframe tbody tr th {\n",
       "        vertical-align: top;\n",
       "    }\n",
       "\n",
       "    .dataframe thead th {\n",
       "        text-align: right;\n",
       "    }\n",
       "</style>\n",
       "<table border=\"1\" class=\"dataframe\">\n",
       "  <thead>\n",
       "    <tr style=\"text-align: right;\">\n",
       "      <th></th>\n",
       "      <th>시도</th>\n",
       "      <th>군구</th>\n",
       "      <th>총인구수 (명)</th>\n",
       "      <th>남자인구수 (명)</th>\n",
       "      <th>여자인구수 (명)</th>\n",
       "    </tr>\n",
       "    <tr>\n",
       "      <th>시도군구</th>\n",
       "      <th></th>\n",
       "      <th></th>\n",
       "      <th></th>\n",
       "      <th></th>\n",
       "      <th></th>\n",
       "    </tr>\n",
       "  </thead>\n",
       "  <tbody>\n",
       "    <tr>\n",
       "      <th>서울특별시 종로구</th>\n",
       "      <td>서울특별시</td>\n",
       "      <td>종로구</td>\n",
       "      <td>143850</td>\n",
       "      <td>69638</td>\n",
       "      <td>74212</td>\n",
       "    </tr>\n",
       "    <tr>\n",
       "      <th>서울특별시 중구</th>\n",
       "      <td>서울특별시</td>\n",
       "      <td>중구</td>\n",
       "      <td>122054</td>\n",
       "      <td>59368</td>\n",
       "      <td>62686</td>\n",
       "    </tr>\n",
       "    <tr>\n",
       "      <th>서울특별시 용산구</th>\n",
       "      <td>서울특별시</td>\n",
       "      <td>용산구</td>\n",
       "      <td>222083</td>\n",
       "      <td>106666</td>\n",
       "      <td>115417</td>\n",
       "    </tr>\n",
       "    <tr>\n",
       "      <th>서울특별시 성동구</th>\n",
       "      <td>서울특별시</td>\n",
       "      <td>성동구</td>\n",
       "      <td>284173</td>\n",
       "      <td>138373</td>\n",
       "      <td>145800</td>\n",
       "    </tr>\n",
       "    <tr>\n",
       "      <th>서울특별시 광진구</th>\n",
       "      <td>서울특별시</td>\n",
       "      <td>광진구</td>\n",
       "      <td>340062</td>\n",
       "      <td>164091</td>\n",
       "      <td>175971</td>\n",
       "    </tr>\n",
       "  </tbody>\n",
       "</table>\n",
       "</div>"
      ],
      "text/plain": [
       "              시도   군구  총인구수 (명)  남자인구수 (명)  여자인구수 (명)\n",
       "시도군구                                                 \n",
       "서울특별시 종로구  서울특별시  종로구    143850      69638      74212\n",
       "서울특별시 중구   서울특별시   중구    122054      59368      62686\n",
       "서울특별시 용산구  서울특별시  용산구    222083     106666     115417\n",
       "서울특별시 성동구  서울특별시  성동구    284173     138373     145800\n",
       "서울특별시 광진구  서울특별시  광진구    340062     164091     175971"
      ]
     },
     "execution_count": 35,
     "metadata": {},
     "output_type": "execute_result"
    }
   ],
   "source": [
    "population = population.set_index(\"시도군구\")\n",
    "population.head()  #작업 확인용 출력"
   ]
  },
  {
   "cell_type": "code",
   "execution_count": 37,
   "metadata": {
    "tags": []
   },
   "outputs": [
    {
     "data": {
      "text/html": [
       "<div>\n",
       "<style scoped>\n",
       "    .dataframe tbody tr th:only-of-type {\n",
       "        vertical-align: middle;\n",
       "    }\n",
       "\n",
       "    .dataframe tbody tr th {\n",
       "        vertical-align: top;\n",
       "    }\n",
       "\n",
       "    .dataframe thead th {\n",
       "        text-align: right;\n",
       "    }\n",
       "</style>\n",
       "<table border=\"1\" class=\"dataframe\">\n",
       "  <thead>\n",
       "    <tr style=\"text-align: right;\">\n",
       "      <th></th>\n",
       "      <th>시도</th>\n",
       "      <th>군구</th>\n",
       "      <th>count</th>\n",
       "      <th>총인구수 (명)</th>\n",
       "      <th>남자인구수 (명)</th>\n",
       "      <th>여자인구수 (명)</th>\n",
       "    </tr>\n",
       "  </thead>\n",
       "  <tbody>\n",
       "    <tr>\n",
       "      <th>0</th>\n",
       "      <td>강원도</td>\n",
       "      <td>강릉시</td>\n",
       "      <td>4</td>\n",
       "      <td>212414</td>\n",
       "      <td>105385</td>\n",
       "      <td>107029</td>\n",
       "    </tr>\n",
       "    <tr>\n",
       "      <th>1</th>\n",
       "      <td>강원도</td>\n",
       "      <td>동해시</td>\n",
       "      <td>1</td>\n",
       "      <td>89618</td>\n",
       "      <td>45558</td>\n",
       "      <td>44060</td>\n",
       "    </tr>\n",
       "    <tr>\n",
       "      <th>2</th>\n",
       "      <td>강원도</td>\n",
       "      <td>삼척시</td>\n",
       "      <td>1</td>\n",
       "      <td>64216</td>\n",
       "      <td>32487</td>\n",
       "      <td>31729</td>\n",
       "    </tr>\n",
       "    <tr>\n",
       "      <th>3</th>\n",
       "      <td>강원도</td>\n",
       "      <td>속초시</td>\n",
       "      <td>1</td>\n",
       "      <td>82725</td>\n",
       "      <td>41037</td>\n",
       "      <td>41688</td>\n",
       "    </tr>\n",
       "    <tr>\n",
       "      <th>4</th>\n",
       "      <td>강원도</td>\n",
       "      <td>양구군</td>\n",
       "      <td>1</td>\n",
       "      <td>21635</td>\n",
       "      <td>11359</td>\n",
       "      <td>10276</td>\n",
       "    </tr>\n",
       "  </tbody>\n",
       "</table>\n",
       "</div>"
      ],
      "text/plain": [
       "    시도   군구  count  총인구수 (명)  남자인구수 (명)  여자인구수 (명)\n",
       "0  강원도  강릉시      4    212414     105385     107029\n",
       "1  강원도  동해시      1     89618      45558      44060\n",
       "2  강원도  삼척시      1     64216      32487      31729\n",
       "3  강원도  속초시      1     82725      41037      41688\n",
       "4  강원도  양구군      1     21635      11359      10276"
      ]
     },
     "execution_count": 37,
     "metadata": {},
     "output_type": "execute_result"
    }
   ],
   "source": [
    "addr_population_merge2 = pd.merge(addr_group,population,  how='inner')\n",
    "addr_population_merge2.head()   #작업 확인용 출력"
   ]
  },
  {
   "cell_type": "code",
   "execution_count": 38,
   "metadata": {},
   "outputs": [
    {
     "name": "stdout",
     "output_type": "stream",
     "text": [
      "<class 'pandas.core.frame.DataFrame'>\n",
      "Int64Index: 138 entries, 0 to 137\n",
      "Data columns (total 6 columns):\n",
      " #   Column     Non-Null Count  Dtype \n",
      "---  ------     --------------  ----- \n",
      " 0   시도         138 non-null    object\n",
      " 1   군구         138 non-null    object\n",
      " 2   count      138 non-null    int64 \n",
      " 3   총인구수 (명)   138 non-null    int64 \n",
      " 4   남자인구수 (명)  138 non-null    int64 \n",
      " 5   여자인구수 (명)  138 non-null    int64 \n",
      "dtypes: int64(4), object(2)\n",
      "memory usage: 7.5+ KB\n"
     ]
    }
   ],
   "source": [
    "addr_population_merge2.info()"
   ]
  },
  {
   "cell_type": "markdown",
   "metadata": {},
   "source": [
    "## 5) '의료기관' 데이터프레임과 '시도군구별 인구수' 데이터프레임 병합하기 "
   ]
  },
  {
   "cell_type": "code",
   "execution_count": 39,
   "metadata": {
    "scrolled": true,
    "tags": []
   },
   "outputs": [
    {
     "data": {
      "text/html": [
       "<div>\n",
       "<style scoped>\n",
       "    .dataframe tbody tr th:only-of-type {\n",
       "        vertical-align: middle;\n",
       "    }\n",
       "\n",
       "    .dataframe tbody tr th {\n",
       "        vertical-align: top;\n",
       "    }\n",
       "\n",
       "    .dataframe thead th {\n",
       "        text-align: right;\n",
       "    }\n",
       "</style>\n",
       "<table border=\"1\" class=\"dataframe\">\n",
       "  <thead>\n",
       "    <tr style=\"text-align: right;\">\n",
       "      <th></th>\n",
       "      <th>시도_x</th>\n",
       "      <th>군구_x</th>\n",
       "      <th>count</th>\n",
       "      <th>시도_y</th>\n",
       "      <th>군구_y</th>\n",
       "      <th>총인구수 (명)</th>\n",
       "      <th>남자인구수 (명)</th>\n",
       "      <th>여자인구수 (명)</th>\n",
       "    </tr>\n",
       "    <tr>\n",
       "      <th>시도군구</th>\n",
       "      <th></th>\n",
       "      <th></th>\n",
       "      <th></th>\n",
       "      <th></th>\n",
       "      <th></th>\n",
       "      <th></th>\n",
       "      <th></th>\n",
       "      <th></th>\n",
       "    </tr>\n",
       "  </thead>\n",
       "  <tbody>\n",
       "    <tr>\n",
       "      <th>강원도 강릉시</th>\n",
       "      <td>강원도</td>\n",
       "      <td>강릉시</td>\n",
       "      <td>4</td>\n",
       "      <td>강원도</td>\n",
       "      <td>강릉시</td>\n",
       "      <td>212414</td>\n",
       "      <td>105385</td>\n",
       "      <td>107029</td>\n",
       "    </tr>\n",
       "    <tr>\n",
       "      <th>강원도 동해시</th>\n",
       "      <td>강원도</td>\n",
       "      <td>동해시</td>\n",
       "      <td>1</td>\n",
       "      <td>강원도</td>\n",
       "      <td>동해시</td>\n",
       "      <td>89618</td>\n",
       "      <td>45558</td>\n",
       "      <td>44060</td>\n",
       "    </tr>\n",
       "    <tr>\n",
       "      <th>강원도 삼척시</th>\n",
       "      <td>강원도</td>\n",
       "      <td>삼척시</td>\n",
       "      <td>1</td>\n",
       "      <td>강원도</td>\n",
       "      <td>삼척시</td>\n",
       "      <td>64216</td>\n",
       "      <td>32487</td>\n",
       "      <td>31729</td>\n",
       "    </tr>\n",
       "    <tr>\n",
       "      <th>강원도 속초시</th>\n",
       "      <td>강원도</td>\n",
       "      <td>속초시</td>\n",
       "      <td>1</td>\n",
       "      <td>강원도</td>\n",
       "      <td>속초시</td>\n",
       "      <td>82725</td>\n",
       "      <td>41037</td>\n",
       "      <td>41688</td>\n",
       "    </tr>\n",
       "    <tr>\n",
       "      <th>강원도 양구군</th>\n",
       "      <td>강원도</td>\n",
       "      <td>양구군</td>\n",
       "      <td>1</td>\n",
       "      <td>강원도</td>\n",
       "      <td>양구군</td>\n",
       "      <td>21635</td>\n",
       "      <td>11359</td>\n",
       "      <td>10276</td>\n",
       "    </tr>\n",
       "  </tbody>\n",
       "</table>\n",
       "</div>"
      ],
      "text/plain": [
       "        시도_x 군구_x  count 시도_y 군구_y  총인구수 (명)  남자인구수 (명)  여자인구수 (명)\n",
       "시도군구                                                              \n",
       "강원도 강릉시  강원도  강릉시      4  강원도  강릉시    212414     105385     107029\n",
       "강원도 동해시  강원도  동해시      1  강원도  동해시     89618      45558      44060\n",
       "강원도 삼척시  강원도  삼척시      1  강원도  삼척시     64216      32487      31729\n",
       "강원도 속초시  강원도  속초시      1  강원도  속초시     82725      41037      41688\n",
       "강원도 양구군  강원도  양구군      1  강원도  양구군     21635      11359      10276"
      ]
     },
     "execution_count": 39,
     "metadata": {},
     "output_type": "execute_result"
    }
   ],
   "source": [
    "addr_population_merge = pd.merge(addr_group,population,  how='inner',  left_index=True, right_index=True)\n",
    "addr_population_merge.head()   #작업 확인용 출력"
   ]
  },
  {
   "cell_type": "markdown",
   "metadata": {},
   "source": [
    "##### -필요한 컬럼만 추출하기"
   ]
  },
  {
   "cell_type": "code",
   "execution_count": null,
   "metadata": {
    "tags": []
   },
   "outputs": [],
   "source": [
    "local_MC_Population = addr_population_merge[['시도_x', '군구_x',  'count', '총인구수 (명)']]\n",
    "local_MC_Population.head()   #작업 확인용 출력  "
   ]
  },
  {
   "cell_type": "code",
   "execution_count": null,
   "metadata": {
    "tags": []
   },
   "outputs": [],
   "source": [
    " #컬럼이름 변경\n",
    "local_MC_Population = local_MC_Population.rename(columns = {'시도_x': '시도', '군구_x': '군구',\n",
    "                                                            '총인구수 (명)': '인구수' })\n",
    "local_MC_Population.head()  #작업 확인용 출력"
   ]
  },
  {
   "cell_type": "markdown",
   "metadata": {},
   "source": [
    "## 6) 시도군구의 인구대비 의료기관수 비율 구하기"
   ]
  },
  {
   "cell_type": "code",
   "execution_count": null,
   "metadata": {
    "tags": []
   },
   "outputs": [],
   "source": [
    "MC_count = local_MC_Population['count']\n",
    "local_MC_Population['MC_ratio'] = MC_count.div(local_MC_Population['인구수'], axis=0)*100000\n",
    "local_MC_Population.head()   #작업 확인용 출력"
   ]
  },
  {
   "cell_type": "markdown",
   "metadata": {},
   "source": [
    "# 2. 분석 모델 구축 및 시각화"
   ]
  },
  {
   "cell_type": "markdown",
   "metadata": {},
   "source": [
    "##  1) 바 차트 그리기"
   ]
  },
  {
   "cell_type": "code",
   "execution_count": null,
   "metadata": {},
   "outputs": [],
   "source": [
    "from matplotlib import pyplot as plt\n",
    "from matplotlib import rcParams, style\n",
    "style.use('ggplot')\n",
    "\n",
    "from matplotlib import font_manager, rc\n",
    "font_name = font_manager.FontProperties(fname=\"c:/Windows/Fonts/malgun.ttf\").get_name()\n",
    "rc('font', family=font_name)"
   ]
  },
  {
   "cell_type": "code",
   "execution_count": null,
   "metadata": {
    "tags": []
   },
   "outputs": [],
   "source": [
    "MC_ratio = local_MC_Population[['count']]\n",
    "MC_ratio"
   ]
  },
  {
   "cell_type": "markdown",
   "metadata": {},
   "source": [
    "####   (1) 행정구역별 공공보건의료기관수에 대한 바 차트 "
   ]
  },
  {
   "cell_type": "code",
   "execution_count": null,
   "metadata": {
    "tags": []
   },
   "outputs": [],
   "source": [
    "MC_ratio = local_MC_Population[['count']] #데이터프레임, local_MC_Population['count']:Series\n",
    "MC_ratio = MC_ratio.sort_values('count', ascending = False)\n",
    "plt.rcParams[\"figure.figsize\"] = (25,5)\n",
    "MC_ratio.plot(kind='bar', rot=90)\n",
    "plt.show()"
   ]
  },
  {
   "cell_type": "markdown",
   "metadata": {},
   "source": [
    "####   (2) 행정구역별 인구수 대비 공공보건의료기관 비율에 대한 바 차트 "
   ]
  },
  {
   "cell_type": "code",
   "execution_count": null,
   "metadata": {
    "scrolled": true
   },
   "outputs": [],
   "source": [
    "MC_ratio = local_MC_Population[['MC_ratio']]\n",
    "MC_ratio = MC_ratio.sort_values('MC_ratio', ascending = False)\n",
    "plt.rcParams[\"figure.figsize\"] = (25,5)\n",
    "MC_ratio.plot(kind='bar', rot=90)\n",
    "plt.show()"
   ]
  },
  {
   "cell_type": "markdown",
   "metadata": {},
   "source": [
    "## 2) 블록맵 시각화"
   ]
  },
  {
   "cell_type": "markdown",
   "metadata": {},
   "source": [
    "###   (1) 블록맵 데이터 파일 열기"
   ]
  },
  {
   "cell_type": "code",
   "execution_count": null,
   "metadata": {},
   "outputs": [],
   "source": [
    "import os\n",
    "path = os.getcwd() # 현제 작업 디렉토리\n",
    "#data_draw_korea.csv 대한민국 행정구역 인구수 블록맵 데이터"
   ]
  },
  {
   "cell_type": "code",
   "execution_count": null,
   "metadata": {
    "tags": []
   },
   "outputs": [],
   "source": [
    "data_draw_korea = pd.read_csv('data/data_draw_korea.csv', index_col=0, encoding='UTF-8', engine='python')\n",
    "data_draw_korea.head()   #작업 확인용 출력"
   ]
  },
  {
   "cell_type": "markdown",
   "metadata": {},
   "source": [
    "###   (2) 블록맵 데이터 파일에 '시도군구' 컬럼 만들기"
   ]
  },
  {
   "cell_type": "code",
   "execution_count": null,
   "metadata": {
    "tags": []
   },
   "outputs": [],
   "source": [
    "data_draw_korea['시도군구']= data_draw_korea.apply(lambda r: r['광역시도'] + ' ' + r['행정구역'], axis=1)\n",
    "data_draw_korea.head()  #작업 확인용 출력"
   ]
  },
  {
   "cell_type": "markdown",
   "metadata": {},
   "source": [
    "###   (3) 블록맵 데이터에서 병합에 사용할 '시도군구' 컬럼을 인덱스로 설정하기"
   ]
  },
  {
   "cell_type": "code",
   "execution_count": null,
   "metadata": {
    "tags": []
   },
   "outputs": [],
   "source": [
    "data_draw_korea = data_draw_korea.set_index(\"시도군구\")\n",
    "data_draw_korea.head()  #작업 확인용 출력"
   ]
  },
  {
   "cell_type": "markdown",
   "metadata": {},
   "source": [
    "###   (4) 블록맵 데이터프레임과 local_MC_Population을 병합하기"
   ]
  },
  {
   "cell_type": "code",
   "execution_count": null,
   "metadata": {
    "tags": []
   },
   "outputs": [],
   "source": [
    "data_draw_korea_MC_Population_all = pd.merge(data_draw_korea,local_MC_Population,  how='outer',  \n",
    "                                             left_index=True, right_index=True)\n",
    "data_draw_korea_MC_Population_all.head()"
   ]
  },
  {
   "cell_type": "markdown",
   "metadata": {},
   "source": [
    "###   (5) 한국지도의 블록맵 경계선 좌표를 리스트로 생성 "
   ]
  },
  {
   "cell_type": "code",
   "execution_count": null,
   "metadata": {},
   "outputs": [],
   "source": [
    "BORDER_LINES = [\n",
    "    [(3, 2), (5, 2), (5, 3), (9, 3), (9, 1)], # 인천\n",
    "    [(2, 5), (3, 5), (3, 4), (8, 4), (8, 7), (7, 7), (7, 9), (4, 9), (4, 7), (1, 7)], # 서울\n",
    "    [(1, 6), (1, 9), (3, 9), (3, 10), (8, 10), (8, 9),\n",
    "     (9, 9), (9, 8), (10, 8), (10, 5), (9, 5), (9, 3)], # 경기도\n",
    "    [(9, 12), (9, 10), (8, 10)], # 강원도\n",
    "    [(10, 5), (11, 5), (11, 4), (12, 4), (12, 5), (13, 5),\n",
    "     (13, 4), (14, 4), (14, 2)], # 충청남도\n",
    "    [(11, 5), (12, 5), (12, 6), (15, 6), (15, 7), (13, 7),\n",
    "     (13, 8), (11, 8), (11, 9), (10, 9), (10, 8)], # 충청북도\n",
    "    [(14, 4), (15, 4), (15, 6)], # 대전시\n",
    "    [(14, 7), (14, 9), (13, 9), (13, 11), (13, 13)], # 경상북도\n",
    "    [(14, 8), (16, 8), (16, 10), (15, 10),\n",
    "     (15, 11), (14, 11), (14, 12), (13, 12)], # 대구시\n",
    "    [(15, 11), (16, 11), (16, 13)], # 울산시\n",
    "    [(17, 1), (17, 3), (18, 3), (18, 6), (15, 6)], # 전라북도\n",
    "    [(19, 2), (19, 4), (21, 4), (21, 3), (22, 3), (22, 2), (19, 2)], # 광주시\n",
    "    [(18, 5), (20, 5), (20, 6)], # 전라남도\n",
    "    [(16, 9), (18, 9), (18, 8), (19, 8), (19, 9), (20, 9), (20, 10)], # 부산시\n",
    "]"
   ]
  },
  {
   "cell_type": "markdown",
   "metadata": {},
   "source": [
    "###   (6) 블록맵에서 블록에 해당 데이터를 매핑하여 색을 표시하는 함수"
   ]
  },
  {
   "cell_type": "code",
   "execution_count": null,
   "metadata": {},
   "outputs": [],
   "source": [
    "def draw_blockMap(blockedMap, targetData, title, color ):\n",
    "    whitelabelmin = (max(blockedMap[targetData]) - min(blockedMap[targetData]))\n",
    "        * 0.25 + min(blockedMap[targetData])\n",
    "\n",
    "    datalabel = targetData\n",
    "    vmin = min(blockedMap[targetData])\n",
    "    vmax = max(blockedMap[targetData])\n",
    "    mapdata = blockedMap.pivot(index='y', columns='x', values=targetData)\n",
    "    masked_mapdata = np.ma.masked_where(np.isnan(mapdata), mapdata)\n",
    "    \n",
    "    plt.figure(figsize=(8, 13))\n",
    "    plt.title(title)\n",
    "    plt.pcolor(masked_mapdata, vmin=vmin, vmax=vmax, cmap=color, edgecolor='#aaaaaa', linewidth=0.5)\n",
    "\n",
    "    # 지역 이름 표시\n",
    "    for idx, row in blockedMap.iterrows():\n",
    "        annocolor = 'white' if row[targetData] > whitelabelmin else 'black'\n",
    "    \n",
    "        # 광역시는 구 이름이 겹치는 경우가 많아서 시단위 이름도 같이 표시한다. (중구, 서구)\n",
    "        if row['광역시도'].endswith('시') and not row['광역시도'].startswith('세종'):\n",
    "            dispname = '{}\\n{}'.format(row['광역시도'][:2], row['행정구역'][:-1])\n",
    "            if len(row['행정구역']) <= 2:\n",
    "                dispname += row['행정구역'][-1]\n",
    "        else:\n",
    "            dispname = row['행정구역'][:-1]\n",
    "\n",
    "        # 서대문구, 서귀포시 같이 이름이 3자 이상인 경우에 작은 글자로 표시한다.\n",
    "        if len(dispname.splitlines()[-1]) >= 3:\n",
    "            fontsize, linespacing = 9.5, 1.5\n",
    "        else:\n",
    "            fontsize, linespacing = 11, 1.2\n",
    "\n",
    "        plt.annotate(dispname, (row['x']+0.5, row['y']+0.5), weight='bold',\n",
    "                     fontsize=fontsize, ha='center', va='center', color=annocolor,\n",
    "                     linespacing=linespacing)\n",
    "    \n",
    "    # 시도 경계 그린다.\n",
    "    for path in BORDER_LINES:\n",
    "        ys, xs = zip(*path)\n",
    "        plt.plot(xs, ys, c='black', lw=4)\n",
    "\n",
    "    plt.gca().invert_yaxis()\n",
    "    #plt.gca().set_aspect(1)\n",
    "    plt.axis('off')\n",
    "    \n",
    "    cb = plt.colorbar(shrink=.1, aspect=10)\n",
    "    cb.set_label(datalabel)\n",
    "\n",
    "    plt.tight_layout()\n",
    "    plt.savefig('data/' + 'blockMap_' + targetData + '.png')                \n",
    "    plt.show()      "
   ]
  },
  {
   "cell_type": "markdown",
   "metadata": {},
   "source": [
    "###   (7) 함수를 호출하여 블록맵 생성하기"
   ]
  },
  {
   "cell_type": "markdown",
   "metadata": {},
   "source": [
    "#####     - 행정구역별 인구에 대한 의료기관 수에 대한 블록맵"
   ]
  },
  {
   "cell_type": "code",
   "execution_count": null,
   "metadata": {
    "tags": []
   },
   "outputs": [],
   "source": [
    "draw_blockMap(data_draw_korea_MC_Population_all, 'count', '행정구역별 공공보건의료기관 수', 'Blues')"
   ]
  },
  {
   "cell_type": "markdown",
   "metadata": {},
   "source": [
    "#####     - 행정구역별 인구에 대한 의료기관 비율에 대한 블록맵"
   ]
  },
  {
   "cell_type": "code",
   "execution_count": null,
   "metadata": {},
   "outputs": [],
   "source": [
    "draw_blockMap(data_draw_korea_MC_Population_all, 'MC_ratio', '행정구역별 인구수 대비 공공보건의료기관 비율', \n",
    "              'Reds' )"
   ]
  },
  {
   "cell_type": "code",
   "execution_count": null,
   "metadata": {},
   "outputs": [],
   "source": []
  }
 ],
 "metadata": {
  "kernelspec": {
   "display_name": "Python 3 (ipykernel)",
   "language": "python",
   "name": "python3"
  },
  "language_info": {
   "codemirror_mode": {
    "name": "ipython",
    "version": 3
   },
   "file_extension": ".py",
   "mimetype": "text/x-python",
   "name": "python",
   "nbconvert_exporter": "python",
   "pygments_lexer": "ipython3",
   "version": "3.9.12"
  }
 },
 "nbformat": 4,
 "nbformat_minor": 4
}
