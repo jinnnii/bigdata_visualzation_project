{
 "cells": [
  {
   "cell_type": "code",
   "execution_count": 3,
   "id": "9e9732d7-740c-4956-b6dc-923d51ed05d6",
   "metadata": {},
   "outputs": [],
   "source": [
    "import json\n",
    "import re #정규표현식\n",
    "\n",
    "from konlpy.tag import Okt\n",
    "from collections import Counter\n",
    "\n",
    "import matplotlib.pyplot as plt\n",
    "import matplotlib\n",
    "from matplotlib import font_manager, rc\n",
    "\n",
    "import pytagcloud\n",
    "import webbrowser\n"
   ]
  },
  {
   "cell_type": "code",
   "execution_count": 11,
   "id": "7e73db58-4b06-4c8e-a683-488296437725",
   "metadata": {},
   "outputs": [],
   "source": [
    "def showGraph(wordInfo):\n",
    "    font_loc = 'c:/windows/fonts/malgun.ttf'\n",
    "    font_name= font_manager.FontProperties(fname=font_loc).get_name()\n",
    "    matplotlib.rc('font', family=font_name)\n",
    "    \n",
    "    plt.xlabel('주요단어')\n",
    "    plt.ylabel('빈도수')\n",
    "    plt.grid(True)\n",
    "    \n",
    "    sorted_dic_val = sorted(wordInfo.values(), reverse=True)\n",
    "    sorted_dic_key = sorted(wordInfo, key=wordInfo.get, reverse=True)\n",
    "    \n",
    "    plt.bar(range(len(wordInfo)), sorted_dic_val, align='center')\n",
    "    plt.xticks(range(len(wordInfo)), list(sorted_dic_key),rotation='70')\n",
    "    \n",
    "    plt.show()"
   ]
  },
  {
   "cell_type": "code",
   "execution_count": 5,
   "id": "56f23371-d618-40ed-a742-fb17f7afdb34",
   "metadata": {},
   "outputs": [],
   "source": [
    "def saveWordCloud(wordInfo, filename):\n",
    "    taglist = pytagcloud.make_tags(dict(wordInfo).items(), maxsize=80)\n",
    "    pytagcloud.create_tag_image(taglist, filename, size=(640,480), fontname='Korean', rectangular=False)\n",
    "    webbrowser.open(filename)"
   ]
  },
  {
   "cell_type": "code",
   "execution_count": 21,
   "id": "53ba6028-2c85-4f24-9d2c-96b2fe81a325",
   "metadata": {},
   "outputs": [],
   "source": [
    "def main():\n",
    "    openFileName = 'data/jtbcnews_facebook_2016-10-01_2017-03-12.json'\n",
    "    cloudImagePath = openFileName + '.jpg'\n",
    "    \n",
    "    read_file= open(openFileName,'r',encoding='utf-8').read()\n",
    "    \n",
    "    jsonData=json.loads(read_file)\n",
    "    message=''\n",
    "    \n",
    "    for item in jsonData:\n",
    "        if 'message' in item.keys():\n",
    "            message += re.sub(r'[^\\w]', ' ', item['message'])+' '\n",
    "\n",
    "    nlp = Okt()\n",
    "    nouns=nlp.nouns(message)\n",
    "    count=Counter(nouns)\n",
    "    \n",
    "    wordInfo=dict()\n",
    "    \n",
    "    for tags,counts in count.most_common(30):\n",
    "        if(len(str(tags))>1):\n",
    "            wordInfo[tags]=counts\n",
    "            print('%s : %d'%(tags,counts))\n",
    "            \n",
    "    showGraph(wordInfo)\n",
    "    return wordInfo\n",
    "                                      "
   ]
  },
  {
   "cell_type": "code",
   "execution_count": 22,
   "id": "ec7ca99f-ee9b-4ded-9a9c-2eff8bf1cd44",
   "metadata": {},
   "outputs": [
    {
     "name": "stdout",
     "output_type": "stream",
     "text": [
      "대통령 : 314\n",
      "기사 : 217\n",
      "뉴스룸 : 212\n",
      "오늘 : 204\n",
      "원문 : 202\n",
      "탄핵 : 137\n",
      "앵커 : 97\n",
      "라이브 : 92\n",
      "특검 : 90\n",
      "청와대 : 69\n",
      "걸음 : 67\n",
      "보도 : 65\n",
      "박근혜 : 62\n",
      "브리핑 : 61\n",
      "수사 : 58\n",
      "심판 : 58\n",
      "한마디 : 57\n",
      "단독 : 54\n",
      "헌재 : 49\n"
     ]
    },
    {
     "data": {
      "image/png": "[encoded data removed]",
      "text/plain": [
       "<Figure size 432x288 with 1 Axes>"
      ]
     },
     "metadata": {
      "needs_background": "light"
     },
     "output_type": "display_data"
    }
   ],
   "source": [
    "wordInfo = main()"
   ]
  },
  {
   "cell_type": "code",
   "execution_count": 28,
   "id": "e4556ad6-082f-4085-b625-4fd308ef114d",
   "metadata": {},
   "outputs": [
    {
     "data": {
      "text/plain": [
       "range(0, 19)"
      ]
     },
     "execution_count": 28,
     "metadata": {},
     "output_type": "execute_result"
    }
   ],
   "source": [
    "sorted(wordInfo, key=lambda x : wordInfo[x], reverse=True)\n",
    "range(len(wordInfo))"
   ]
  },
  {
   "cell_type": "code",
   "execution_count": null,
   "id": "41726bb4-a968-494f-b766-f6be77b117d0",
   "metadata": {},
   "outputs": [],
   "source": []
  }
 ],
 "metadata": {
  "kernelspec": {
   "display_name": "Python 3 (ipykernel)",
   "language": "python",
   "name": "python3"
  },
  "language_info": {
   "codemirror_mode": {
    "name": "ipython",
    "version": 3
   },
   "file_extension": ".py",
   "mimetype": "text/x-python",
   "name": "python",
   "nbconvert_exporter": "python",
   "pygments_lexer": "ipython3",
   "version": "3.9.12"
  }
 },
 "nbformat": 4,
 "nbformat_minor": 5
}
