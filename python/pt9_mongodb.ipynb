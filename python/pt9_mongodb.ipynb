{
 "cells": [
  {
   "cell_type": "code",
   "execution_count": 1,
   "id": "ad7f8a74-612f-4ccc-bd7e-9bdd9f6eab25",
   "metadata": {},
   "outputs": [],
   "source": [
    "from pymongo import MongoClient"
   ]
  },
  {
   "cell_type": "code",
   "execution_count": 4,
   "id": "d9dd5ea5-7b33-4e6b-abda-b8309173f86d",
   "metadata": {},
   "outputs": [],
   "source": [
    "client = MongoClient('localhost',27017)"
   ]
  },
  {
   "cell_type": "code",
   "execution_count": 5,
   "id": "bd588cab-a1f7-48ae-992d-27364d964626",
   "metadata": {},
   "outputs": [],
   "source": [
    "db= client['test']"
   ]
  },
  {
   "cell_type": "code",
   "execution_count": 6,
   "id": "0151dab0-a0cc-4dde-8155-3c9d764810f5",
   "metadata": {},
   "outputs": [],
   "source": [
    "collection = db['employees']"
   ]
  },
  {
   "cell_type": "code",
   "execution_count": 12,
   "id": "603111c2-8dd9-41a2-bcbb-801ef6354650",
   "metadata": {},
   "outputs": [
    {
     "name": "stdout",
     "output_type": "stream",
     "text": [
      "{'_id': ObjectId('62a2b16e26a32f340136aa30'), 'empno': 7369, 'ename': 'SMITH', 'job': 'CLERK', 'hiredate': datetime.datetime(2022, 6, 10, 2, 50, 22, 595000), 'sal': 800, 'deptno': 20}\n",
      "{'_id': ObjectId('62a2b16e26a32f340136aa31'), 'empno': 7499, 'ename': 'ALLEN', 'job': 'SALESMAN', 'hiredate': datetime.datetime(2022, 6, 10, 2, 50, 22, 604000), 'sal': 1600, 'comm': 300, 'deptno': 30}\n",
      "{'_id': ObjectId('62a2b16e26a32f340136aa32'), 'empno': 7521, 'ename': 'WARD', 'job': 'SALESMAN', 'hiredate': datetime.datetime(2022, 6, 10, 2, 50, 22, 605000), 'sal': 1250, 'comm': 500, 'deptno': 30}\n",
      "{'_id': ObjectId('62a2b16e26a32f340136aa33'), 'empno': 7566, 'ename': 'JONES', 'job': 'MANAGER', 'hiredate': datetime.datetime(2022, 6, 10, 2, 50, 22, 605000), 'sal': 2975, 'deptno': 20}\n",
      "{'_id': ObjectId('62a2b16e26a32f340136aa34'), 'empno': 7654, 'ename': 'MARTIN', 'job': 'SALESMAN', 'hiredate': datetime.datetime(2022, 6, 10, 2, 50, 22, 606000), 'sal': 1250, 'comm': 1400, 'deptno': 30}\n",
      "{'_id': ObjectId('62a2b16e26a32f340136aa35'), 'empno': 7698, 'ename': 'BLAKE', 'job': 'MANAGER', 'hiredate': datetime.datetime(2022, 6, 10, 2, 50, 22, 606000), 'sal': 2850, 'deptno': 30}\n",
      "{'_id': ObjectId('62a2b16e26a32f340136aa36'), 'empno': 7782, 'ename': 'CLARK', 'job': 'MANAGER', 'hiredate': datetime.datetime(2022, 6, 10, 2, 50, 22, 607000), 'sal': 2450, 'deptno': 10}\n",
      "{'_id': ObjectId('62a2b16e26a32f340136aa37'), 'empno': 7788, 'ename': 'SCOTT', 'job': 'ANALYST', 'hiredate': datetime.datetime(2022, 6, 10, 2, 50, 22, 608000), 'sal': 3000, 'deptno': 20}\n",
      "{'_id': ObjectId('62a2b16e26a32f340136aa38'), 'empno': 7839, 'ename': 'KING', 'job': 'CEO', 'hiredate': datetime.datetime(2022, 6, 10, 2, 50, 22, 608000), 'sal': 5000, 'deptno': 10}\n",
      "{'_id': ObjectId('62a2b16e26a32f340136aa39'), 'empno': 7844, 'ename': 'TURNER', 'job': 'SALESMAN', 'hiredate': datetime.datetime(2022, 6, 10, 2, 50, 22, 609000), 'sal': 1500, 'deptno': 30}\n",
      "{'_id': ObjectId('62a2b16e26a32f340136aa3a'), 'empno': 7876, 'ename': 'ADAMS', 'job': 'CLERK', 'hiredate': datetime.datetime(2022, 6, 10, 2, 50, 22, 609000), 'sal': 1100, 'deptno': 20}\n",
      "{'_id': ObjectId('62a2b16e26a32f340136aa3b'), 'empno': 7900, 'ename': 'JAMES', 'job': 'CLERK', 'hiredate': datetime.datetime(2022, 6, 10, 2, 50, 22, 610000), 'sal': 950, 'deptno': 30}\n",
      "{'_id': ObjectId('62a2b16e26a32f340136aa3c'), 'empno': 7902, 'ename': 'FORD', 'job': 'ANALYST', 'hiredate': datetime.datetime(2022, 6, 10, 2, 50, 22, 611000), 'sal': 3000, 'deptno': 20}\n",
      "{'_id': ObjectId('62a2b16e26a32f340136aa3d'), 'empno': 7934, 'ename': 'CLERK', 'job': 'CLERK', 'hiredate': datetime.datetime(2022, 6, 10, 2, 50, 22, 612000), 'sal': 1300, 'deptno': 10}\n"
     ]
    }
   ],
   "source": [
    "for employee in collection.find():\n",
    "    print(employee)"
   ]
  },
  {
   "cell_type": "code",
   "execution_count": 20,
   "id": "3fe82f4c-900d-4b41-8603-3a5f46a542e6",
   "metadata": {},
   "outputs": [],
   "source": [
    "emp={'eno':30, 'ename':'kkk'}\n",
    "\n",
    "emp_list = [\n",
    "    {'eno':30, 'ename':'aaa'},\n",
    "    {'eno':40, 'ename':'bbb'},\n",
    "    {'eno':50, 'ename':'ccc'}\n",
    "]"
   ]
  },
  {
   "cell_type": "code",
   "execution_count": 15,
   "id": "c74f1778-56d1-4ae3-86d7-441c7b815d57",
   "metadata": {},
   "outputs": [],
   "source": [
    "coll=db['emp']"
   ]
  },
  {
   "cell_type": "code",
   "execution_count": 16,
   "id": "327d15b0-7e08-4e94-b4ed-bfcbf226c087",
   "metadata": {},
   "outputs": [
    {
     "data": {
      "text/plain": [
       "<pymongo.results.InsertOneResult at 0x1d27edbcca0>"
      ]
     },
     "execution_count": 16,
     "metadata": {},
     "output_type": "execute_result"
    }
   ],
   "source": [
    "coll.insert_one(emp)"
   ]
  },
  {
   "cell_type": "code",
   "execution_count": 24,
   "id": "f92f1781-642e-4e3c-8fa8-0f8f69f0ff4c",
   "metadata": {},
   "outputs": [
    {
     "name": "stdout",
     "output_type": "stream",
     "text": [
      "{'_id': ObjectId('629ebb1698b73fae2a4b93d6'), 'eno': 1.0, 'ename': 'hong'}\n",
      "{'_id': ObjectId('62a2b0b3c4bc3de720f87d9a'), 'eno': 30, 'ename': 'kkk'}\n",
      "{'_id': ObjectId('62a2b187c4bc3de720f87d9b'), 'eno': 30, 'ename': 'kkk'}\n",
      "{'_id': ObjectId('62a2b214c4bc3de720f87d9c'), 'eno': 30, 'ename': 'aaa'}\n",
      "{'_id': ObjectId('62a2b214c4bc3de720f87d9d'), 'eno': 40, 'ename': 'bbb'}\n",
      "{'_id': ObjectId('62a2b214c4bc3de720f87d9e'), 'eno': 50, 'ename': 'ccc'}\n"
     ]
    }
   ],
   "source": [
    "for e in coll.find():\n",
    "    print(e)"
   ]
  },
  {
   "cell_type": "code",
   "execution_count": 23,
   "id": "521d5e07-0fc9-4f4f-9841-18218e57013c",
   "metadata": {},
   "outputs": [
    {
     "data": {
      "text/plain": [
       "<pymongo.results.InsertManyResult at 0x1d27f554e80>"
      ]
     },
     "execution_count": 23,
     "metadata": {},
     "output_type": "execute_result"
    }
   ],
   "source": [
    "coll.insert_many(emp_list)"
   ]
  }
 ],
 "metadata": {
  "kernelspec": {
   "display_name": "Python 3 (ipykernel)",
   "language": "python",
   "name": "python3"
  },
  "language_info": {
   "codemirror_mode": {
    "name": "ipython",
    "version": 3
   },
   "file_extension": ".py",
   "mimetype": "text/x-python",
   "name": "python",
   "nbconvert_exporter": "python",
   "pygments_lexer": "ipython3",
   "version": "3.9.12"
  }
 },
 "nbformat": 4,
 "nbformat_minor": 5
}
