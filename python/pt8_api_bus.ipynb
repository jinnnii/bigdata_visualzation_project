{
 "cells": [
  {
   "cell_type": "code",
   "execution_count": 5,
   "id": "2228d69d-7b3a-4017-83ed-5b6f39ccd2a3",
   "metadata": {},
   "outputs": [],
   "source": [
    "import urllib.request as req\n",
    "from bs4 import BeautifulSoup as bs"
   ]
  },
  {
   "cell_type": "code",
   "execution_count": 15,
   "id": "0d77088e-8198-47fc-aa9e-ae55aca8322c",
   "metadata": {},
   "outputs": [
    {
     "data": {
      "text/plain": [
       "('buspos.xml', <http.client.HTTPMessage at 0x2674ade9730>)"
      ]
     },
     "execution_count": 15,
     "metadata": {},
     "output_type": "execute_result"
    }
   ],
   "source": [
    "key='bz6p9J0zjOTIbSrGsm6BH3B4i9IEW29rnGC6LNchn750ZVUpKW3HKr211MoqBZhOy02OyMRxsN60JqwPc0KpXQ%3D%3D'\n",
    "bus_num=360\n",
    "url1='http://ws.bus.go.kr/api/rest/busRouteInfo/getBusRouteList?serviceKey=%s&strSrch=%s'%(key, bus_num)\n",
    "save_name='businfo.xml'\n",
    "req.urlretrieve(url1,save_name)\n",
    "\n",
    "\n",
    "xml = open(save_name,'r',encoding='utf-8').read()\n",
    "soup  = bs(xml,'xml')\n",
    "\n",
    "item_list = soup.find_all('itemList')\n",
    "\n",
    "busRouteId=None\n",
    "\n",
    "for item in item_list:\n",
    "    busRouteId= item.find('busRouteId').string\n",
    "    num=item.find('busRouteNm').string\n",
    "    if num==bus_num:\n",
    "        break\n",
    "        \n",
    "url2='http://ws.bus.go.kr/api/rest/buspos/getBusPosByRtid?ServiceKey=%s&busRouteId=%s'%(key,busRouteId)\n",
    "save_name='buspos.xml'\n",
    "req.urlretrieve(url2,save_name)\n"
   ]
  }
 ],
 "metadata": {
  "kernelspec": {
   "display_name": "Python 3 (ipykernel)",
   "language": "python",
   "name": "python3"
  },
  "language_info": {
   "codemirror_mode": {
    "name": "ipython",
    "version": 3
   },
   "file_extension": ".py",
   "mimetype": "text/x-python",
   "name": "python",
   "nbconvert_exporter": "python",
   "pygments_lexer": "ipython3",
   "version": "3.9.12"
  }
 },
 "nbformat": 4,
 "nbformat_minor": 5
}
