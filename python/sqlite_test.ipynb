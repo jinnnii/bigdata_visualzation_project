{
 "cells": [
  {
   "cell_type": "code",
   "execution_count": 2,
   "id": "76cc0739-63fc-45de-b5e0-4316d8547659",
   "metadata": {},
   "outputs": [],
   "source": [
    "import sqlite3"
   ]
  },
  {
   "cell_type": "code",
   "execution_count": 24,
   "id": "983d4409-af92-4919-8b9e-6499ab48e354",
   "metadata": {},
   "outputs": [],
   "source": [
    "def create_table():\n",
    "    conn = sqlite3.connect('my_book.db')\n",
    "    cursor=conn.cursor()\n",
    "    sql=\"\"\"\n",
    "    create table if not exists books(\n",
    "        title text,\n",
    "        publisher text,\n",
    "        pages integer,\n",
    "        recommend integer\n",
    "    )\n",
    "    \"\"\"\n",
    "    cursor.execute(sql)\n",
    "    conn.commit()\n",
    "    conn.close()"
   ]
  },
  {
   "cell_type": "code",
   "execution_count": 25,
   "id": "51703ce5-1ced-4649-8c14-33fcf6f068cf",
   "metadata": {},
   "outputs": [],
   "source": [
    "create_table()"
   ]
  },
  {
   "cell_type": "code",
   "execution_count": 39,
   "id": "f3cdaaf3-9639-48a6-9c38-8abda16422ac",
   "metadata": {},
   "outputs": [],
   "source": [
    "def insert_books(book):\n",
    "    conn=sqlite3.connect('my_book.db')\n",
    "    cursor=conn.cursor()\n",
    "    # sql=\"insert into books values('java','길벗', 500, 1)\"\n",
    "    sql = \"insert into books values(?,?,?,?)\"\n",
    "    cursor.execute(sql, book)\n",
    "    conn.commit()\n",
    "    conn.close()"
   ]
  },
  {
   "cell_type": "code",
   "execution_count": 40,
   "id": "a887379f-51d0-46fa-bd56-587adf26fb3f",
   "metadata": {},
   "outputs": [],
   "source": [
    "book = ('python', '한빛',600,1)\n",
    "insert_books(book)"
   ]
  },
  {
   "cell_type": "code",
   "execution_count": 45,
   "id": "3e37d347-7899-4625-addc-b6739e912b62",
   "metadata": {},
   "outputs": [],
   "source": [
    "def insert_many_books(books):\n",
    "    conn=sqlite3.connect('my_book.db')\n",
    "    cursor=conn.cursor()\n",
    "    sql = \"insert into books values(?,?,?,?)\"\n",
    "    cursor.executemany(sql, books)\n",
    "    conn.commit()\n",
    "    conn.close()"
   ]
  },
  {
   "cell_type": "code",
   "execution_count": 46,
   "id": "9685e157-9b2d-42f5-8b3e-3e9c2f03f532",
   "metadata": {},
   "outputs": [],
   "source": [
    "books= [('oracle','갑',300,1),('mysql','을',200,2), ('sqlite','병',100,3)]\n",
    "insert_many_books(books)"
   ]
  },
  {
   "cell_type": "code",
   "execution_count": 41,
   "id": "789a46fa-62a0-43f4-9a7b-4ab244dc89d0",
   "metadata": {},
   "outputs": [],
   "source": [
    "def all_books():\n",
    "    conn=sqlite3.connect('my_book.db')\n",
    "    cursor=conn.cursor()\n",
    "    sql=\"select * from books\"\n",
    "    cursor.execute(sql)\n",
    "    books=cursor.fetchall()\n",
    "    print(books)\n",
    "    print(len(books))\n",
    "    \n",
    "    for book in books:\n",
    "        print(book)    \n",
    "    conn.close()"
   ]
  },
  {
   "cell_type": "code",
   "execution_count": 48,
   "id": "119dd51f-de4e-40fa-b584-41ce10ce2e82",
   "metadata": {},
   "outputs": [
    {
     "name": "stdout",
     "output_type": "stream",
     "text": [
      "[('java', '길벗', 500, 1), ('python', '한빛', 600, 1), ('python', '한빛', 600, 1), ('oracle', '갑', 300, 1), ('mysql', '을', 200, 2), ('sqlite', '병', 100, 3)]\n",
      "6\n",
      "('java', '길벗', 500, 1)\n",
      "('python', '한빛', 600, 1)\n",
      "('python', '한빛', 600, 1)\n",
      "('oracle', '갑', 300, 1)\n",
      "('mysql', '을', 200, 2)\n",
      "('sqlite', '병', 100, 3)\n"
     ]
    }
   ],
   "source": [
    "all_books()"
   ]
  },
  {
   "cell_type": "code",
   "execution_count": 54,
   "id": "8406d55f-8844-424b-9cda-d8d2cf5cc9fc",
   "metadata": {},
   "outputs": [
    {
     "name": "stdout",
     "output_type": "stream",
     "text": [
      "('java', '길벗', 500, 1)\n",
      "('python', '한빛', 600, 1)\n",
      "('python', '한빛', 600, 1)\n"
     ]
    }
   ],
   "source": [
    "def some_books(number):\n",
    "    conn=sqlite3.connect('my_book.db')\n",
    "    cursor=conn.cursor()\n",
    "    sql=\"select * from books\"\n",
    "    cursor.execute(sql)\n",
    "    books=cursor.fetchmany(number)    \n",
    "    for book in books:\n",
    "        print(book)    \n",
    "    conn.close()\n",
    "some_books(3)"
   ]
  },
  {
   "cell_type": "code",
   "execution_count": 57,
   "id": "8b1749fb-7f49-4575-ad21-6e9a925a7201",
   "metadata": {},
   "outputs": [
    {
     "name": "stdout",
     "output_type": "stream",
     "text": [
      "('java', '길벗', 500, 1)\n"
     ]
    }
   ],
   "source": [
    "def one_book():\n",
    "    conn=sqlite3.connect('my_book.db')\n",
    "    cursor=conn.cursor()\n",
    "    sql=\"select * from books\"\n",
    "    cursor.execute(sql)\n",
    "    book=cursor.fetchone()    \n",
    "    print(book)\n",
    "    conn.close()\n",
    "one_book()"
   ]
  },
  {
   "cell_type": "code",
   "execution_count": 60,
   "id": "2d3a41c5-db72-4258-821c-1847d72c90ac",
   "metadata": {},
   "outputs": [
    {
     "name": "stdout",
     "output_type": "stream",
     "text": [
      "[('java', '길벗', 500, 1), ('python', '한빛', 600, 200), ('python', '한빛', 600, 200), ('oracle', '갑', 300, 1), ('mysql', '을', 200, 2), ('sqlite', '병', 100, 3)]\n",
      "6\n",
      "('java', '길벗', 500, 1)\n",
      "('python', '한빛', 600, 200)\n",
      "('python', '한빛', 600, 200)\n",
      "('oracle', '갑', 300, 1)\n",
      "('mysql', '을', 200, 2)\n",
      "('sqlite', '병', 100, 3)\n"
     ]
    }
   ],
   "source": [
    "def update_books():\n",
    "    conn=sqlite3.connect('my_book.db')\n",
    "    cursor=conn.cursor()\n",
    "    sql=\"update books set recommend=? where title=?\"\n",
    "    cursor.execute(sql, (200,'python'))\n",
    "    conn.commit()\n",
    "    conn.close()\n",
    "update_books()\n",
    "all_books()"
   ]
  },
  {
   "cell_type": "code",
   "execution_count": 79,
   "id": "f2bdc9a1-a739-4b74-b9d3-c86c0140e52f",
   "metadata": {},
   "outputs": [],
   "source": [
    "def delete_books():\n",
    "    conn=sqlite3.connect('my_book.db')\n",
    "    cursor=conn.cursor()\n",
    "    sql=\"delete from books where title=?\"\n",
    "    cursor.execute(sql,('oracle',))\n",
    "    conn.commit()\n",
    "    conn.close()"
   ]
  },
  {
   "cell_type": "code",
   "execution_count": 80,
   "id": "dda04149-545c-411a-a0a1-8e075aa0e8ba",
   "metadata": {},
   "outputs": [
    {
     "name": "stdout",
     "output_type": "stream",
     "text": [
      "[('java', '길벗', 500, 1), ('python', '한빛', 600, 200), ('python', '한빛', 600, 200), ('mysql', '을', 200, 2), ('sqlite', '병', 100, 3)]\n",
      "5\n",
      "('java', '길벗', 500, 1)\n",
      "('python', '한빛', 600, 200)\n",
      "('python', '한빛', 600, 200)\n",
      "('mysql', '을', 200, 2)\n",
      "('sqlite', '병', 100, 3)\n"
     ]
    }
   ],
   "source": [
    "delete_books()\n",
    "all_books()"
   ]
  }
 ],
 "metadata": {
  "kernelspec": {
   "display_name": "Python 3 (ipykernel)",
   "language": "python",
   "name": "python3"
  },
  "language_info": {
   "codemirror_mode": {
    "name": "ipython",
    "version": 3
   },
   "file_extension": ".py",
   "mimetype": "text/x-python",
   "name": "python",
   "nbconvert_exporter": "python",
   "pygments_lexer": "ipython3",
   "version": "3.9.12"
  }
 },
 "nbformat": 4,
 "nbformat_minor": 5
}
