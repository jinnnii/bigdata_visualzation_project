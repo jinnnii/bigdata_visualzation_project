{
 "cells": [
  {
   "cell_type": "code",
   "execution_count": 1,
   "id": "ba806a57-8a98-4dcb-970e-e40ad6405ee8",
   "metadata": {},
   "outputs": [
    {
     "data": {
      "text/plain": [
       "False"
      ]
     },
     "execution_count": 1,
     "metadata": {},
     "output_type": "execute_result"
    }
   ],
   "source": [
    "3>5<10"
   ]
  },
  {
   "cell_type": "code",
   "execution_count": 2,
   "id": "e84e5bf7-6b74-4157-a62e-d8e45e566814",
   "metadata": {},
   "outputs": [
    {
     "data": {
      "text/plain": [
       "True"
      ]
     },
     "execution_count": 2,
     "metadata": {},
     "output_type": "execute_result"
    }
   ],
   "source": [
    "(3>5)<10"
   ]
  },
  {
   "cell_type": "code",
   "execution_count": 3,
   "id": "185e20f3-dfaf-4e06-96c4-2e37937e31bd",
   "metadata": {},
   "outputs": [
    {
     "name": "stdout",
     "output_type": "stream",
     "text": [
      "(1, 2, [3, 4, 5])\n"
     ]
    }
   ],
   "source": [
    "def func(*args):\n",
    "    x,y,*z=args\n",
    "    return x,y,z\n",
    "print(func(1,2,3,4,5))"
   ]
  },
  {
   "cell_type": "code",
   "execution_count": 5,
   "id": "d9ab3c2e-d5b4-4ab5-9eb4-84346d77728e",
   "metadata": {
    "collapsed": true,
    "jupyter": {
     "outputs_hidden": true
    },
    "tags": []
   },
   "outputs": [
    {
     "data": {
      "text/plain": [
       "['Yesterday all my troubles\\n',\n",
       " 'seemed so far away.\\n',\n",
       " 'Now it looks\\n',\n",
       " \"as though they're here to stay.\\n\",\n",
       " 'Oh, I believe in yesterday.\\n',\n",
       " '\\n',\n",
       " \"Suddenly I'm not half\\n\",\n",
       " 'the man I used to be.\\n',\n",
       " \"There's a shadow hanging over me.\\n\",\n",
       " 'Oh, yesterday came suddenly.\\n',\n",
       " '\\n',\n",
       " 'Why she had to go,\\n',\n",
       " \"I don't know,\\n\",\n",
       " \"she wouldn't say.\\n\",\n",
       " 'I said something wrong,\\n',\n",
       " 'now I long for yesterday.\\n',\n",
       " '\\n',\n",
       " 'Yesterday love was\\n',\n",
       " 'such an easy game to play.\\n',\n",
       " 'Now I need a place to hide away.\\n',\n",
       " 'Oh, I believe in yesterday.\\n',\n",
       " '\\n',\n",
       " 'Why she had to go,\\n',\n",
       " \"I don't know,\\n\",\n",
       " \"she wouldn't say.\\n\",\n",
       " 'I said something wrong,\\n',\n",
       " 'now I long for yesterday.\\n',\n",
       " '\\n',\n",
       " 'Yesterday love was\\n',\n",
       " 'such an easy game to play.\\n',\n",
       " 'Now I need a place to hide away.\\n',\n",
       " 'Oh, I believe in yesterday.\\n',\n",
       " '\\n',\n",
       " 'Mm mm mm mm mm mm mm\\n']"
      ]
     },
     "execution_count": 5,
     "metadata": {},
     "output_type": "execute_result"
    }
   ],
   "source": [
    "f=open('data/yesterday.txt','r')\n",
    "lines = f.readlines()\n",
    "f.close()\n",
    "lines"
   ]
  },
  {
   "cell_type": "code",
   "execution_count": 16,
   "id": "927a954f-6351-4f7b-9946-9da113c9069e",
   "metadata": {},
   "outputs": [
    {
     "data": {
      "text/plain": [
       "9"
      ]
     },
     "execution_count": 16,
     "metadata": {},
     "output_type": "execute_result"
    }
   ],
   "source": [
    "contents=\"\"\n",
    "for line in lines:\n",
    "    contents+=line.strip().replace('.',' ').lower()\n",
    "contents.count(\"yesterday\")"
   ]
  },
  {
   "cell_type": "code",
   "execution_count": 30,
   "id": "00d062db-60d0-4013-8189-ceb8280e6096",
   "metadata": {},
   "outputs": [
    {
     "data": {
      "text/plain": [
       "'   1.23450'"
      ]
     },
     "execution_count": 30,
     "metadata": {},
     "output_type": "execute_result"
    }
   ],
   "source": [
    "'{0:10.5f}'.format(1.2345)"
   ]
  },
  {
   "cell_type": "code",
   "execution_count": 31,
   "id": "9ddf79a3-203f-458b-9689-e48aaaa3363f",
   "metadata": {},
   "outputs": [
    {
     "data": {
      "text/plain": [
       "deque([0, 1, 2, 3, 4])"
      ]
     },
     "execution_count": 31,
     "metadata": {},
     "output_type": "execute_result"
    }
   ],
   "source": [
    "from collections import deque\n",
    "\n",
    "dlist = deque()\n",
    "for i in range(5):\n",
    "    dlist.append(i)\n",
    "dlist"
   ]
  },
  {
   "cell_type": "code",
   "execution_count": 32,
   "id": "9331840c-857b-445f-88a5-2dbb15002b51",
   "metadata": {},
   "outputs": [
    {
     "data": {
      "text/plain": [
       "4"
      ]
     },
     "execution_count": 32,
     "metadata": {},
     "output_type": "execute_result"
    }
   ],
   "source": [
    "dlist.pop()"
   ]
  },
  {
   "cell_type": "code",
   "execution_count": 46,
   "id": "64ba912f-cd20-4553-926a-4c4f9f8af0d3",
   "metadata": {},
   "outputs": [
    {
     "data": {
      "text/plain": [
       "deque([4, 3, 2, 1, 0])"
      ]
     },
     "execution_count": 46,
     "metadata": {},
     "output_type": "execute_result"
    }
   ],
   "source": [
    "dlist =deque()\n",
    "for i in range(5):\n",
    "    dlist.appendleft(i)\n",
    "dlist"
   ]
  },
  {
   "cell_type": "code",
   "execution_count": 58,
   "id": "1647fb9a-79aa-4acc-bd79-3b32bb66c578",
   "metadata": {},
   "outputs": [
    {
     "data": {
      "text/plain": [
       "deque([1, 0, 4, 3, 2])"
      ]
     },
     "execution_count": 58,
     "metadata": {},
     "output_type": "execute_result"
    }
   ],
   "source": [
    "dlist =deque()\n",
    "for i in range(5):\n",
    "    dlist.appendleft(i)\n",
    "dlist.rotate(2)\n",
    "dlist"
   ]
  },
  {
   "cell_type": "code",
   "execution_count": 59,
   "id": "b90d1f3d-fbc2-41b5-8c3c-fdcb0c3d497c",
   "metadata": {},
   "outputs": [
    {
     "data": {
      "text/plain": [
       "odict_items([('a', 400), ('x', 100), ('y', 200), ('z', 300)])"
      ]
     },
     "execution_count": 59,
     "metadata": {},
     "output_type": "execute_result"
    }
   ],
   "source": [
    "from collections import OrderedDict\n",
    "\n",
    "d=dict()\n",
    "d['x']=100\n",
    "d['y']=200\n",
    "d['z']=300\n",
    "d['a']=400\n",
    "\n",
    "OrderedDict(sorted(d.items(),key=lambda x:x[0])).items()"
   ]
  },
  {
   "cell_type": "code",
   "execution_count": 66,
   "id": "a46a6791-33aa-44ea-8421-07e1b6222d4a",
   "metadata": {},
   "outputs": [
    {
     "data": {
      "text/plain": [
       "0"
      ]
     },
     "execution_count": 66,
     "metadata": {},
     "output_type": "execute_result"
    }
   ],
   "source": [
    "from collections import defaultdict\n",
    "\n",
    "dd= defaultdict(lambda:0)\n",
    "dd['first']"
   ]
  },
  {
   "cell_type": "code",
   "execution_count": 68,
   "id": "a06294d9-6d19-4ea1-ac96-5c9847b17b15",
   "metadata": {},
   "outputs": [
    {
     "data": {
      "text/plain": [
       "defaultdict(list, {'🍕': [1, 2], '🍔': [3, 4]})"
      ]
     },
     "execution_count": 68,
     "metadata": {},
     "output_type": "execute_result"
    }
   ],
   "source": [
    "s=[('🍕',1), ('🍕',2), ('🍔',3),('🍔',4)]\n",
    "\n",
    "dd=defaultdict(list)\n",
    "\n",
    "for k,v in s:\n",
    "    dd[k].append(v)\n",
    "\n",
    "dd"
   ]
  },
  {
   "cell_type": "code",
   "execution_count": 90,
   "id": "d7bcbaf6-0f76-4d3d-8a0e-5a7f03a20539",
   "metadata": {
    "collapsed": true,
    "jupyter": {
     "outputs_hidden": true
    },
    "tags": []
   },
   "outputs": [
    {
     "data": {
      "text/plain": [
       "Counter({'he': 4,\n",
       "         'images': 1,\n",
       "         'of': 6,\n",
       "         'sea': 1,\n",
       "         'life': 2,\n",
       "         'captured': 1,\n",
       "         'by': 4,\n",
       "         'photographer': 1,\n",
       "         'and': 4,\n",
       "         'cinematographer': 1,\n",
       "         'Shawn': 1,\n",
       "         'Heinrichs': 2,\n",
       "         'have': 1,\n",
       "         'a': 4,\n",
       "         'dual': 1,\n",
       "         'message:': 1,\n",
       "         'we': 2,\n",
       "         'should': 2,\n",
       "         'revere': 1,\n",
       "         'these': 1,\n",
       "         'majestic,': 1,\n",
       "         'yet': 1,\n",
       "         'fragile': 1,\n",
       "         'creatures,': 1,\n",
       "         'but': 1,\n",
       "         'also': 1,\n",
       "         'fear': 1,\n",
       "         'the': 7,\n",
       "         'prospect': 1,\n",
       "         'their': 2,\n",
       "         'extinction.': 1,\n",
       "         'Heinrichs,': 1,\n",
       "         '50,': 1,\n",
       "         'grew': 1,\n",
       "         'up': 1,\n",
       "         'South': 1,\n",
       "         'African': 1,\n",
       "         'coast:': 1,\n",
       "         '\"As': 1,\n",
       "         'kid': 1,\n",
       "         'I': 1,\n",
       "         'spent': 1,\n",
       "         'every': 1,\n",
       "         'weekend': 1,\n",
       "         'around': 1,\n",
       "         'oceans': 1,\n",
       "         '--': 1,\n",
       "         'it': 2,\n",
       "         'has': 1,\n",
       "         'more': 1,\n",
       "         'abundance': 1,\n",
       "         'than': 1,\n",
       "         'you': 1,\n",
       "         'could': 1,\n",
       "         'ever': 1,\n",
       "         'imagine,\"': 1,\n",
       "         'recalled.': 1,\n",
       "         'His': 1,\n",
       "         'protective': 1,\n",
       "         'instinct': 1,\n",
       "         'for': 4,\n",
       "         'beneath': 1,\n",
       "         'waves': 1,\n",
       "         'inspired': 1,\n",
       "         'career': 2,\n",
       "         'investigating': 1,\n",
       "         'its': 1,\n",
       "         'mistreatment': 1,\n",
       "         'humans': 1,\n",
       "         'campaigning': 1,\n",
       "         'change.': 1,\n",
       "         'By': 1,\n",
       "         'locating': 1,\n",
       "         'elusive': 1,\n",
       "         'whale': 1,\n",
       "         'sharks': 1,\n",
       "         'in': 3,\n",
       "         \"Mexico's\": 1,\n",
       "         'Isla': 1,\n",
       "         'Mujeres,': 1,\n",
       "         'heavily': 1,\n",
       "         'influenced': 1,\n",
       "         'local': 1,\n",
       "         \"fishermen's\": 1,\n",
       "         'transition': 1,\n",
       "         'to': 6,\n",
       "         'ecotourism.': 1,\n",
       "         'then': 1,\n",
       "         'documented': 1,\n",
       "         'widespread': 1,\n",
       "         'hunting': 1,\n",
       "         'manta': 1,\n",
       "         'rays': 1,\n",
       "         'gills,': 1,\n",
       "         'which': 2,\n",
       "         'are': 2,\n",
       "         'used': 1,\n",
       "         'traditional': 1,\n",
       "         'Chinese': 1,\n",
       "         'medicine,': 1,\n",
       "         'helped': 1,\n",
       "         'pave': 1,\n",
       "         'way': 1,\n",
       "         \"mantas'\": 1,\n",
       "         'official': 1,\n",
       "         'protection': 1,\n",
       "         'UN': 1,\n",
       "         'Convention': 1,\n",
       "         'on': 1,\n",
       "         'International': 1,\n",
       "         'Trade': 1,\n",
       "         'Endangered': 1,\n",
       "         'Species.': 1,\n",
       "         'Some': 1,\n",
       "         'his': 2,\n",
       "         'pictures': 1,\n",
       "         'showcase': 1,\n",
       "         'magnificence,': 1,\n",
       "         'while': 1,\n",
       "         'others': 1,\n",
       "         'intentionally': 1,\n",
       "         'hard': 1,\n",
       "         'look': 1,\n",
       "         'at.': 1,\n",
       "         'But': 1,\n",
       "         \"Heinrichs'\": 1,\n",
       "         'imagery': 1,\n",
       "         'exists': 1,\n",
       "         'inspire': 1,\n",
       "         'action.': 1,\n",
       "         'Today': 1,\n",
       "         'devotes': 1,\n",
       "         'much': 1,\n",
       "         'focus': 1,\n",
       "         'SeaLegacy,': 1,\n",
       "         'an': 1,\n",
       "         'organization': 1,\n",
       "         'seeks': 1,\n",
       "         'channel': 1,\n",
       "         'sense': 1,\n",
       "         'public': 1,\n",
       "         'injustice': 1,\n",
       "         'at': 1,\n",
       "         'endless': 1,\n",
       "         'fishing': 1,\n",
       "         'direct': 1,\n",
       "         'towards': 1,\n",
       "         'environmental': 1,\n",
       "         'activism.': 1})"
      ]
     },
     "execution_count": 90,
     "metadata": {},
     "output_type": "execute_result"
    }
   ],
   "source": [
    "from collections import Counter\n",
    "\n",
    "f = open('data/news.txt','r')\n",
    "lines = f.readlines()\n",
    "f.close()\n",
    "\n",
    "str = ''.join(lines).split()\n",
    "\n",
    "c=Counter(str)\n",
    "c"
   ]
  },
  {
   "cell_type": "code",
   "execution_count": 98,
   "id": "103cdbf2-7a15-4121-9f61-621eef15e106",
   "metadata": {
    "collapsed": true,
    "jupyter": {
     "outputs_hidden": true
    },
    "tags": []
   },
   "outputs": [
    {
     "data": {
      "text/plain": [
       "Counter({'yesterday': 9,\n",
       "         'all': 1,\n",
       "         'my': 1,\n",
       "         'troubles': 1,\n",
       "         'seemed': 1,\n",
       "         'so': 1,\n",
       "         'far': 1,\n",
       "         'away': 3,\n",
       "         'now': 5,\n",
       "         'it': 1,\n",
       "         'looks': 1,\n",
       "         'as': 1,\n",
       "         'though': 1,\n",
       "         \"they're\": 1,\n",
       "         'here': 1,\n",
       "         'to': 8,\n",
       "         'stay': 1,\n",
       "         'oh': 4,\n",
       "         'i': 12,\n",
       "         'believe': 3,\n",
       "         'in': 3,\n",
       "         'suddenly': 2,\n",
       "         \"i'm\": 1,\n",
       "         'not': 1,\n",
       "         'half': 1,\n",
       "         'the': 1,\n",
       "         'man': 1,\n",
       "         'used': 1,\n",
       "         'be': 1,\n",
       "         \"there's\": 1,\n",
       "         'a': 3,\n",
       "         'shadow': 1,\n",
       "         'hanging': 1,\n",
       "         'over': 1,\n",
       "         'me': 1,\n",
       "         'came': 1,\n",
       "         'why': 2,\n",
       "         'she': 4,\n",
       "         'had': 2,\n",
       "         'go': 2,\n",
       "         \"don't\": 2,\n",
       "         'know': 2,\n",
       "         \"wouldn't\": 2,\n",
       "         'say': 2,\n",
       "         'said': 2,\n",
       "         'something': 2,\n",
       "         'wrong': 2,\n",
       "         'long': 2,\n",
       "         'for': 2,\n",
       "         'love': 2,\n",
       "         'was': 2,\n",
       "         'such': 2,\n",
       "         'an': 2,\n",
       "         'easy': 2,\n",
       "         'game': 2,\n",
       "         'play': 2,\n",
       "         'need': 2,\n",
       "         'place': 2,\n",
       "         'hide': 2,\n",
       "         'mm': 7})"
      ]
     },
     "execution_count": 98,
     "metadata": {},
     "output_type": "execute_result"
    }
   ],
   "source": [
    "f = open('data/yesterday.txt','r')\n",
    "lines = f.readlines()\n",
    "f.close()\n",
    "\n",
    "str = ''.join(lines).lower().replace('.', ' ').replace(',',' ').split()\n",
    "\n",
    "c=Counter(str)\n",
    "c"
   ]
  },
  {
   "cell_type": "code",
   "execution_count": 102,
   "id": "0470eae8-a224-4708-bcee-07cc3d4ff620",
   "metadata": {},
   "outputs": [
    {
     "data": {
      "text/plain": [
       "Counter({'a': 3, 'b': 0, 'c': -3, 'd': 0})"
      ]
     },
     "execution_count": 102,
     "metadata": {},
     "output_type": "execute_result"
    }
   ],
   "source": [
    "c1 = Counter(a=4, b=3, c=0, d=-2)\n",
    "c2 = Counter(a=1, b=3, c=3, d=-2)\n",
    "\n",
    "c1.subtract(c2)\n",
    "c1"
   ]
  },
  {
   "cell_type": "code",
   "execution_count": 92,
   "id": "f76173cb-13fb-4f23-bf3e-9cbb25bfc669",
   "metadata": {
    "tags": []
   },
   "outputs": [
    {
     "data": {
      "text/plain": [
       "['🥐', '🥐', '🥐', '🥐', '🥨', '🥨', '🥨', '🍞', '🍞']"
      ]
     },
     "execution_count": 92,
     "metadata": {},
     "output_type": "execute_result"
    }
   ],
   "source": [
    "c=Counter({'🥐':4, '🥨':3, '🍞':2})\n",
    "list(c.elements())"
   ]
  },
  {
   "cell_type": "code",
   "execution_count": 103,
   "id": "82541778-0dce-48fa-8366-7dff08501005",
   "metadata": {
    "collapsed": true,
    "jupyter": {
     "outputs_hidden": true
    },
    "tags": []
   },
   "outputs": [
    {
     "data": {
      "text/plain": [
       "['hw',\n",
       " 'ho',\n",
       " 'hr',\n",
       " 'hl',\n",
       " 'hd',\n",
       " 'ew',\n",
       " 'eo',\n",
       " 'er',\n",
       " 'el',\n",
       " 'ed',\n",
       " 'lw',\n",
       " 'lo',\n",
       " 'lr',\n",
       " 'll',\n",
       " 'ld',\n",
       " 'lw',\n",
       " 'lo',\n",
       " 'lr',\n",
       " 'll',\n",
       " 'ld',\n",
       " 'ow',\n",
       " 'oo',\n",
       " 'or',\n",
       " 'ol',\n",
       " 'od']"
      ]
     },
     "execution_count": 103,
     "metadata": {},
     "output_type": "execute_result"
    }
   ],
   "source": [
    "word1= 'hello'\n",
    "word2= 'world'\n",
    "\n",
    "result = [i+j for i in word1 for j in word2]\n",
    "result"
   ]
  }
 ],
 "metadata": {
  "kernelspec": {
   "display_name": "Python 3 (ipykernel)",
   "language": "python",
   "name": "python3"
  },
  "language_info": {
   "codemirror_mode": {
    "name": "ipython",
    "version": 3
   },
   "file_extension": ".py",
   "mimetype": "text/x-python",
   "name": "python",
   "nbconvert_exporter": "python",
   "pygments_lexer": "ipython3",
   "version": "3.9.12"
  }
 },
 "nbformat": 4,
 "nbformat_minor": 5
}
