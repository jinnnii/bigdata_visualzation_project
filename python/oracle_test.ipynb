{
 "cells": [
  {
   "cell_type": "code",
   "execution_count": null,
   "id": "460db7df-85af-4669-9d51-08fb207c91de",
   "metadata": {},
   "outputs": [],
   "source": [
    "import cx_Oracle\n",
    "def all_product():\n",
    "    conn=cx_Oracle.connect(\"kej/1234@localhost:1521/xe\")\n",
    "    cursor=conn.cursor()\n",
    "    sql=\"select * from product\"\n",
    "    cursor.excute(sql)\n",
    "    for row in cursor:\n",
    "        description=row[3].read()\n",
    "        data = list(row)\n",
    "        data[3]=description\n",
    "        print(data)\n",
    "    conn.close()"
   ]
  },
  {
   "cell_type": "code",
   "execution_count": null,
   "id": "76f0b0dc-db8b-42bc-80fd-ac457c47e30d",
   "metadata": {},
   "outputs": [],
   "source": [
    "def insert_product():\n",
    "    conn=cx_Oracle.connect(\"kej/1234@localhost:1521/xe\")\n",
    "    cursor=conn.cursor()\n",
    "    sql=\"insert into product values(:1,:2,:3,:4,:5)\"\n",
    "    data=(2,\"석류\",2000,\"미녀는 석류를 좋아해\",\"image.jpg\")\n",
    "    cursor.excute(sql,data)\n",
    "    conn.commit()\n",
    "    conn.close()"
   ]
  },
  {
   "cell_type": "code",
   "execution_count": null,
   "id": "6cbdc58d-e3e8-4ae8-853d-e6da36b30556",
   "metadata": {},
   "outputs": [],
   "source": [
    "insert_product()"
   ]
  },
  {
   "cell_type": "code",
   "execution_count": 2,
   "id": "f7098843-2714-4c9b-8f6c-cd4a28267a49",
   "metadata": {
    "tags": []
   },
   "outputs": [
    {
     "ename": "NameError",
     "evalue": "name 'cx_Oracle' is not defined",
     "output_type": "error",
     "traceback": [
      "\u001b[1;31m---------------------------------------------------------------------------\u001b[0m",
      "\u001b[1;31mNameError\u001b[0m                                 Traceback (most recent call last)",
      "Input \u001b[1;32mIn [2]\u001b[0m, in \u001b[0;36m<cell line: 10>\u001b[1;34m()\u001b[0m\n\u001b[0;32m      7\u001b[0m     conn\u001b[38;5;241m.\u001b[39mclose()\n\u001b[0;32m      9\u001b[0m items\u001b[38;5;241m=\u001b[39m[(\u001b[38;5;241m2\u001b[39m,\u001b[38;5;124m'\u001b[39m\u001b[38;5;124m키위\u001b[39m\u001b[38;5;124m'\u001b[39m, \u001b[38;5;241m2000\u001b[39m, \u001b[38;5;124m'\u001b[39m\u001b[38;5;124m달다..!\u001b[39m\u001b[38;5;124m'\u001b[39m, \u001b[38;5;124m'\u001b[39m\u001b[38;5;124mkiwi.jpg\u001b[39m\u001b[38;5;124m'\u001b[39m), (\u001b[38;5;241m3\u001b[39m,\u001b[38;5;124m'\u001b[39m\u001b[38;5;124m딸기\u001b[39m\u001b[38;5;124m'\u001b[39m,\u001b[38;5;241m3000\u001b[39m,\u001b[38;5;124m'\u001b[39m\u001b[38;5;124m사빠딸, 사딸라\u001b[39m\u001b[38;5;124m'\u001b[39m, \u001b[38;5;124m'\u001b[39m\u001b[38;5;124mstrawberry.jpg\u001b[39m\u001b[38;5;124m'\u001b[39m)]\n\u001b[1;32m---> 10\u001b[0m \u001b[43minsert_many\u001b[49m\u001b[43m(\u001b[49m\u001b[43mitems\u001b[49m\u001b[43m)\u001b[49m\n",
      "Input \u001b[1;32mIn [2]\u001b[0m, in \u001b[0;36minsert_many\u001b[1;34m(items)\u001b[0m\n\u001b[0;32m      1\u001b[0m \u001b[38;5;28;01mdef\u001b[39;00m \u001b[38;5;21minsert_many\u001b[39m(items):\n\u001b[1;32m----> 2\u001b[0m     conn\u001b[38;5;241m=\u001b[39m\u001b[43mcx_Oracle\u001b[49m\u001b[38;5;241m.\u001b[39mconnect(\u001b[38;5;124m\"\u001b[39m\u001b[38;5;124mkej/1234@localhost:1521/xe\u001b[39m\u001b[38;5;124m\"\u001b[39m)\n\u001b[0;32m      3\u001b[0m     cursor\u001b[38;5;241m=\u001b[39mconn\u001b[38;5;241m.\u001b[39mcursor()\n\u001b[0;32m      4\u001b[0m     sql\u001b[38;5;241m=\u001b[39m\u001b[38;5;124m\"\u001b[39m\u001b[38;5;124minsert into product values(:1,:2,:3,:4,:5)\u001b[39m\u001b[38;5;124m\"\u001b[39m\n",
      "\u001b[1;31mNameError\u001b[0m: name 'cx_Oracle' is not defined"
     ]
    }
   ],
   "source": [
    "def insert_many(items):\n",
    "    conn=cx_Oracle.connect(\"kej/1234@localhost:1521/xe\")\n",
    "    cursor=conn.cursor()\n",
    "    sql=\"insert into product values(:1,:2,:3,:4,:5)\"\n",
    "    cursor.excutemany(sql,items)\n",
    "    conn.commit()\n",
    "    conn.close()\n",
    "    \n",
    "items=[(2,'키위', 2000, '달다..!', 'kiwi.jpg'), (3,'딸기',3000,'사빠딸, 사딸라', 'strawberry.jpg')]\n",
    "insert_many(items)"
   ]
  },
  {
   "cell_type": "code",
   "execution_count": null,
   "id": "a9dbc807-f09d-4273-bb48-a80d045fd51a",
   "metadata": {},
   "outputs": [],
   "source": [
    "def name_select():\n",
    "    conn=cx_Oracle.connect(\"kej/1234@localhost:1521/xe\")\n",
    "    cursor=conn.cursor()\n",
    "    sql=\"select * from product where product_name=:1\"\n",
    "    cursor.excute(sql,('포도',))\n",
    "    \n",
    "    for row in cursor:\n",
    "        description=row[3].read()\n",
    "        data=list(row)\n",
    "        data[3]=description\n",
    "        print(data)\n",
    "    conn.close()"
   ]
  },
  {
   "cell_type": "code",
   "execution_count": 3,
   "id": "60127ae8-4549-412d-8d9e-679d8698ca36",
   "metadata": {
    "collapsed": true,
    "jupyter": {
     "outputs_hidden": true
    },
    "tags": []
   },
   "outputs": [
    {
     "ename": "NameError",
     "evalue": "name 'name_select' is not defined",
     "output_type": "error",
     "traceback": [
      "\u001b[1;31m---------------------------------------------------------------------------\u001b[0m",
      "\u001b[1;31mNameError\u001b[0m                                 Traceback (most recent call last)",
      "Input \u001b[1;32mIn [3]\u001b[0m, in \u001b[0;36m<cell line: 1>\u001b[1;34m()\u001b[0m\n\u001b[1;32m----> 1\u001b[0m \u001b[43mname_select\u001b[49m()\n",
      "\u001b[1;31mNameError\u001b[0m: name 'name_select' is not defined"
     ]
    }
   ],
   "source": [
    "name_select()"
   ]
  },
  {
   "cell_type": "code",
   "execution_count": null,
   "id": "57d88293-feb6-41cf-aa21-929f14406618",
   "metadata": {},
   "outputs": [],
   "source": [
    "def delete_product():\n",
    "    conn=cx_Oracle.connect(\"kej/1234@localhost:1521/xe\")\n",
    "    cursor=conn.cursor()\n",
    "    sql=\"delete from product where product_id=:1\"\n",
    "    cursor.excutemany(sql,(1,))\n",
    "    conn.commit()\n",
    "    conn.close()"
   ]
  },
  {
   "cell_type": "code",
   "execution_count": null,
   "id": "d1541a2b-40bd-4a6c-9cdb-797b8baaeffb",
   "metadata": {},
   "outputs": [],
   "source": [
    "delete_product()"
   ]
  }
 ],
 "metadata": {
  "kernelspec": {
   "display_name": "Python 3 (ipykernel)",
   "language": "python",
   "name": "python3"
  },
  "language_info": {
   "codemirror_mode": {
    "name": "ipython",
    "version": 3
   },
   "file_extension": ".py",
   "mimetype": "text/x-python",
   "name": "python",
   "nbconvert_exporter": "python",
   "pygments_lexer": "ipython3",
   "version": "3.9.12"
  }
 },
 "nbformat": 4,
 "nbformat_minor": 5
}
