{
 "cells": [
  {
   "cell_type": "code",
   "execution_count": 94,
   "id": "cff3a3f7-d24c-416e-bb95-ad39aee69ccc",
   "metadata": {
    "collapsed": true,
    "jupyter": {
     "outputs_hidden": true
    },
    "tags": []
   },
   "outputs": [
    {
     "name": "stdout",
     "output_type": "stream",
     "text": [
      "https://openapi.naver.com/v1/search/news.json?query=%EC%B6%95%EA%B5%AC\n",
      "{\n",
      "\t\"lastBuildDate\":\"Fri, 03 Jun 2022 15:17:07 +0900\",\n",
      "\t\"total\":3914126,\n",
      "\t\"start\":1,\n",
      "\t\"display\":10,\n",
      "\t\"items\":[\n",
      "\t\t{\n",
      "\t\t\t\"title\":\"대한<b>축구<\\/b>협회, 서울시와 '2022 풋볼 페스티벌 제로웨이스트' 축제 개최\",\n",
      "\t\t\t\"originallink\":\"https:\\/\\/www.goal.com\\/kr\\/뉴스\\/a\\/bltab6a47d7671f22ab\",\n",
      "\t\t\t\"link\":\"https:\\/\\/sports.news.naver.com\\/news.nhn?oid=216&aid=0000121927\",\n",
      "\t\t\t\"description\":\"대한<b>축구<\\/b>협회(KFA)와 서울시가 2002 국제<b>축구<\\/b>연맹(FIFA) 한·일 월드컵 20주년을 맞아 오는 6월 1일부터 6일까지 서울월드컵경기장 일대에서 '2022 풋볼 페스티벌 제로웨이스트'를 개최한다. '글로리 &amp; 비욘드 (Glory &amp; Beyond)'라는... \",\n",
      "\t\t\t\"pubDate\":\"Fri, 03 Jun 2022 15:16:00 +0900\"\n",
      "\t\t},\n",
      "\t\t{\n",
      "\t\t\t\"title\":\"넥슨 '피파 온라인 4', 유소년 후원 프로그램 'U12 Ground N 팝업 <b>축구<\\/b> 교실'...\",\n",
      "\t\t\t\"originallink\":\"https:\\/\\/www.xportsnews.com\\/article\\/1585211\",\n",
      "\t\t\t\"link\":\"https:\\/\\/sports.news.naver.com\\/news.nhn?oid=311&aid=0001457100\",\n",
      "\t\t\t\"description\":\"넥슨이 'U12 Ground N 팝업 <b>축구<\\/b> 교실'을 운영한다. 3일 ㈜넥슨(대표 이정헌)은 EA 코리아 스튜디오가 개발하고 자사가 서비스하는 정통 온라인 <b>축구<\\/b>게임 ‘EA SPORTS™ FIFA Online 4(이하 ‘FIFA 온라인 4’)’의 도서산간... \",\n",
      "\t\t\t\"pubDate\":\"Fri, 03 Jun 2022 15:13:00 +0900\"\n",
      "\t\t},\n",
      "\t\t{\n",
      "\t\t\t\"title\":\"[st&amp;현장] &quot;우뤼는 잘 나아가고 있서요&quot; 벨 감독의 여자<b>축구<\\/b> 철학\",\n",
      "\t\t\t\"originallink\":\"http:\\/\\/www.stnsports.co.kr\\/news\\/articleView.html?idxno=150870\",\n",
      "\t\t\t\"link\":\"https:\\/\\/sports.news.naver.com\\/news.nhn?oid=450&aid=0000084507\",\n",
      "\t\t\t\"description\":\"콜린 벨(60) 한국여자국가대표팀 감독이 한국 여자<b>축구<\\/b>에 제언을 던졌다. KFA는 2002년 월드컵 20주년 기념 '2022... 또 이전 대회를 분석하고, 지도자들에게 강연을 하고, 여자<b>축구<\\/b>에 대한 제언을 던졌다. 벨 감독은 2019년... \",\n",
      "\t\t\t\"pubDate\":\"Fri, 03 Jun 2022 15:11:00 +0900\"\n",
      "\t\t},\n",
      "\t\t{\n",
      "\t\t\t\"title\":\"압도적인 브라질 경기력 계속되자… 네이버 <b>축구<\\/b> 카페 “인정”\",\n",
      "\t\t\t\"originallink\":\"https:\\/\\/www.ddaily.co.kr\\/news\\/article.html?no=239162\",\n",
      "\t\t\t\"link\":\"https:\\/\\/news.naver.com\\/main\\/read.naver?mode=LSD&mid=sec&sid1=105&oid=138&aid=0002125940\",\n",
      "\t\t\t\"description\":\"한국 <b>축구<\\/b>국가대표팀이 2일 저녁 8시, 브라질 <b>축구<\\/b> 대표팀과 서울월드컵경기장에서 열린 평가전에서 국제<b>축구<\\/b>연맹(FIFA) 랭킹 1위 브라질에 현격한 실력차를 드러내며 1대5로 완패했다. 프랑스에서 뛰는 황의조가 전반... \",\n",
      "\t\t\t\"pubDate\":\"Fri, 03 Jun 2022 15:11:00 +0900\"\n",
      "\t\t},\n",
      "\t\t{\n",
      "\t\t\t\"title\":\"[In 상암] &quot;女대표팀, 잘 발전하고 있습니다!&quot;...벨 감독이 생각한 미래\",\n",
      "\t\t\t\"originallink\":\"http:\\/\\/www.interfootball.co.kr\\/news\\/articleView.html?idxno=571127\",\n",
      "\t\t\t\"link\":\"https:\\/\\/sports.news.naver.com\\/news.nhn?oid=413&aid=0000140456\",\n",
      "\t\t\t\"description\":\"대한<b>축구<\\/b>협회(KFA)가 2002 국제<b>축구<\\/b>연맹(FIFA) 한일 월드컵 20주년 기념 '2022 KFA 풋볼 페스티벌 서울'을 맞이해 지도자 컨퍼런스를 개최했다. 태극 낭자들을 이끄는 콜린 벨 감독도 직접 강단에 올라 교육을 진행했다. KFA는... \",\n",
      "\t\t\t\"pubDate\":\"Fri, 03 Jun 2022 15:11:00 +0900\"\n",
      "\t\t},\n",
      "\t\t{\n",
      "\t\t\t\"title\":\"포항 상대초 여자<b>축구<\\/b>부, 전국소년체전 정상\",\n",
      "\t\t\t\"originallink\":\"https:\\/\\/www.nocutnews.co.kr\\/news\\/5767174\",\n",
      "\t\t\t\"link\":\"https:\\/\\/news.naver.com\\/main\\/read.naver?mode=LSD&mid=sec&sid1=102&oid=079&aid=0003650620\",\n",
      "\t\t\t\"description\":\"경북 포항 상대초등학교(이성웅 교장) 여자<b>축구<\\/b>부가 제51회 전국소년체육대회 <b>축구<\\/b> 여자초등부 단체전에서 금메달을 차지했다. 이번대회는 지난 5월 27일부터 31일까지 구미시 구미낙동강체육공원에서 열렸으며, 전국... \",\n",
      "\t\t\t\"pubDate\":\"Fri, 03 Jun 2022 15:09:00 +0900\"\n",
      "\t\t},\n",
      "\t\t{\n",
      "\t\t\t\"title\":\"밀양 산불, 나흘 만에 주불 완진…<b>축구<\\/b>장 1000여개 크기 임야 불타\",\n",
      "\t\t\t\"originallink\":\"http:\\/\\/news.tf.co.kr\\/read\\/national\\/1943179.htm\",\n",
      "\t\t\t\"link\":\"https:\\/\\/news.naver.com\\/main\\/read.naver?mode=LSD&mid=sec&sid1=102&oid=629&aid=0000153384\",\n",
      "\t\t\t\"description\":\"이는 <b>축구<\\/b>장 1000여 개의 크기에 달한다. 다행히 인명피해와 재산피해는 없었다. 남성현 산림청장은 산불의 조기 진화가 늦어진 이유에 대해 &quot;산불 지역 주변이 생활권 지역으로 주거지역, 사찰, 구치소, 요양병원 등이... \",\n",
      "\t\t\t\"pubDate\":\"Fri, 03 Jun 2022 15:08:00 +0900\"\n",
      "\t\t},\n",
      "\t\t{\n",
      "\t\t\t\"title\":\"이천수 &quot;수적우위 가져간건 브라질… 韓 긴장해 자멸&quot;\",\n",
      "\t\t\t\"originallink\":\"http:\\/\\/sports.hankooki.com\\/news\\/articleView.html?idxno=6798753\",\n",
      "\t\t\t\"link\":\"http:\\/\\/sports.hankooki.com\\/news\\/articleView.html?idxno=6798753\",\n",
      "\t\t\t\"description\":\"ⓒ리춘수 유튜브 파울루 벤투 감독이 이끄는 <b>축구<\\/b>대표팀은 2일 오후 8시 서울월드컵경기장에서 열린 브라질과 A매치 평가전에서 황의조의 골에도 1-5 참패를 당했다. 한국은 전반 7분 히샬리송에게 선제골을 내주고 전반... \",\n",
      "\t\t\t\"pubDate\":\"Fri, 03 Jun 2022 15:08:00 +0900\"\n",
      "\t\t},\n",
      "\t\t{\n",
      "\t\t\t\"title\":\"토트넘도 열광했다...팬들은 &quot;손케네 트리오 희망&quot;\",\n",
      "\t\t\t\"originallink\":\"https:\\/\\/www.xportsnews.com\\/article\\/1585173\",\n",
      "\t\t\t\"link\":\"https:\\/\\/sports.news.naver.com\\/news.nhn?oid=311&aid=0001457093\",\n",
      "\t\t\t\"description\":\"나라를 대표하는 <b>축구<\\/b> 선수들의 만남이 <b>축구<\\/b> 팬들을 열광하게 만들었다. 대한민국 <b>축구<\\/b>대표팀의 에이스 손흥민과 브라질 <b>축구<\\/b>대표팀의 에이스 파리 네이마르의 만남이 여전히 SNS를 뜨겁게 달구고 있다. 지난 2일... \",\n",
      "\t\t\t\"pubDate\":\"Fri, 03 Jun 2022 15:07:00 +0900\"\n",
      "\t\t},\n",
      "\t\t{\n",
      "\t\t\t\"title\":\"화력 전차 독일, 이탈리아 방패 뚫나\",\n",
      "\t\t\t\"originallink\":\"http:\\/\\/www.sportsworldi.com\\/newsView\\/20220603511133\",\n",
      "\t\t\t\"link\":\"https:\\/\\/sports.news.naver.com\\/news.nhn?oid=396&aid=0000615005\",\n",
      "\t\t\t\"description\":\"두 팀은 오는 5일 오전 3시 45분(이하 한국시간) 2022∼2023 유럽<b>축구<\\/b>연맹(UEFA) 네이션스리그(UNL)에서 만난다. 이 두 팀은 잉글랜ㄷ, 헝가리까지 A그룹 3조에 자리해있다. ‘아주리 군단’ 이탈리아는 UNL 두 대회 연속... \",\n",
      "\t\t\t\"pubDate\":\"Fri, 03 Jun 2022 15:07:00 +0900\"\n",
      "\t\t}\n",
      "\t]\n",
      "}\n"
     ]
    }
   ],
   "source": [
    "import os\n",
    "import sys\n",
    "import urllib\n",
    "import pandas as ps\n",
    "\n",
    "client_id = \"ZthuQ8oXYrnw5_pgssCW\"\n",
    "client_secret = \"va6PhUCHEP\"\n",
    "srcText =urllib.parse.quote('축구')\n",
    "url = \"https://openapi.naver.com/v1/search/news.json?query=%s\"%srcText;\n",
    "print(url)\n",
    "request = urllib.request.Request(url)\n",
    "request.add_header(\"X-Naver-Client-Id\",client_id)\n",
    "request.add_header(\"X-Naver-Client-Secret\",client_secret)\n",
    "# request.add_header(\"Content-Type\",\"application/json\")\n",
    "response = urllib.request.urlopen(request)\n",
    "rescode = response.getcode()\n",
    "\n",
    "if(rescode==200):\n",
    "    response_body = response.read()\n",
    "    print(response_body.decode('utf-8'))\n",
    "else:\n",
    "    print(\"Error Code:\" + rescode)"
   ]
  },
  {
   "cell_type": "code",
   "execution_count": null,
   "id": "9b523dab-5eab-47b7-b4ab-3ca5ddcc22ab",
   "metadata": {},
   "outputs": [],
   "source": [
    "def main():\n",
    "    "
   ]
  },
  {
   "cell_type": "code",
   "execution_count": 28,
   "id": "9d94b7b9-a361-4634-8985-3ac6fad9e90b",
   "metadata": {},
   "outputs": [],
   "source": [
    "import urllib.request\n",
    "import datetime\n",
    "import time\n",
    "import json\n",
    "\n",
    "client_id = \"ZthuQ8oXYrnw5_pgssCW\"\n",
    "client_secret = \"va6PhUCHEP\""
   ]
  },
  {
   "cell_type": "code",
   "execution_count": 91,
   "id": "2364be25-3f49-481e-8794-34cfc09eb2c2",
   "metadata": {},
   "outputs": [],
   "source": [
    "def getRequestURL(url):\n",
    "    req = urllib.request.Request(url)\n",
    "    req.add_header(\"X-Naver-Client-Id\",client_id)\n",
    "    req.add_header(\"X-Naver-Client-Secret\",client_secret)\n",
    "    \n",
    "    try:\n",
    "        if resp.getcode()==200:\n",
    "            print('[%s] URL Request Sussess'%datetime.datetime.now())\n",
    "            return resp.read().decode('utf-8')\n",
    "    except Exception as e:\n",
    "        print(e)\n",
    "        return None"
   ]
  },
  {
   "cell_type": "code",
   "execution_count": 89,
   "id": "c550164d-8935-4585-a74f-e43875e295d6",
   "metadata": {},
   "outputs": [],
   "source": [
    "def getNaverSearch(node, word, start, display):\n",
    "    base = 'https://openapi.naver.com/v1/search/'\n",
    "    node = '%s.json'%node\n",
    "    params = '?query=%s&start=%s&display=%s'%(urllib.parse.quote(word),start, display)\n",
    "    resp_decode = getRequestURL(base+node+params)\n",
    "    print(base+node+params)\n",
    "    if(resp_decode==None):\n",
    "        return None\n",
    "    else:\n",
    "        return json.loads(resp_decode)"
   ]
  },
  {
   "cell_type": "code",
   "execution_count": 78,
   "id": "a0f93f54-b5aa-4706-88d3-52df554a3719",
   "metadata": {},
   "outputs": [],
   "source": [
    "def getPostData(post,result,cnt):\n",
    "    title=post['title']\n",
    "    description = post['description']\n",
    "    ori_link=post['originallink']\n",
    "    link=post['link']\n",
    "    \n",
    "    pub_date = datetime.datetime.strptime(post['pubDate'],'%a, %d %b %Y %H:%M:%S +0900') \n",
    "    pub_date = pub_date.strftime('%Y-%m-%d %H:%M:%S')\n",
    "    \n",
    "    result.append({'cnt':cnt,\n",
    "                  'title':title,\n",
    "                  'description':description,\n",
    "                  'org_link':ori_link,\n",
    "                  'link':link,\n",
    "                  'pub_date':pub_date})\n",
    "    return"
   ]
  },
  {
   "cell_type": "code",
   "execution_count": 85,
   "id": "645204c7-732f-488a-89c9-1f4ea9524215",
   "metadata": {},
   "outputs": [],
   "source": [
    "def main():\n",
    "    node = 'news'\n",
    "    search_word =input('검색어를 입력하세요')\n",
    "    cnt=0\n",
    "    json_result= []\n",
    "    \n",
    "    # node, word, start, display\n",
    "    json_resp = getNaverSearch(node, search_word, 1, 100)\n",
    "    \n",
    "    total = json_resp['total'] #총 검색 개수\n",
    "    \n",
    "    # print(json_resp)\n",
    "    while((json_resp!=None) and (json_resp['display']!=0)):\n",
    "        for post in json_resp['items']:\n",
    "            cnt+=1\n",
    "            getPostData(post,json_result,cnt)\n",
    "            \n",
    "        start=json_resp['start']+json_resp['display']\n",
    "        json_resp=getNaverSearch(node,search_word,start,100)\n",
    "    \n",
    "    with open('%s_naver_%s.json'%(search_word,node),'w',encoding='utf-8') as outfile:\n",
    "        file = json.dumps(json_result, indent=4,sort_keys=True, ensure_ascii=False)\n",
    "        outfile.write(file)\n",
    "        \n",
    "    print('전체 검색 : %d 건'%cnt)\n",
    "    print('%s_naver_%s.json SAVED'%(search_word, node))"
   ]
  },
  {
   "cell_type": "code",
   "execution_count": 90,
   "id": "815dd288-3a83-4e19-998d-a9f7a6f04165",
   "metadata": {
    "tags": []
   },
   "outputs": [
    {
     "name": "stdin",
     "output_type": "stream",
     "text": [
      "검색어를 입력하세요 플로깅\n"
     ]
    },
    {
     "name": "stdout",
     "output_type": "stream",
     "text": [
      "[2022-06-03 15:14:25.691473] URL Request Sussess\n",
      "https://openapi.naver.com/v1/search/news.json?query=%ED%94%8C%EB%A1%9C%EA%B9%85&start=1&display=100\n",
      "[2022-06-03 15:14:25.908622] URL Request Sussess\n",
      "https://openapi.naver.com/v1/search/news.json?query=%ED%94%8C%EB%A1%9C%EA%B9%85&start=101&display=100\n",
      "[2022-06-03 15:14:26.097800] URL Request Sussess\n",
      "https://openapi.naver.com/v1/search/news.json?query=%ED%94%8C%EB%A1%9C%EA%B9%85&start=201&display=100\n",
      "[2022-06-03 15:14:26.274723] URL Request Sussess\n",
      "https://openapi.naver.com/v1/search/news.json?query=%ED%94%8C%EB%A1%9C%EA%B9%85&start=301&display=100\n",
      "[2022-06-03 15:14:26.506075] URL Request Sussess\n",
      "https://openapi.naver.com/v1/search/news.json?query=%ED%94%8C%EB%A1%9C%EA%B9%85&start=401&display=100\n",
      "[2022-06-03 15:14:26.720813] URL Request Sussess\n",
      "https://openapi.naver.com/v1/search/news.json?query=%ED%94%8C%EB%A1%9C%EA%B9%85&start=501&display=100\n",
      "[2022-06-03 15:14:26.935581] URL Request Sussess\n",
      "https://openapi.naver.com/v1/search/news.json?query=%ED%94%8C%EB%A1%9C%EA%B9%85&start=601&display=100\n",
      "[2022-06-03 15:14:27.171463] URL Request Sussess\n",
      "https://openapi.naver.com/v1/search/news.json?query=%ED%94%8C%EB%A1%9C%EA%B9%85&start=701&display=100\n",
      "[2022-06-03 15:14:27.394423] URL Request Sussess\n",
      "https://openapi.naver.com/v1/search/news.json?query=%ED%94%8C%EB%A1%9C%EA%B9%85&start=801&display=100\n",
      "[2022-06-03 15:14:27.618150] URL Request Sussess\n",
      "https://openapi.naver.com/v1/search/news.json?query=%ED%94%8C%EB%A1%9C%EA%B9%85&start=901&display=100\n",
      "HTTP Error 400: Bad Request\n",
      "https://openapi.naver.com/v1/search/news.json?query=%ED%94%8C%EB%A1%9C%EA%B9%85&start=1001&display=100\n",
      "전체 검색 : 1000 건\n",
      "플로깅_naver_news.json SAVED\n"
     ]
    }
   ],
   "source": [
    "main()"
   ]
  },
  {
   "cell_type": "code",
   "execution_count": null,
   "id": "7cca7721-65ab-4ac1-8c53-6ac64b2641ac",
   "metadata": {},
   "outputs": [],
   "source": []
  }
 ],
 "metadata": {
  "kernelspec": {
   "display_name": "Python 3 (ipykernel)",
   "language": "python",
   "name": "python3"
  },
  "language_info": {
   "codemirror_mode": {
    "name": "ipython",
    "version": 3
   },
   "file_extension": ".py",
   "mimetype": "text/x-python",
   "name": "python",
   "nbconvert_exporter": "python",
   "pygments_lexer": "ipython3",
   "version": "3.9.12"
  }
 },
 "nbformat": 4,
 "nbformat_minor": 5
}
