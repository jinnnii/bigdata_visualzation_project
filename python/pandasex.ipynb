{
 "cells": [
  {
   "cell_type": "code",
   "execution_count": 2,
   "id": "6834a2a2-1971-4700-9bfc-e8be57c67c89",
   "metadata": {},
   "outputs": [],
   "source": [
    "import sys\n",
    "import pandas as pd"
   ]
  },
  {
   "cell_type": "code",
   "execution_count": 7,
   "id": "28d31410-ef2c-4247-89d0-59fc17880341",
   "metadata": {},
   "outputs": [
    {
     "name": "stdout",
     "output_type": "stream",
     "text": [
      "   Supplier Name Invoice Number  Part Number      Cost Purchase Date\n",
      "0              A       001-1001         2341  $500,000    2014-01-20\n",
      "1              A       001-1001         5467    500000    2014-01-20\n",
      "2              A       001-1001         5407    750000    2014-01-20\n",
      "3              A       001-1001         2341    750000    2014-01-20\n",
      "4              B        50-9501         7009    250000    2018-01-30\n",
      "5              B        50-9501         7009    250000    2018-01-30\n",
      "6              B        50-9505         6650    125000    2017-02-03\n",
      "7              B        50-9505         6650    125000    2017-02-03\n",
      "8              C       920-4803         3321    615000    2017-02-03\n",
      "9              C       920-4804         3321    615000    2017-02-10\n",
      "10             C       920-4805         3321    615000    2017-02-17\n",
      "11             C       920-4806         3321    615000    2017-02-24\n"
     ]
    }
   ],
   "source": [
    "input_file = 'data/input.csv'\n",
    "output_file = 'data/output.csv'\n",
    "\n",
    "data_frame = pd.read_csv(input_file)\n",
    "print(data_frame)\n",
    "\n",
    "data_frame.to_csv(output_file, index=False)"
   ]
  },
  {
   "cell_type": "code",
   "execution_count": 16,
   "id": "54994c68-13f5-4b79-8a73-dc060534af20",
   "metadata": {},
   "outputs": [],
   "source": [
    "input_file = 'data/input.csv'\n",
    "output_file = 'data/output_.csv'\n",
    "\n",
    "df = pd.read_csv(input_file)\n",
    "df['Cost']=df['Cost'].str.strip('$').str.replace(',','').astype(float)\n",
    "# print(df)\n",
    "\n",
    "result = df.loc[(df['Supplier Name']=='A') & (df['Cost']>600000),:]\n",
    "result\n",
    "\n",
    "result.to_csv(output_file, index=False)"
   ]
  },
  {
   "cell_type": "code",
   "execution_count": 18,
   "id": "5cde0f75-d934-4d99-a348-fe0488c960e6",
   "metadata": {},
   "outputs": [
    {
     "data": {
      "text/html": [
       "<div>\n",
       "<style scoped>\n",
       "    .dataframe tbody tr th:only-of-type {\n",
       "        vertical-align: middle;\n",
       "    }\n",
       "\n",
       "    .dataframe tbody tr th {\n",
       "        vertical-align: top;\n",
       "    }\n",
       "\n",
       "    .dataframe thead th {\n",
       "        text-align: right;\n",
       "    }\n",
       "</style>\n",
       "<table border=\"1\" class=\"dataframe\">\n",
       "  <thead>\n",
       "    <tr style=\"text-align: right;\">\n",
       "      <th></th>\n",
       "      <th>Supplier Name</th>\n",
       "      <th>Invoice Number</th>\n",
       "      <th>Part Number</th>\n",
       "      <th>Cost</th>\n",
       "      <th>Purchase Date</th>\n",
       "    </tr>\n",
       "  </thead>\n",
       "  <tbody>\n",
       "    <tr>\n",
       "      <th>8</th>\n",
       "      <td>C</td>\n",
       "      <td>920-4803</td>\n",
       "      <td>3321</td>\n",
       "      <td>615000.0</td>\n",
       "      <td>2017-02-03</td>\n",
       "    </tr>\n",
       "    <tr>\n",
       "      <th>9</th>\n",
       "      <td>C</td>\n",
       "      <td>920-4804</td>\n",
       "      <td>3321</td>\n",
       "      <td>615000.0</td>\n",
       "      <td>2017-02-10</td>\n",
       "    </tr>\n",
       "    <tr>\n",
       "      <th>10</th>\n",
       "      <td>C</td>\n",
       "      <td>920-4805</td>\n",
       "      <td>3321</td>\n",
       "      <td>615000.0</td>\n",
       "      <td>2017-02-17</td>\n",
       "    </tr>\n",
       "    <tr>\n",
       "      <th>11</th>\n",
       "      <td>C</td>\n",
       "      <td>920-4806</td>\n",
       "      <td>3321</td>\n",
       "      <td>615000.0</td>\n",
       "      <td>2017-02-24</td>\n",
       "    </tr>\n",
       "  </tbody>\n",
       "</table>\n",
       "</div>"
      ],
      "text/plain": [
       "   Supplier Name Invoice Number  Part Number      Cost Purchase Date\n",
       "8              C       920-4803         3321  615000.0    2017-02-03\n",
       "9              C       920-4804         3321  615000.0    2017-02-10\n",
       "10             C       920-4805         3321  615000.0    2017-02-17\n",
       "11             C       920-4806         3321  615000.0    2017-02-24"
      ]
     },
     "execution_count": 18,
     "metadata": {},
     "output_type": "execute_result"
    }
   ],
   "source": [
    "#cost 5000이상~7000이하 고르기\n",
    "\n",
    "result = df.loc[(df['Cost']>500000) & (df['Cost']<700000), : ]\n",
    "result"
   ]
  },
  {
   "cell_type": "code",
   "execution_count": 19,
   "id": "d99da75b-8874-466e-b629-b4cfbc3be8f6",
   "metadata": {},
   "outputs": [],
   "source": [
    "df1 = pd.read_csv('data/2008.csv')"
   ]
  },
  {
   "cell_type": "code",
   "execution_count": 22,
   "id": "a3bdbb27-db48-4d3d-b2c5-0c646d3fe445",
   "metadata": {},
   "outputs": [
    {
     "name": "stdout",
     "output_type": "stream",
     "text": [
      "(2389217, 29)\n",
      "Index(['Year', 'Month', 'DayofMonth', 'DayOfWeek', 'DepTime', 'CRSDepTime',\n",
      "       'ArrTime', 'CRSArrTime', 'UniqueCarrier', 'FlightNum', 'TailNum',\n",
      "       'ActualElapsedTime', 'CRSElapsedTime', 'AirTime', 'ArrDelay',\n",
      "       'DepDelay', 'Origin', 'Dest', 'Distance', 'TaxiIn', 'TaxiOut',\n",
      "       'Cancelled', 'CancellationCode', 'Diverted', 'CarrierDelay',\n",
      "       'WeatherDelay', 'NASDelay', 'SecurityDelay', 'LateAircraftDelay'],\n",
      "      dtype='object')\n"
     ]
    }
   ],
   "source": [
    "print(df1.shape)\n",
    "print(df1.columns)"
   ]
  },
  {
   "cell_type": "code",
   "execution_count": 26,
   "id": "f6a62165-28a2-4547-976f-77ee336a6268",
   "metadata": {},
   "outputs": [
    {
     "data": {
      "text/html": [
       "<div>\n",
       "<style scoped>\n",
       "    .dataframe tbody tr th:only-of-type {\n",
       "        vertical-align: middle;\n",
       "    }\n",
       "\n",
       "    .dataframe tbody tr th {\n",
       "        vertical-align: top;\n",
       "    }\n",
       "\n",
       "    .dataframe thead th {\n",
       "        text-align: right;\n",
       "    }\n",
       "</style>\n",
       "<table border=\"1\" class=\"dataframe\">\n",
       "  <thead>\n",
       "    <tr style=\"text-align: right;\">\n",
       "      <th></th>\n",
       "      <th></th>\n",
       "      <th>ArrDelay</th>\n",
       "      <th>DepDelay</th>\n",
       "    </tr>\n",
       "    <tr>\n",
       "      <th>Year</th>\n",
       "      <th>Month</th>\n",
       "      <th></th>\n",
       "      <th></th>\n",
       "    </tr>\n",
       "  </thead>\n",
       "  <tbody>\n",
       "    <tr>\n",
       "      <th rowspan=\"4\" valign=\"top\">2008</th>\n",
       "      <th>1</th>\n",
       "      <td>10.188856</td>\n",
       "      <td>11.476096</td>\n",
       "    </tr>\n",
       "    <tr>\n",
       "      <th>2</th>\n",
       "      <td>13.077837</td>\n",
       "      <td>13.706226</td>\n",
       "    </tr>\n",
       "    <tr>\n",
       "      <th>3</th>\n",
       "      <td>11.192365</td>\n",
       "      <td>12.491269</td>\n",
       "    </tr>\n",
       "    <tr>\n",
       "      <th>4</th>\n",
       "      <td>6.807297</td>\n",
       "      <td>8.201133</td>\n",
       "    </tr>\n",
       "  </tbody>\n",
       "</table>\n",
       "</div>"
      ],
      "text/plain": [
       "             ArrDelay   DepDelay\n",
       "Year Month                      \n",
       "2008 1      10.188856  11.476096\n",
       "     2      13.077837  13.706226\n",
       "     3      11.192365  12.491269\n",
       "     4       6.807297   8.201133"
      ]
     },
     "execution_count": 26,
     "metadata": {},
     "output_type": "execute_result"
    }
   ],
   "source": [
    "df2=df1[['Year','Month','ArrDelay','DepDelay']]\n",
    "df2[:10]\n",
    "df2.tail()\n",
    "\n",
    "result = df2.groupby(['Year','Month']).sum()\n",
    "result = df2.groupby(['Year','Month']).mean()\n",
    "result"
   ]
  }
 ],
 "metadata": {
  "kernelspec": {
   "display_name": "Python 3 (ipykernel)",
   "language": "python",
   "name": "python3"
  },
  "language_info": {
   "codemirror_mode": {
    "name": "ipython",
    "version": 3
   },
   "file_extension": ".py",
   "mimetype": "text/x-python",
   "name": "python",
   "nbconvert_exporter": "python",
   "pygments_lexer": "ipython3",
   "version": "3.9.12"
  }
 },
 "nbformat": 4,
 "nbformat_minor": 5
}
