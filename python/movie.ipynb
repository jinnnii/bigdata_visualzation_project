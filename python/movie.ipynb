{
 "cells": [
  {
   "cell_type": "code",
   "execution_count": 3,
   "id": "356aa62a-8086-4bb3-a191-53282c8cf998",
   "metadata": {},
   "outputs": [],
   "source": [
    "import numpy as np"
   ]
  },
  {
   "cell_type": "code",
   "execution_count": 4,
   "id": "9c5c49c6-a5c2-4b38-b296-e4ecae4cc594",
   "metadata": {},
   "outputs": [
    {
     "data": {
      "text/plain": [
       "array([[        1,      1193,         5, 978300760],\n",
       "       [        1,       661,         3, 978302109],\n",
       "       [        1,       914,         3, 978301968],\n",
       "       ...,\n",
       "       [     6040,       562,         5, 956704746],\n",
       "       [     6040,      1096,         4, 956715648],\n",
       "       [     6040,      1097,         4, 956715569]], dtype=int64)"
      ]
     },
     "execution_count": 4,
     "metadata": {},
     "output_type": "execute_result"
    }
   ],
   "source": [
    "data = np.loadtxt('data/movies/ratings.dat', delimiter='::', dtype=np.int64)\n",
    "data"
   ]
  },
  {
   "cell_type": "code",
   "execution_count": 5,
   "id": "d1204c60-537b-4bb7-a50c-ba401a1d0ec0",
   "metadata": {},
   "outputs": [
    {
     "data": {
      "text/plain": [
       "array([[        1,      1193,         5, 978300760],\n",
       "       [        1,       661,         3, 978302109],\n",
       "       [        1,       914,         3, 978301968],\n",
       "       [        1,      3408,         4, 978300275],\n",
       "       [        1,      2355,         5, 978824291]], dtype=int64)"
      ]
     },
     "execution_count": 5,
     "metadata": {},
     "output_type": "execute_result"
    }
   ],
   "source": [
    "data[:5,:] #UserId, MovieId, Rating, TimeStamp"
   ]
  },
  {
   "cell_type": "code",
   "execution_count": 6,
   "id": "1a413f5b-896d-4dea-ba86-bc453b775786",
   "metadata": {},
   "outputs": [
    {
     "data": {
      "text/plain": [
       "(1000209, 4)"
      ]
     },
     "execution_count": 6,
     "metadata": {},
     "output_type": "execute_result"
    }
   ],
   "source": [
    "data.shape"
   ]
  },
  {
   "cell_type": "code",
   "execution_count": 7,
   "id": "73f8713a-47ee-4c64-9f8b-42a7e18b7e33",
   "metadata": {},
   "outputs": [
    {
     "data": {
      "text/plain": [
       "3.581564453029317"
      ]
     },
     "execution_count": 7,
     "metadata": {},
     "output_type": "execute_result"
    }
   ],
   "source": [
    "mean_rating_total = data[:,2].mean()\n",
    "mean_rating_total"
   ]
  },
  {
   "cell_type": "code",
   "execution_count": 8,
   "id": "8c624bf8-ebae-42ce-a0d5-6562b76ce26a",
   "metadata": {},
   "outputs": [
    {
     "data": {
      "text/plain": [
       "array([   1,    2,    3, ..., 6038, 6039, 6040], dtype=int64)"
      ]
     },
     "execution_count": 8,
     "metadata": {},
     "output_type": "execute_result"
    }
   ],
   "source": [
    "user_ids = np.unique(data[:,0])\n",
    "user_ids"
   ]
  },
  {
   "cell_type": "code",
   "execution_count": 9,
   "id": "ed8f4def-6741-4d26-9856-5d4e50339f87",
   "metadata": {
    "tags": []
   },
   "outputs": [],
   "source": [
    "mean_values=[] #userId 와 user별 영화 평점이 들어갈 리스트\n",
    "\n",
    "for user_id in user_ids:\n",
    "    data_for_user = data[data[:,0]==user_id, : ]\n",
    "    value = data_for_user[:,2].mean()\n",
    "    mean_values.append([user_id,value])"
   ]
  },
  {
   "cell_type": "code",
   "execution_count": 11,
   "id": "e17aa9d6-7ed4-4341-b1f3-ca9e00018ece",
   "metadata": {},
   "outputs": [
    {
     "data": {
      "text/plain": [
       "[[1, 4.188679245283019],\n",
       " [2, 3.7131782945736433],\n",
       " [3, 3.9019607843137254],\n",
       " [4, 4.190476190476191],\n",
       " [5, 3.1464646464646466],\n",
       " [6, 3.9014084507042255],\n",
       " [7, 4.32258064516129],\n",
       " [8, 3.884892086330935],\n",
       " [9, 3.7358490566037736],\n",
       " [10, 4.114713216957606]]"
      ]
     },
     "execution_count": 11,
     "metadata": {},
     "output_type": "execute_result"
    }
   ],
   "source": [
    "mean_values[:10]"
   ]
  },
  {
   "cell_type": "code",
   "execution_count": 13,
   "id": "4bc0988f-7235-433b-a15e-9f1fb1620406",
   "metadata": {},
   "outputs": [
    {
     "name": "stdout",
     "output_type": "stream",
     "text": [
      "[[1.        4.188679 ]\n",
      " [2.        3.7131784]\n",
      " [3.        3.9019608]\n",
      " [4.        4.1904764]\n",
      " [5.        3.1464646]]\n",
      "(6040, 2)\n"
     ]
    }
   ],
   "source": [
    "mean_array=np.array(mean_values,dtype=np.float32)\n",
    "print(mean_array[:5])\n",
    "print(mean_array.shape)"
   ]
  },
  {
   "cell_type": "code",
   "execution_count": 18,
   "id": "c8dd2a1f-206e-4dfd-a3b9-e1f90eb69794",
   "metadata": {},
   "outputs": [],
   "source": [
    "np.savetxt('data/movies/result.csv',mean_array,fmt='%.2f', delimiter=',')"
   ]
  },
  {
   "cell_type": "code",
   "execution_count": 19,
   "id": "da4cf239-ee2c-482c-824c-b34905bc2c7c",
   "metadata": {},
   "outputs": [],
   "source": [
    "movie_ids = np.unique(data[:,1])"
   ]
  },
  {
   "cell_type": "code",
   "execution_count": 23,
   "id": "073c87ca-b5a6-4663-9929-373fb9260221",
   "metadata": {},
   "outputs": [],
   "source": [
    "m_mean_values=[]\n",
    "\n",
    "for movie_id in movie_ids:\n",
    "    data_for_mv = data[data[:,1]==movie_id,:]\n",
    "    value = data_for_mv[:,2].mean()\n",
    "    m_mean_values.append([movie_id, value])"
   ]
  },
  {
   "cell_type": "code",
   "execution_count": 25,
   "id": "4d1a98f1-7cd3-487a-b87e-faffeb9e6ee1",
   "metadata": {},
   "outputs": [
    {
     "data": {
      "text/plain": [
       "[[1, 4.146846413095811],\n",
       " [2, 3.20114122681883],\n",
       " [3, 3.01673640167364],\n",
       " [4, 2.7294117647058824],\n",
       " [5, 3.0067567567567566]]"
      ]
     },
     "execution_count": 25,
     "metadata": {},
     "output_type": "execute_result"
    }
   ],
   "source": [
    "m_mean_values[:5]"
   ]
  }
 ],
 "metadata": {
  "kernelspec": {
   "display_name": "Python 3 (ipykernel)",
   "language": "python",
   "name": "python3"
  },
  "language_info": {
   "codemirror_mode": {
    "name": "ipython",
    "version": 3
   },
   "file_extension": ".py",
   "mimetype": "text/x-python",
   "name": "python",
   "nbconvert_exporter": "python",
   "pygments_lexer": "ipython3",
   "version": "3.9.12"
  }
 },
 "nbformat": 4,
 "nbformat_minor": 5
}
