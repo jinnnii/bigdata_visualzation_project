{
 "cells": [
  {
   "cell_type": "code",
   "execution_count": 6,
   "id": "9d5e92f5-83db-439f-9ff0-e1cf135d13c1",
   "metadata": {},
   "outputs": [
    {
     "name": "stdout",
     "output_type": "stream",
     "text": [
      "이름 : HoiHoi / LV: 100 / 직업 : Wizard\n",
      "플레이어의 직업을 Wizard에서 Warrior로 변경했습니다.\n",
      "이름 : HoiHoi / LV: 100 / 직업 : Warrior\n"
     ]
    }
   ],
   "source": [
    "class Player(object):\n",
    "    def __init__(self, name, level, job):\n",
    "        self.name = name\n",
    "        self.level=100\n",
    "        self.job = job\n",
    "    def change_job(self, new_job):\n",
    "        print('플레이어의 직업을 %s에서 %s로 변경했습니다.'%(self.job, new_job))\n",
    "        self.job = new_job\n",
    "    def __str__(self):\n",
    "        return '이름 : %s / LV: %d / 직업 : %s'%(self.name, self.level, self.job)\n",
    "    \n",
    "\n",
    "player = Player('HoiHoi', 100, 'Wizard')\n",
    "print(player)\n",
    "player.change_job('Warrior')\n",
    "print(player)"
   ]
  },
  {
   "cell_type": "code",
   "execution_count": 9,
   "id": "7df5b15b-b9b8-4cee-9bdc-cb50f5ff99f6",
   "metadata": {},
   "outputs": [],
   "source": [
    "class Person(object):\n",
    "    def __init__(self, name, age):\n",
    "        self.name=name\n",
    "        self.age=age\n",
    "    def __str__(self):\n",
    "        return 'My name is %s, and %d years old'%(self.name, self.age)"
   ]
  },
  {
   "cell_type": "code",
   "execution_count": 8,
   "id": "ec3307a4-5f49-4c41-bfe8-bf21079046b3",
   "metadata": {},
   "outputs": [
    {
     "name": "stdout",
     "output_type": "stream",
     "text": [
      "My name is Alice, and 13 years old\n"
     ]
    }
   ],
   "source": [
    "person = Person('Alice', 13)\n",
    "print(person)"
   ]
  },
  {
   "cell_type": "code",
   "execution_count": 15,
   "id": "d9ddb190-b671-430f-992e-4b246560ac55",
   "metadata": {},
   "outputs": [
    {
     "name": "stdout",
     "output_type": "stream",
     "text": [
      "My name is Janny, and 25 years old majors are Dance\n",
      "Janny, 25, Dance\n"
     ]
    }
   ],
   "source": [
    "class Student(Person):\n",
    "    def __init__(self, name, age, major):\n",
    "        super().__init__(name, age)\n",
    "        self.major = major\n",
    "    def __str__(self):\n",
    "        return super().__str__()+' majors are %s'%(self.major)\n",
    "    def display(self):\n",
    "        print('%s, %d, %s'%(self.name, self.age, self.major))\n",
    "student = Student('Janny', 25, 'Dance')\n",
    "print(student)\n",
    "student.display()"
   ]
  }
 ],
 "metadata": {
  "kernelspec": {
   "display_name": "Python 3 (ipykernel)",
   "language": "python",
   "name": "python3"
  },
  "language_info": {
   "codemirror_mode": {
    "name": "ipython",
    "version": 3
   },
   "file_extension": ".py",
   "mimetype": "text/x-python",
   "name": "python",
   "nbconvert_exporter": "python",
   "pygments_lexer": "ipython3",
   "version": "3.9.12"
  }
 },
 "nbformat": 4,
 "nbformat_minor": 5
}
