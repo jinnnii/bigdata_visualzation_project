{
 "cells": [
  {
   "cell_type": "code",
   "execution_count": 1,
   "id": "46133a0d-ca9b-41e4-a1a2-4b5ed578c20d",
   "metadata": {},
   "outputs": [],
   "source": [
    "import requests"
   ]
  },
  {
   "cell_type": "code",
   "execution_count": 6,
   "id": "3722e3d1-9e1a-406f-989e-3d1beac31c41",
   "metadata": {},
   "outputs": [
    {
     "name": "stdout",
     "output_type": "stream",
     "text": [
      "<class 'requests.models.Response'>\n",
      "<!DOCTYPE html>\n",
      "<html>\n",
      "<head>\n",
      "<meta charset=\"UTF-8\">\n",
      "<title>테스트</title>\n",
      "</head>\n",
      "<body>\n",
      "<h1>웹 크롤링을 테스트 합니다.</h1>\n",
      "</body>\n",
      "</html>\n"
     ]
    }
   ],
   "source": [
    "r = requests.request('get','http://unico2013.dothome.co.kr/crawling/exam.html')\n",
    "r.encoding='utf-8'\n",
    "\n",
    "print(type(r))\n",
    "if r.text:\n",
    "    print(r.text)\n",
    "else:\n",
    "    print('응답 콘텐츠 없음')"
   ]
  },
  {
   "cell_type": "code",
   "execution_count": 24,
   "id": "f26196f0-4461-4430-aa4d-c9c2e0c7cd6d",
   "metadata": {},
   "outputs": [
    {
     "name": "stdout",
     "output_type": "stream",
     "text": [
      "<!DOCTYPE html>\n",
      "<html>\n",
      "<head>\n",
      "<meta charset=\"UTF-8\">\n",
      "<title>테스트</title>\n",
      "</head>\n",
      "<body>\n",
      "<h1>웹 크롤링을 테스트 합니다.</h1>\n",
      "</body>\n",
      "</html>\n"
     ]
    }
   ],
   "source": [
    "r=requests.request('header', 'http://unico2013.dothome.co.kr/crawling/exam.html')\n",
    "r.encoding='utf-8'\n",
    "if r.text:\n",
    "    print(r.text)\n",
    "else:\n",
    "    print('응답 콘텐츠 없음')"
   ]
  },
  {
   "cell_type": "code",
   "execution_count": 9,
   "id": "960bd608-9416-4d9a-ab1d-0a01b3a6b046",
   "metadata": {},
   "outputs": [
    {
     "name": "stdout",
     "output_type": "stream",
     "text": [
      "﻿<!DOCTYPE html>\n",
      "<html>\n",
      "  <head>\n",
      "    <meta charset=\"utf-8\">\n",
      "    <title>POST TEST</title>\n",
      "  </head>\n",
      "  <body>\n",
      "   <h1>POST : 이름은 백도이고 나이는 12이네요!!</h1>   </body>\n",
      "</html>\n"
     ]
    }
   ],
   "source": [
    "r=requests.request('post', 'http://unico2013.dothome.co.kr/crawling/post.php',\n",
    "                  data={'name':'백도','age':12})\n",
    "r.encoding='utf-8'\n",
    "if r.text:\n",
    "    print(r.text)\n",
    "else:\n",
    "    print('응답 콘텐츠 없음')"
   ]
  },
  {
   "cell_type": "code",
   "execution_count": 28,
   "id": "eab4dd0a-8d8f-49af-b481-4038d93ba191",
   "metadata": {},
   "outputs": [
    {
     "name": "stdout",
     "output_type": "stream",
     "text": [
      "<!DOCTYPE html>\n",
      "<html>\n",
      "<head>\n",
      "<meta charset=\"UTF-8\">\n",
      "<title>테스트</title>\n",
      "</head>\n",
      "<body>\n",
      "<h1>웹 크롤링을 테스트 합니다.</h1>\n",
      "</body>\n",
      "</html>\n"
     ]
    }
   ],
   "source": [
    "r=requests.get('http://unico2013.dothome.co.kr/crawling/exam.html')\n",
    "r.encoding='utf-8'\n",
    "print(r.text)"
   ]
  },
  {
   "cell_type": "code",
   "execution_count": 22,
   "id": "e635a229-4a2b-4d26-8090-78f999da704e",
   "metadata": {},
   "outputs": [
    {
     "name": "stdout",
     "output_type": "stream",
     "text": [
      "{'Date': 'Mon, 30 May 2022 05:25:05 GMT', 'Server': 'Apache/2.2.15 (CentOS)', 'Connection': 'close', 'Content-Type': 'text/html'}\n"
     ]
    }
   ],
   "source": [
    "r=requests.head('http://unico2013.dothome.co.kr/crawling/exam.html')\n",
    "print(r.headers)"
   ]
  },
  {
   "cell_type": "code",
   "execution_count": 25,
   "id": "10e140ab-676b-406b-be11-587dd2d9e694",
   "metadata": {},
   "outputs": [
    {
     "name": "stdout",
     "output_type": "stream",
     "text": [
      "﻿<!DOCTYPE html>\n",
      "<html>  \n",
      "  <head>    \n",
      "   <meta charset=\"utf-8\">    \n",
      "   <title>TEST</title>  \n",
      "  </head>  \n",
      "  <body>   \n",
      "    <h1 style='color : red'>카테고리 : 역사</h1>\n",
      "    <h2 style='color : blue'>페이지 : 25</h2>   \n",
      "  </body>\n",
      "</html>\n"
     ]
    }
   ],
   "source": [
    "import urllib.request\n",
    "import urllib.parse\n",
    "\n",
    "params=urllib.parse.urlencode({'category':'역사','page':25})\n",
    "url=\"http://unico2013.dothome.co.kr/crawling/exercise.php?%s\"%params\n",
    "with urllib.request.urlopen(url) as f:\n",
    "    print(f.read().decode('utf-8'))"
   ]
  },
  {
   "cell_type": "code",
   "execution_count": 26,
   "id": "71acca56-a9c1-4e2f-93ab-1f1821f9ffcb",
   "metadata": {},
   "outputs": [
    {
     "name": "stdout",
     "output_type": "stream",
     "text": [
      "﻿<!DOCTYPE html>\n",
      "<html>  \n",
      "  <head>    \n",
      "   <meta charset=\"utf-8\">    \n",
      "   <title>TEST</title>  \n",
      "  </head>  \n",
      "  <body>   \n",
      "    <h1 style='color : red'>카테고리 : 여행</h1>\n",
      "    <h2 style='color : blue'>페이지 : 100</h2>   \n",
      "  </body>\n",
      "</html>\n"
     ]
    }
   ],
   "source": [
    "dicdata = {'category':'여행','page':100}\n",
    "urlstr=\"http://unico2013.dothome.co.kr/crawling/exercise.php\"\n",
    "r=requests.get(urlstr,params=dicdata)\n",
    "r.encoding='utf-8'\n",
    "print(r.text)"
   ]
  }
 ],
 "metadata": {
  "kernelspec": {
   "display_name": "Python 3 (ipykernel)",
   "language": "python",
   "name": "python3"
  },
  "language_info": {
   "codemirror_mode": {
    "name": "ipython",
    "version": 3
   },
   "file_extension": ".py",
   "mimetype": "text/x-python",
   "name": "python",
   "nbconvert_exporter": "python",
   "pygments_lexer": "ipython3",
   "version": "3.9.12"
  }
 },
 "nbformat": 4,
 "nbformat_minor": 5
}
