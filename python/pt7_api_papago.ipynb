{
 "cells": [
  {
   "cell_type": "code",
   "execution_count": 22,
   "id": "659f5d52-c33e-4e7d-b9b9-8b936bc080cf",
   "metadata": {},
   "outputs": [
    {
     "name": "stdout",
     "output_type": "stream",
     "text": [
      "会えて嬉しいよ~\n"
     ]
    }
   ],
   "source": [
    "# 네이버 Papago NMT API 예제\n",
    "import os\n",
    "import sys\n",
    "import urllib.request\n",
    "import json\n",
    "\n",
    "client_id = \"VeND38PVVDHbL2pKrPnZ\"\n",
    "client_secret = \"l8TGnpAdl9\"\n",
    "encText = urllib.parse.quote(\"방가방가~\")\n",
    "\n",
    "data = \"source=ko&target=ja&text=\" + encText\n",
    "url = \"https://openapi.naver.com/v1/papago/n2mt\"\n",
    "\n",
    "request = urllib.request.Request(url)\n",
    "request.add_header(\"X-Naver-Client-Id\",client_id)\n",
    "request.add_header(\"X-Naver-Client-Secret\",client_secret)\n",
    "response = urllib.request.urlopen(request, data=data.encode(\"utf-8\"))\n",
    "rescode = response.getcode()\n",
    "if(rescode==200):\n",
    "    response_body = response.read().decode('utf-8')\n",
    "    translate_text = json.loads(response_body)['message']['result']['translatedText']\n",
    "    print(translate_text)\n",
    "else:\n",
    "    print(\"Error Code:\" + rescode)"
   ]
  },
  {
   "cell_type": "code",
   "execution_count": null,
   "id": "a532dd27-73ee-43e0-885c-7a3a78684706",
   "metadata": {},
   "outputs": [],
   "source": []
  }
 ],
 "metadata": {
  "kernelspec": {
   "display_name": "Python 3 (ipykernel)",
   "language": "python",
   "name": "python3"
  },
  "language_info": {
   "codemirror_mode": {
    "name": "ipython",
    "version": 3
   },
   "file_extension": ".py",
   "mimetype": "text/x-python",
   "name": "python",
   "nbconvert_exporter": "python",
   "pygments_lexer": "ipython3",
   "version": "3.9.12"
  }
 },
 "nbformat": 4,
 "nbformat_minor": 5
}
