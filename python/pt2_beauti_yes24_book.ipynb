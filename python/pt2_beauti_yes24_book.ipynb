{
 "cells": [
  {
   "cell_type": "code",
   "execution_count": 69,
   "id": "423c0288-a529-4d82-a334-31b2ca8d7b67",
   "metadata": {},
   "outputs": [],
   "source": [
    "import urllib.request as req\n",
    "import requests\n",
    "from bs4 import BeautifulSoup\n",
    "import re\n",
    "import pandas as pd\n",
    "\n",
    "import pymysql"
   ]
  },
  {
   "cell_type": "code",
   "execution_count": 5,
   "id": "51b31df0-b280-41fa-8043-8c562017b199",
   "metadata": {},
   "outputs": [],
   "source": [
    "url=\"http://www.yes24.com/Product/Search?domain=ALL&query=python\"\n",
    "res=req.urlopen(url)\n",
    "bs=BeautifulSoup(res,'html.parser')"
   ]
  },
  {
   "cell_type": "code",
   "execution_count": 76,
   "id": "2c12b94f-4e89-42d8-bf8d-d3027e96a7b1",
   "metadata": {},
   "outputs": [],
   "source": [
    "book_list = bs.select('#yesSchList >li')\n",
    "\n",
    "result=[]\n",
    "\n",
    "for idx, book in enumerate(book_list):\n",
    "    image_url = book.find(class_='img_bdr').img['data-original']\n",
    "    title= book.find(class_='gd_name').string\n",
    "    info = book.find(class_='gd_nameE').string if book.find(class_='gd_nameE') else ''\n",
    "    author=book.find(class_='info_auth').a.string\n",
    "    publisher=book.find(class_='info_pub').a.string\n",
    "    price=book.find(class_='txt_num').em.string\n",
    "    date = book.find(class_='info_date').string\n",
    "    \n",
    "    result.append((title, info, author, publisher, price, date))\n",
    "    # image_save(image_url,idx)"
   ]
  },
  {
   "cell_type": "code",
   "execution_count": 64,
   "id": "50470706-46a6-45c2-9549-7ffac02a5827",
   "metadata": {},
   "outputs": [],
   "source": [
    "df = pd.DataFrame(result)\n",
    "df.columns=['image', 'title', 'info', 'author', 'pub', 'price','date']\n",
    "df.to_csv('books.csv', index=False)"
   ]
  },
  {
   "cell_type": "code",
   "execution_count": 49,
   "id": "21cad846-ec65-465b-97ed-684cc1f66d0c",
   "metadata": {},
   "outputs": [],
   "source": [
    "def image_save(url,i):\n",
    "    save_name='data/book_images/image'+str(i)+'.jpg'\n",
    "    req.urlretrieve(url,save_name)\n",
    "    print(save_name,'이(가) 저장되었습니다')"
   ]
  },
  {
   "cell_type": "code",
   "execution_count": 77,
   "id": "0e3e0c6a-c08e-43db-9eb8-fefaf7608ede",
   "metadata": {},
   "outputs": [],
   "source": [
    "conn = pymysql.connect(host='localhost',\n",
    "               user='root', password='1234', \n",
    "               db='pydb',charset='utf8')\n",
    "cursor=conn.cursor()\n",
    "sql=\"insert into book (title, info, author, pub, price, date) values(%s,%s,%s,%s,%s,%s)\"\n",
    "cursor.executemany(sql,result)\n",
    "conn.commit()\n",
    "conn.close()"
   ]
  },
  {
   "cell_type": "code",
   "execution_count": 71,
   "id": "7ab942db-aef5-4196-9d12-cef41120ae7f",
   "metadata": {},
   "outputs": [
    {
     "name": "stdout",
     "output_type": "stream",
     "text": [
      "Requirement already satisfied: pymysql in c:\\users\\admin\\anaconda3\\lib\\site-packages (1.0.2)\n"
     ]
    }
   ],
   "source": []
  }
 ],
 "metadata": {
  "kernelspec": {
   "display_name": "Python 3 (ipykernel)",
   "language": "python",
   "name": "python3"
  },
  "language_info": {
   "codemirror_mode": {
    "name": "ipython",
    "version": 3
   },
   "file_extension": ".py",
   "mimetype": "text/x-python",
   "name": "python",
   "nbconvert_exporter": "python",
   "pygments_lexer": "ipython3",
   "version": "3.9.12"
  }
 },
 "nbformat": 4,
 "nbformat_minor": 5
}
