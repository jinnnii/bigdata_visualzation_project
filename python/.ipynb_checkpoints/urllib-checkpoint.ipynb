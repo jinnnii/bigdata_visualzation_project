{
 "cells": [
  {
   "cell_type": "code",
   "execution_count": 21,
   "id": "93f0e9dc-8564-4318-a199-ad1007590526",
   "metadata": {},
   "outputs": [],
   "source": [
    "import urllib.request as req\n",
    "# from urllib.request import urlopen"
   ]
  },
  {
   "cell_type": "code",
   "execution_count": 33,
   "id": "2a755dca-55af-4416-bae6-242112011d3a",
   "metadata": {
    "tags": []
   },
   "outputs": [
    {
     "name": "stdout",
     "output_type": "stream",
     "text": [
      "<class 'http.client.HTTPResponse'>\n",
      "200\n",
      "11\n",
      "OK\n",
      "('Server', 'NWS')\n",
      "('Date', 'Mon, 30 May 2022 03:10:48 GMT')\n",
      "('Content-Type', 'text/html; charset=UTF-8')\n",
      "('Transfer-Encoding', 'chunked')\n",
      "('Connection', 'close')\n",
      "('Set-Cookie', 'PM_CK_loc=6a99d2fc1b5471d9d14cea36ec9cb8cce9f1e2f27a0a03ebb3406fdb4c4d0f32; Expires=Tue, 31 May 2022 03:10:48 GMT; Path=/; HttpOnly')\n",
      "('Cache-Control', 'no-cache, no-store, must-revalidate')\n",
      "('Pragma', 'no-cache')\n",
      "('P3P', 'CP=\"CAO DSP CURa ADMa TAIa PSAa OUR LAW STP PHY ONL UNI PUR FIN COM NAV INT DEM STA PRE\"')\n",
      "('X-Frame-Options', 'DENY')\n",
      "('X-XSS-Protection', '1; mode=block')\n",
      "('Strict-Transport-Security', 'max-age=63072000; includeSubdomains')\n",
      "('Referrer-Policy', 'unsafe-url')\n",
      "utf-8\n",
      "\n",
      "<!doctype html>                          <html lang=\"ko\" data-dark=\"false\"> <head> <meta charset=\"utf-8\"> <title>NAVER</title> <meta http-equiv=\"X-UA-Compatible\" content=\"IE=edge\"> <meta name=\"viewport\" content=\"width=1190\"> <meta name=\"apple-mobile-web-app-title\" content=\"NAVER\"/> <meta name=\"robots\" content=\"index,nofollow\"/> <meta name=\"description\" content=\"네이버 메인에서 다양한 정보와 유용한 컨텐츠를 만나 보세요\"/> <meta property=\"og:title\" content=\"네이버\"> <meta property=\"og:url\" content=\"https://www.naver.com/\"> <meta property=\"og:image\" content=\"https://s.pstatic.net/static/www/mobile/edit/2016/0705/mobile_212852414260.png\"> <meta property=\"og:description\" content=\"네이버 메인에서 다양한 정보와 유용한 컨텐츠를 만나 보세요\"/> <meta name=\"twitter:card\" content=\"summary\"> <meta name=\"twitter:title\" content=\"\"> <meta name=\"twitter:url\" content=\"https://www.naver.com/\"> <meta name=\"twitter:image\" content=\"https://s.pstatic.net/\n"
     ]
    }
   ],
   "source": [
    "res = req.urlopen('http://www.naver.com/')\n",
    "# res = urlopen('http:/www.naver.com/')\n",
    "\n",
    "print(type(res))\n",
    "print(res.status)\n",
    "print(res.version)\n",
    "print(res.msg)\n",
    "\n",
    "#헤더 정보\n",
    "res_headers = res.getheaders()\n",
    "for head in res_headers:\n",
    "    print(head)\n",
    "    \n",
    "#바디 정보\n",
    "# print(res.read().decode('utf=8'))\n",
    "\n",
    "encoding=res.info().get_content_charset()\n",
    "print(encoding)\n",
    "print(res.read(1000).decode(encoding)) #1000byte"
   ]
  },
  {
   "cell_type": "code",
   "execution_count": 20,
   "id": "c5e0bc2f-7595-4ffd-b9d3-5eb8e85673fd",
   "metadata": {},
   "outputs": [],
   "source": [
    "from urllib.error import HTTPError\n",
    "from urllib.error import URLError"
   ]
  },
  {
   "cell_type": "code",
   "execution_count": 28,
   "id": "e86dbc38-c0f3-4f1f-92e2-888f3864543b",
   "metadata": {},
   "outputs": [
    {
     "name": "stdout",
     "output_type": "stream",
     "text": [
      "존재하지 않는 사이트입니다.\n"
     ]
    }
   ],
   "source": [
    "try:\n",
    "    html = req.urlopen('https://java1.net')\n",
    "except HTTPError as e:\n",
    "    print('HTTP 에러입니다.')\n",
    "except URLError as e:\n",
    "    print('존재하지 않는 사이트입니다.')\n",
    "else:\n",
    "    print(html.read())"
   ]
  },
  {
   "cell_type": "code",
   "execution_count": 35,
   "id": "c5797362-cbf7-4b76-a5ee-b52f61b3ec08",
   "metadata": {},
   "outputs": [],
   "source": [
    "import urllib.parse as ps"
   ]
  },
  {
   "cell_type": "code",
   "execution_count": 40,
   "id": "d81a5acd-e66f-45d9-be21-9f0f75bc664b",
   "metadata": {},
   "outputs": [
    {
     "name": "stdout",
     "output_type": "stream",
     "text": [
      "query=%EB%B9%85%EB%8D%B0%EC%9D%B4%ED%84%B0\n"
     ]
    }
   ],
   "source": [
    "#인코딩\n",
    "encode_query= ps.urlencode({'query':'빅데이터'})\n",
    "print(encode_query)"
   ]
  },
  {
   "cell_type": "code",
   "execution_count": 41,
   "id": "f35adb57-2afd-4a38-8816-86d84c3dbec0",
   "metadata": {},
   "outputs": [
    {
     "data": {
      "text/plain": [
       "ParseResult(scheme='https', netloc='search.naver.com', path='/search.naver', params='', query='where=nexearch&sm=top_hty&fbm=1&ie=utf8&query=query=%EB%B9%85%EB%8D%B0%EC%9D%B4%ED%84%B0', fragment='')"
      ]
     },
     "execution_count": 41,
     "metadata": {},
     "output_type": "execute_result"
    }
   ],
   "source": [
    "url =\"https://search.naver.com/search.naver?where=nexearch&sm=top_hty&fbm=1&ie=utf8&query=%s\"%encode_query\n",
    "purl=ps.urlparse(url)\n",
    "purl"
   ]
  },
  {
   "cell_type": "code",
   "execution_count": 50,
   "id": "c5a21986-404a-4e49-91cf-5ea8f153922b",
   "metadata": {},
   "outputs": [
    {
     "name": "stdout",
     "output_type": "stream",
     "text": [
      "url::https://www.kma.go.kr/weather/forecast/mid-term-rss3.jsp?stnId=108\n"
     ]
    }
   ],
   "source": [
    "api ='https://www.kma.go.kr/weather/forecast/mid-term-rss3.jsp'\n",
    "values={'stnId':'108'}\n",
    "params=ps.urlencode(values)\n",
    "api_url = api+'?'+params\n",
    "\n",
    "print('url::::::%s'%api_url)\n",
    "\n",
    "data=req.urlopen(api_url).read()\n",
    "text=data.decode('utf-8')\n",
    "# print(text)"
   ]
  },
  {
   "cell_type": "code",
   "execution_count": null,
   "id": "c7513f94-5b11-4c52-85ec-ed47160ea9b9",
   "metadata": {},
   "outputs": [],
   "source": [
    "url = ''\n",
    "save_name = 'data/images/image1.jpg\"\n",
    "req.urlretrieve(url,save_name)\n",
    "print('이미지 저장 완료')"
   ]
  }
 ],
 "metadata": {
  "kernelspec": {
   "display_name": "Python 3 (ipykernel)",
   "language": "python",
   "name": "python3"
  },
  "language_info": {
   "codemirror_mode": {
    "name": "ipython",
    "version": 3
   },
   "file_extension": ".py",
   "mimetype": "text/x-python",
   "name": "python",
   "nbconvert_exporter": "python",
   "pygments_lexer": "ipython3",
   "version": "3.9.12"
  }
 },
 "nbformat": 4,
 "nbformat_minor": 5
}
