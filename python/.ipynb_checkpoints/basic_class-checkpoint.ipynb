{
 "cells": [
  {
   "cell_type": "code",
   "execution_count": 6,
   "id": "9d5e92f5-83db-439f-9ff0-e1cf135d13c1",
   "metadata": {},
   "outputs": [
    {
     "name": "stdout",
     "output_type": "stream",
     "text": [
      "이름 : HoiHoi / LV: 100 / 직업 : Wizard\n",
      "플레이어의 직업을 Wizard에서 Warrior로 변경했습니다.\n",
      "이름 : HoiHoi / LV: 100 / 직업 : Warrior\n"
     ]
    }
   ],
   "source": [
    "class Player(object):\n",
    "    def __init__(self, name, level, job):\n",
    "        self.name = name\n",
    "        self.level=100\n",
    "        self.job = job\n",
    "    def change_job(self, new_job):\n",
    "        print('플레이어의 직업을 %s에서 %s로 변경했습니다.'%(self.job, new_job))\n",
    "        self.job = new_job\n",
    "    def __str__(self):\n",
    "        return '이름 : %s / LV: %d / 직업 : %s'%(self.name, self.level, self.job)\n",
    "    \n",
    "\n",
    "player = Player('HoiHoi', 100, 'Wizard')\n",
    "print(player)\n",
    "player.change_job('Warrior')\n",
    "print(player)"
   ]
  },
  {
   "cell_type": "code",
   "execution_count": 9,
   "id": "7df5b15b-b9b8-4cee-9bdc-cb50f5ff99f6",
   "metadata": {},
   "outputs": [],
   "source": [
    "class Person(object):\n",
    "    def __init__(self, name, age):\n",
    "        self.name=name\n",
    "        self.age=age\n",
    "    def __str__(self):\n",
    "        return 'My name is %s, and %d years old'%(self.name, self.age)"
   ]
  },
  {
   "cell_type": "code",
   "execution_count": 8,
   "id": "ec3307a4-5f49-4c41-bfe8-bf21079046b3",
   "metadata": {},
   "outputs": [
    {
     "name": "stdout",
     "output_type": "stream",
     "text": [
      "My name is Alice, and 13 years old\n"
     ]
    }
   ],
   "source": [
    "person = Person('Alice', 13)\n",
    "print(person)"
   ]
  },
  {
   "cell_type": "code",
   "execution_count": null,
   "id": "d9ddb190-b671-430f-992e-4b246560ac55",
   "metadata": {},
   "outputs": [
    {
     "name": "stdout",
     "output_type": "stream",
     "text": [
      "My name is Janny, and 25 years old majors are Dance\n",
      "Janny, 25, Dance\n"
     ]
    }
   ],
   "source": [
    "class Student(Person):\n",
    "    def __init__(self, name, age, major):\n",
    "        super().__init__(name, age)\n",
    "        self.major = major\n",
    "    def __str__(self):\n",
    "        return super().__str__()+' majors are %s'%(self.major)\n",
    "    def display(self):\n",
    "        print('%s, %d, %s'%(self.name, self.age, self.major))\n",
    "student = Student('Janny', 25, 'Dance')\n",
    "print(student)\n",
    "student.display()"
   ]
  },
  {
   "cell_type": "code",
   "execution_count": 2,
   "id": "5591bd07-fd07-4d67-b0e3-6d382f84cf5a",
   "metadata": {},
   "outputs": [],
   "source": [
    "class Animal(object):\n",
    "    def __init__(self, name):\n",
    "        self.name=name\n",
    "    def talk(self):\n",
    "        raise NotImplementedError(\"Subclass must implement abstract method\")\n",
    "    \n",
    "\n",
    "class Cat(Animal):\n",
    "    def talk(self):\n",
    "        return 'Meow!'\n"
   ]
  },
  {
   "cell_type": "code",
   "execution_count": 6,
   "id": "680bcc6a-7607-4cb9-95f0-2aa6a0cc4e89",
   "metadata": {
    "collapsed": true,
    "jupyter": {
     "outputs_hidden": true
    },
    "tags": []
   },
   "outputs": [
    {
     "name": "stdout",
     "output_type": "stream",
     "text": [
      "Navi : Meow!\n"
     ]
    },
    {
     "ename": "NotImplementedError",
     "evalue": "Subclass must implement abstract method",
     "output_type": "error",
     "traceback": [
      "\u001b[1;31m---------------------------------------------------------------------------\u001b[0m",
      "\u001b[1;31mNotImplementedError\u001b[0m                       Traceback (most recent call last)",
      "Input \u001b[1;32mIn [6]\u001b[0m, in \u001b[0;36m<cell line: 4>\u001b[1;34m()\u001b[0m\n\u001b[0;32m      2\u001b[0m animal2 \u001b[38;5;241m=\u001b[39m Animal(\u001b[38;5;124m'\u001b[39m\u001b[38;5;124mGod\u001b[39m\u001b[38;5;124m'\u001b[39m)\n\u001b[0;32m      3\u001b[0m \u001b[38;5;28mprint\u001b[39m(animal1\u001b[38;5;241m.\u001b[39mname, \u001b[38;5;124m\"\u001b[39m\u001b[38;5;124m:\u001b[39m\u001b[38;5;124m\"\u001b[39m, animal1\u001b[38;5;241m.\u001b[39mtalk())\n\u001b[1;32m----> 4\u001b[0m \u001b[38;5;28mprint\u001b[39m(animal2\u001b[38;5;241m.\u001b[39mname, \u001b[38;5;124m\"\u001b[39m\u001b[38;5;124m:\u001b[39m\u001b[38;5;124m\"\u001b[39m, \u001b[43manimal2\u001b[49m\u001b[38;5;241;43m.\u001b[39;49m\u001b[43mtalk\u001b[49m\u001b[43m(\u001b[49m\u001b[43m)\u001b[49m)\n",
      "Input \u001b[1;32mIn [2]\u001b[0m, in \u001b[0;36mAnimal.talk\u001b[1;34m(self)\u001b[0m\n\u001b[0;32m      4\u001b[0m \u001b[38;5;28;01mdef\u001b[39;00m \u001b[38;5;21mtalk\u001b[39m(\u001b[38;5;28mself\u001b[39m):\n\u001b[1;32m----> 5\u001b[0m     \u001b[38;5;28;01mraise\u001b[39;00m \u001b[38;5;167;01mNotImplementedError\u001b[39;00m(\u001b[38;5;124m\"\u001b[39m\u001b[38;5;124mSubclass must implement abstract method\u001b[39m\u001b[38;5;124m\"\u001b[39m)\n",
      "\u001b[1;31mNotImplementedError\u001b[0m: Subclass must implement abstract method"
     ]
    }
   ],
   "source": [
    "animal1 = Cat('Navi')\n",
    "animal2 = Animal('God')\n",
    "print(animal1.name, \":\", animal1.talk())\n",
    "print(animal2.name, \":\", animal2.talk())"
   ]
  },
  {
   "cell_type": "code",
   "execution_count": 28,
   "id": "41543a18-1c84-4152-ae01-147a337cdf75",
   "metadata": {},
   "outputs": [],
   "source": [
    "class Product(object):\n",
    "    pass\n",
    "class Inventory(object):\n",
    "    def __init__(self):\n",
    "        self.__items=[]\n",
    "    def add_item(self,product):\n",
    "        if type(product)==Product:\n",
    "            self.__items.append(product)\n",
    "            print('added item!')\n",
    "        else:\n",
    "            raise ValueError('Invalid Item')\n",
    "    # @property\n",
    "    def items(self):\n",
    "        return self.__items\n",
    "    \n",
    "    def get_item_count(self):\n",
    "        return len(self.__items)"
   ]
  },
  {
   "cell_type": "code",
   "execution_count": 29,
   "id": "24aba07e-b538-41bf-96ee-2a4a2b6c1da8",
   "metadata": {},
   "outputs": [
    {
     "name": "stdout",
     "output_type": "stream",
     "text": [
      "added item!\n",
      "1\n",
      "[<__main__.Product object at 0x0000019732E5A6D0>]\n"
     ]
    }
   ],
   "source": [
    "inven = Inventory()\n",
    "inven.add_item(Product())\n",
    "print(inven.get_item_count())\n",
    "# inven.__items\n",
    "products = inven.items\n",
    "print(products)"
   ]
  }
 ],
 "metadata": {
  "kernelspec": {
   "display_name": "Python 3 (ipykernel)",
   "language": "python",
   "name": "python3"
  },
  "language_info": {
   "codemirror_mode": {
    "name": "ipython",
    "version": 3
   },
   "file_extension": ".py",
   "mimetype": "text/x-python",
   "name": "python",
   "nbconvert_exporter": "python",
   "pygments_lexer": "ipython3",
   "version": "3.9.12"
  }
 },
 "nbformat": 4,
 "nbformat_minor": 5
}
