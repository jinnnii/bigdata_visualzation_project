{
 "cells": [
  {
   "cell_type": "code",
   "execution_count": 19,
   "id": "124c3773-971b-4ee0-9ad5-47f3e6748e57",
   "metadata": {},
   "outputs": [],
   "source": [
    "from selenium import webdriver\n",
    "from selenium.webdriver.common.keys import Keys\n",
    "from selenium.webdriver.common.by import By\n",
    "import time"
   ]
  },
  {
   "cell_type": "code",
   "execution_count": 85,
   "id": "a8e829d2-02a2-45ae-a8db-05dff82e130a",
   "metadata": {},
   "outputs": [
    {
     "name": "stderr",
     "output_type": "stream",
     "text": [
      "C:\\Users\\admin\\AppData\\Local\\Temp\\ipykernel_11852\\2565461117.py:1: DeprecationWarning: executable_path has been deprecated, please pass in a Service object\n",
      "  driver = webdriver.Chrome('tools/chromedriver')\n"
     ]
    },
    {
     "name": "stdout",
     "output_type": "stream",
     "text": [
      "2\n"
     ]
    },
    {
     "ename": "ElementClickInterceptedException",
     "evalue": "Message: element click intercepted: Element <a href=\"/Product/communityModules/GoodsReviewList/30666...96?Sort=1&amp;PageNumber=2&amp;Type=ALL\" class=\"num\" onclick=\"urlClickForReview(this);return false;\">2</a> is not clickable at point (121, 13). Other element would receive the click: <h2 class=\"gd_name\">...</h2>\n  (Session info: chrome=102.0.5005.63)\nStacktrace:\nBacktrace:\n\tOrdinal0 [0x0107D953+2414931]\n\tOrdinal0 [0x0100F5E1+1963489]\n\tOrdinal0 [0x00EFC6B8+837304]\n\tOrdinal0 [0x00F2FC27+1047591]\n\tOrdinal0 [0x00F2DC08+1039368]\n\tOrdinal0 [0x00F2B90B+1030411]\n\tOrdinal0 [0x00F2A659+1025625]\n\tOrdinal0 [0x00F20293+983699]\n\tOrdinal0 [0x00F4449C+1131676]\n\tOrdinal0 [0x00F1FC74+982132]\n\tOrdinal0 [0x00F446B4+1132212]\n\tOrdinal0 [0x00F54812+1198098]\n\tOrdinal0 [0x00F442B6+1131190]\n\tOrdinal0 [0x00F1E860+976992]\n\tOrdinal0 [0x00F1F756+980822]\n\tGetHandleVerifier [0x012ECC62+2510274]\n\tGetHandleVerifier [0x012DF760+2455744]\n\tGetHandleVerifier [0x0110EABA+551962]\n\tGetHandleVerifier [0x0110D916+547446]\n\tOrdinal0 [0x01015F3B+1990459]\n\tOrdinal0 [0x0101A898+2009240]\n\tOrdinal0 [0x0101A985+2009477]\n\tOrdinal0 [0x01023AD1+2046673]\n\tBaseThreadInitThunk [0x7647FA29+25]\n\tRtlGetAppContainerNamedObjectPath [0x77997A7E+286]\n\tRtlGetAppContainerNamedObjectPath [0x77997A4E+238]\n",
     "output_type": "error",
     "traceback": [
      "\u001b[1;31m---------------------------------------------------------------------------\u001b[0m",
      "\u001b[1;31mElementClickInterceptedException\u001b[0m          Traceback (most recent call last)",
      "Input \u001b[1;32mIn [85]\u001b[0m, in \u001b[0;36m<cell line: 18>\u001b[1;34m()\u001b[0m\n\u001b[0;32m     36\u001b[0m page_link \u001b[38;5;241m=\u001b[39m driver\u001b[38;5;241m.\u001b[39mfind_element(By\u001b[38;5;241m.\u001b[39mCSS_SELECTOR,\u001b[38;5;124m'\u001b[39m\u001b[38;5;124mdiv.review_sort.sortTop > div.review_sortLft > div > a:nth-child(\u001b[39m\u001b[38;5;132;01m%s\u001b[39;00m\u001b[38;5;124m)\u001b[39m\u001b[38;5;124m'\u001b[39m\u001b[38;5;241m%\u001b[39m\u001b[38;5;28mstr\u001b[39m(page_num))\n\u001b[0;32m     37\u001b[0m \u001b[38;5;28mprint\u001b[39m(page_link\u001b[38;5;241m.\u001b[39mtext)\n\u001b[1;32m---> 38\u001b[0m \u001b[43mpage_link\u001b[49m\u001b[38;5;241;43m.\u001b[39;49m\u001b[43mclick\u001b[49m\u001b[43m(\u001b[49m\u001b[43m)\u001b[49m\n\u001b[0;32m     39\u001b[0m time\u001b[38;5;241m.\u001b[39msleep(\u001b[38;5;241m3\u001b[39m)\n\u001b[0;32m     41\u001b[0m page_num\u001b[38;5;241m+\u001b[39m\u001b[38;5;241m=\u001b[39m\u001b[38;5;241m1\u001b[39m\n",
      "File \u001b[1;32m~\\anaconda3\\lib\\site-packages\\selenium\\webdriver\\remote\\webelement.py:89\u001b[0m, in \u001b[0;36mWebElement.click\u001b[1;34m(self)\u001b[0m\n\u001b[0;32m     87\u001b[0m \u001b[38;5;28;01mdef\u001b[39;00m \u001b[38;5;21mclick\u001b[39m(\u001b[38;5;28mself\u001b[39m) \u001b[38;5;241m-\u001b[39m\u001b[38;5;241m>\u001b[39m \u001b[38;5;28;01mNone\u001b[39;00m:\n\u001b[0;32m     88\u001b[0m     \u001b[38;5;124;03m\"\"\"Clicks the element.\"\"\"\u001b[39;00m\n\u001b[1;32m---> 89\u001b[0m     \u001b[38;5;28;43mself\u001b[39;49m\u001b[38;5;241;43m.\u001b[39;49m\u001b[43m_execute\u001b[49m\u001b[43m(\u001b[49m\u001b[43mCommand\u001b[49m\u001b[38;5;241;43m.\u001b[39;49m\u001b[43mCLICK_ELEMENT\u001b[49m\u001b[43m)\u001b[49m\n",
      "File \u001b[1;32m~\\anaconda3\\lib\\site-packages\\selenium\\webdriver\\remote\\webelement.py:773\u001b[0m, in \u001b[0;36mWebElement._execute\u001b[1;34m(self, command, params)\u001b[0m\n\u001b[0;32m    771\u001b[0m     params \u001b[38;5;241m=\u001b[39m {}\n\u001b[0;32m    772\u001b[0m params[\u001b[38;5;124m'\u001b[39m\u001b[38;5;124mid\u001b[39m\u001b[38;5;124m'\u001b[39m] \u001b[38;5;241m=\u001b[39m \u001b[38;5;28mself\u001b[39m\u001b[38;5;241m.\u001b[39m_id\n\u001b[1;32m--> 773\u001b[0m \u001b[38;5;28;01mreturn\u001b[39;00m \u001b[38;5;28;43mself\u001b[39;49m\u001b[38;5;241;43m.\u001b[39;49m\u001b[43m_parent\u001b[49m\u001b[38;5;241;43m.\u001b[39;49m\u001b[43mexecute\u001b[49m\u001b[43m(\u001b[49m\u001b[43mcommand\u001b[49m\u001b[43m,\u001b[49m\u001b[43m \u001b[49m\u001b[43mparams\u001b[49m\u001b[43m)\u001b[49m\n",
      "File \u001b[1;32m~\\anaconda3\\lib\\site-packages\\selenium\\webdriver\\remote\\webdriver.py:430\u001b[0m, in \u001b[0;36mWebDriver.execute\u001b[1;34m(self, driver_command, params)\u001b[0m\n\u001b[0;32m    428\u001b[0m response \u001b[38;5;241m=\u001b[39m \u001b[38;5;28mself\u001b[39m\u001b[38;5;241m.\u001b[39mcommand_executor\u001b[38;5;241m.\u001b[39mexecute(driver_command, params)\n\u001b[0;32m    429\u001b[0m \u001b[38;5;28;01mif\u001b[39;00m response:\n\u001b[1;32m--> 430\u001b[0m     \u001b[38;5;28;43mself\u001b[39;49m\u001b[38;5;241;43m.\u001b[39;49m\u001b[43merror_handler\u001b[49m\u001b[38;5;241;43m.\u001b[39;49m\u001b[43mcheck_response\u001b[49m\u001b[43m(\u001b[49m\u001b[43mresponse\u001b[49m\u001b[43m)\u001b[49m\n\u001b[0;32m    431\u001b[0m     response[\u001b[38;5;124m'\u001b[39m\u001b[38;5;124mvalue\u001b[39m\u001b[38;5;124m'\u001b[39m] \u001b[38;5;241m=\u001b[39m \u001b[38;5;28mself\u001b[39m\u001b[38;5;241m.\u001b[39m_unwrap_value(\n\u001b[0;32m    432\u001b[0m         response\u001b[38;5;241m.\u001b[39mget(\u001b[38;5;124m'\u001b[39m\u001b[38;5;124mvalue\u001b[39m\u001b[38;5;124m'\u001b[39m, \u001b[38;5;28;01mNone\u001b[39;00m))\n\u001b[0;32m    433\u001b[0m     \u001b[38;5;28;01mreturn\u001b[39;00m response\n",
      "File \u001b[1;32m~\\anaconda3\\lib\\site-packages\\selenium\\webdriver\\remote\\errorhandler.py:247\u001b[0m, in \u001b[0;36mErrorHandler.check_response\u001b[1;34m(self, response)\u001b[0m\n\u001b[0;32m    245\u001b[0m         alert_text \u001b[38;5;241m=\u001b[39m value[\u001b[38;5;124m'\u001b[39m\u001b[38;5;124malert\u001b[39m\u001b[38;5;124m'\u001b[39m]\u001b[38;5;241m.\u001b[39mget(\u001b[38;5;124m'\u001b[39m\u001b[38;5;124mtext\u001b[39m\u001b[38;5;124m'\u001b[39m)\n\u001b[0;32m    246\u001b[0m     \u001b[38;5;28;01mraise\u001b[39;00m exception_class(message, screen, stacktrace, alert_text)  \u001b[38;5;66;03m# type: ignore[call-arg]  # mypy is not smart enough here\u001b[39;00m\n\u001b[1;32m--> 247\u001b[0m \u001b[38;5;28;01mraise\u001b[39;00m exception_class(message, screen, stacktrace)\n",
      "\u001b[1;31mElementClickInterceptedException\u001b[0m: Message: element click intercepted: Element <a href=\"/Product/communityModules/GoodsReviewList/30666...96?Sort=1&amp;PageNumber=2&amp;Type=ALL\" class=\"num\" onclick=\"urlClickForReview(this);return false;\">2</a> is not clickable at point (121, 13). Other element would receive the click: <h2 class=\"gd_name\">...</h2>\n  (Session info: chrome=102.0.5005.63)\nStacktrace:\nBacktrace:\n\tOrdinal0 [0x0107D953+2414931]\n\tOrdinal0 [0x0100F5E1+1963489]\n\tOrdinal0 [0x00EFC6B8+837304]\n\tOrdinal0 [0x00F2FC27+1047591]\n\tOrdinal0 [0x00F2DC08+1039368]\n\tOrdinal0 [0x00F2B90B+1030411]\n\tOrdinal0 [0x00F2A659+1025625]\n\tOrdinal0 [0x00F20293+983699]\n\tOrdinal0 [0x00F4449C+1131676]\n\tOrdinal0 [0x00F1FC74+982132]\n\tOrdinal0 [0x00F446B4+1132212]\n\tOrdinal0 [0x00F54812+1198098]\n\tOrdinal0 [0x00F442B6+1131190]\n\tOrdinal0 [0x00F1E860+976992]\n\tOrdinal0 [0x00F1F756+980822]\n\tGetHandleVerifier [0x012ECC62+2510274]\n\tGetHandleVerifier [0x012DF760+2455744]\n\tGetHandleVerifier [0x0110EABA+551962]\n\tGetHandleVerifier [0x0110D916+547446]\n\tOrdinal0 [0x01015F3B+1990459]\n\tOrdinal0 [0x0101A898+2009240]\n\tOrdinal0 [0x0101A985+2009477]\n\tOrdinal0 [0x01023AD1+2046673]\n\tBaseThreadInitThunk [0x7647FA29+25]\n\tRtlGetAppContainerNamedObjectPath [0x77997A7E+286]\n\tRtlGetAppContainerNamedObjectPath [0x77997A4E+238]\n"
     ]
    }
   ],
   "source": [
    "driver = webdriver.Chrome('tools/chromedriver')\n",
    "driver.implicitly_wait(3)\n",
    "\n",
    "driver.get('http://www.yes24.com/Product/Goods/30666296')\n",
    "\n",
    "\n",
    "def check_next():\n",
    "    next_btn = driver.find_element(By.CSS_SELECTOR,'.review_sort.sortTop a.bgYUI.next')\n",
    "    if 'dim' in next_btn.get_attribute('class'):\n",
    "        return False\n",
    "    return True\n",
    "\n",
    "page_num=4\n",
    "result=[]\n",
    "\n",
    "while True:\n",
    "    if check_next()==False:\n",
    "        break\n",
    "    if(page_num==13):\n",
    "        page_num=4\n",
    "        next_btn = driver.find_element(By.CSS_SELECTOR,'.review_sort.sortTop a.bgYUI.next')\n",
    "        next_btn.click()\n",
    "        time.sleep(1)\n",
    "\n",
    "        \n",
    "    reviews=driver.find_elements(By.CSS_SELECTOR,'#infoset_reviewContentList > .reviewInfoGrp')\n",
    "    \n",
    "    for review in reviews:        \n",
    "        title = review.find_element(By.CLASS_NAME,'review_tit').text\n",
    "        time.sleep(1)\n",
    "        review.find_element(By.CLASS_NAME,'review_more').click()\n",
    "        content = review.find_element(By.CSS_SELECTOR,'div.reviewInfoBot.origin > div.review_cont').text\n",
    "        result.append((key,title,content))\n",
    "    \n",
    "    page_link = driver.find_element(By.CSS_SELECTOR,'div.review_sort.sortTop > div.review_sortLft > div > a:nth-child(%s)'%str(page_num))\n",
    "    print(page_link.text)\n",
    "    page_link.click()\n",
    "    time.sleep(1)\n",
    "    \n",
    "    page_num+=1\n",
    "driver.close()\n",
    "\n",
    "print(result)\n"
   ]
  },
  {
   "cell_type": "code",
   "execution_count": null,
   "id": "80f009a7-85da-4544-b1fc-cd17fc137eaa",
   "metadata": {},
   "outputs": [],
   "source": []
  }
 ],
 "metadata": {
  "kernelspec": {
   "display_name": "Python 3 (ipykernel)",
   "language": "python",
   "name": "python3"
  },
  "language_info": {
   "codemirror_mode": {
    "name": "ipython",
    "version": 3
   },
   "file_extension": ".py",
   "mimetype": "text/x-python",
   "name": "python",
   "nbconvert_exporter": "python",
   "pygments_lexer": "ipython3",
   "version": "3.9.12"
  }
 },
 "nbformat": 4,
 "nbformat_minor": 5
}
