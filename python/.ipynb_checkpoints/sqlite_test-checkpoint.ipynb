{
 "cells": [
  {
   "cell_type": "code",
   "execution_count": 2,
   "id": "76cc0739-63fc-45de-b5e0-4316d8547659",
   "metadata": {},
   "outputs": [],
   "source": [
    "import sqlite3"
   ]
  },
  {
   "cell_type": "code",
   "execution_count": 24,
   "id": "983d4409-af92-4919-8b9e-6499ab48e354",
   "metadata": {},
   "outputs": [],
   "source": [
    "def create_table():\n",
    "    conn = sqlite3.connect('my_book.db')\n",
    "    cursor=conn.cursor()\n",
    "    sql=\"\"\"\n",
    "    create table if not exists books(\n",
    "        title text,\n",
    "        publisher text,\n",
    "        pages integer,\n",
    "        recommend integer\n",
    "    )\n",
    "    \"\"\"\n",
    "    cursor.execute(sql)\n",
    "    conn.commit()\n",
    "    conn.close()"
   ]
  },
  {
   "cell_type": "code",
   "execution_count": 25,
   "id": "51703ce5-1ced-4649-8c14-33fcf6f068cf",
   "metadata": {},
   "outputs": [],
   "source": [
    "create_table()"
   ]
  },
  {
   "cell_type": "code",
   "execution_count": 39,
   "id": "f3cdaaf3-9639-48a6-9c38-8abda16422ac",
   "metadata": {},
   "outputs": [],
   "source": [
    "def insert_books(book):\n",
    "    conn=sqlite3.connect('my_book.db')\n",
    "    cursor=conn.cursor()\n",
    "    # sql=\"insert into books values('java','길벗', 500, 1)\"\n",
    "    sql = \"insert into books values(?,?,?,?)\"\n",
    "    cursor.execute(sql, book)\n",
    "    conn.commit()\n",
    "    conn.close()"
   ]
  },
  {
   "cell_type": "code",
   "execution_count": 40,
   "id": "a887379f-51d0-46fa-bd56-587adf26fb3f",
   "metadata": {},
   "outputs": [],
   "source": [
    "book = ('python', '한빛',600,1)\n",
    "insert_books(book)"
   ]
  },
  {
   "cell_type": "code",
   "execution_count": 41,
   "id": "789a46fa-62a0-43f4-9a7b-4ab244dc89d0",
   "metadata": {},
   "outputs": [],
   "source": [
    "def all_books():\n",
    "    conn=sqlite3.connect('my_book.db')\n",
    "    cursor=conn.cursor()\n",
    "    sql=\"select * from books\"\n",
    "    cursor.execute(sql)\n",
    "    books=cursor.fetchall()\n",
    "    print(books)\n",
    "    print(len(books))\n",
    "    \n",
    "    for book in books:\n",
    "        print(book)    \n",
    "    conn.close()"
   ]
  },
  {
   "cell_type": "code",
   "execution_count": 43,
   "id": "119dd51f-de4e-40fa-b584-41ce10ce2e82",
   "metadata": {},
   "outputs": [
    {
     "name": "stdout",
     "output_type": "stream",
     "text": [
      "[('java', '길벗', 500, 1), ('python', '한빛', 600, 1), ('python', '한빛', 600, 1)]\n",
      "3\n",
      "('java', '길벗', 500, 1)\n",
      "('python', '한빛', 600, 1)\n",
      "('python', '한빛', 600, 1)\n"
     ]
    }
   ],
   "source": [
    "all_books()"
   ]
  },
  {
   "cell_type": "code",
   "execution_count": null,
   "id": "3e37d347-7899-4625-addc-b6739e912b62",
   "metadata": {},
   "outputs": [],
   "source": [
    "def insert_many_books(books):\n",
    "    conn=sqlite3.connect('my_book.db')\n",
    "    cursor=conn.cursor()\n",
    "    sql = \"insert into books values(?,?,?,?)\"\n",
    "    cursor.executemany(sql, book)\n",
    "    conn.commit()\n",
    "    conn.close()"
   ]
  }
 ],
 "metadata": {
  "kernelspec": {
   "display_name": "Python 3 (ipykernel)",
   "language": "python",
   "name": "python3"
  },
  "language_info": {
   "codemirror_mode": {
    "name": "ipython",
    "version": 3
   },
   "file_extension": ".py",
   "mimetype": "text/x-python",
   "name": "python",
   "nbconvert_exporter": "python",
   "pygments_lexer": "ipython3",
   "version": "3.9.12"
  }
 },
 "nbformat": 4,
 "nbformat_minor": 5
}
