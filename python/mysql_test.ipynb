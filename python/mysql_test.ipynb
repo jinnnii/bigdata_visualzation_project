{
 "cells": [
  {
   "cell_type": "code",
   "execution_count": 3,
   "id": "8c840d28-8c91-4a9d-af89-54e35399a026",
   "metadata": {},
   "outputs": [],
   "source": [
    "import pymysql"
   ]
  },
  {
   "cell_type": "code",
   "execution_count": 8,
   "id": "44786ee5-e0aa-4b66-a931-6f97786c48b5",
   "metadata": {},
   "outputs": [],
   "source": [
    "def insert_book():\n",
    "    conn=pymysql.connect(\n",
    "        host='localhost',\n",
    "        user='root',\n",
    "        password='1234',\n",
    "        db='pydb',\n",
    "        charset='utf8')\n",
    "    cursor=conn.cursor()\n",
    "    sql='insert into book(title, pub) values(%s,%s)'\n",
    "    data=('title','pub')\n",
    "    cursor.execute(sql,data)\n",
    "    conn.commit()\n",
    "    conn.close()"
   ]
  },
  {
   "cell_type": "code",
   "execution_count": 9,
   "id": "d76d76a8-3c94-4222-b390-e84aa3a0f732",
   "metadata": {},
   "outputs": [],
   "source": [
    "insert_book()"
   ]
  },
  {
   "cell_type": "code",
   "execution_count": 24,
   "id": "c00d5138-635c-4f99-87ca-9617ce836438",
   "metadata": {},
   "outputs": [],
   "source": [
    "def insert_book_list(datas):\n",
    "    conn=pymysql.connect(\n",
    "        host='localhost',\n",
    "        user='root',\n",
    "        password='1234',\n",
    "        db='pydb',\n",
    "        charset='utf8')\n",
    "    cursor=conn.cursor()\n",
    "    sql='insert into book(title, pub, pages, author) values(%s,%s,%s,%s)'\n",
    "    cursor.executemany(sql,datas)\n",
    "    conn.commit()\n",
    "    conn.close()"
   ]
  },
  {
   "cell_type": "code",
   "execution_count": 45,
   "id": "535dcb66-8849-4885-9e1e-7d086fd58c17",
   "metadata": {},
   "outputs": [],
   "source": [
    "datas = [('android','갑',650,'홍길동'),('Oracle DB','을',650,'홍길동'),('Spring','병',650,'홍길동')]\n",
    "insert_book_list(datas)"
   ]
  },
  {
   "cell_type": "code",
   "execution_count": 11,
   "id": "9152f670-597f-40f1-9142-1da63f29b67f",
   "metadata": {},
   "outputs": [],
   "source": [
    "def select_all():\n",
    "    conn=pymysql.connect(\n",
    "        host='localhost',\n",
    "        user='root',\n",
    "        password='1234',\n",
    "        db='pydb',\n",
    "        charset='utf8')\n",
    "    cursor=conn.cursor()\n",
    "    sql='select * from book'\n",
    "    cursor.execute(sql)\n",
    "    for book in cursor:\n",
    "        print(book)\n",
    "    conn.close()"
   ]
  },
  {
   "cell_type": "code",
   "execution_count": 46,
   "id": "44473c8b-9f53-4e6e-8ae7-0cf09ffd607a",
   "metadata": {},
   "outputs": [
    {
     "name": "stdout",
     "output_type": "stream",
     "text": [
      "(3, 'Oracle DB', '을', 650, '홍길동')\n",
      "(4, 'Spring', '병', 650, '홍길동')\n",
      "(5, 'android', '갑', 650, '홍길동')\n",
      "(6, 'Oracle DB', '을', 650, '홍길동')\n",
      "(7, 'Spring', '병', 650, '홍길동')\n"
     ]
    }
   ],
   "source": [
    "select_all()"
   ]
  },
  {
   "cell_type": "code",
   "execution_count": 32,
   "id": "04fefc75-9f9c-4824-935d-349e90c4e621",
   "metadata": {},
   "outputs": [],
   "source": [
    "def update_book(data):\n",
    "    conn=pymysql.connect(\n",
    "        host='localhost',\n",
    "        user='root',\n",
    "        password='1234',\n",
    "        db='pydb',\n",
    "        charset='utf8')\n",
    "    cursor=conn.cursor()\n",
    "    sql='update book set title=%s, pub=%s, pages=%s, author=%s where id=%s'\n",
    "    cursor.execute(sql,data)\n",
    "    conn.commit()\n",
    "    conn.close()"
   ]
  },
  {
   "cell_type": "code",
   "execution_count": 34,
   "id": "942aaf08-5957-4211-9fef-0826fa1f3de1",
   "metadata": {},
   "outputs": [
    {
     "name": "stdout",
     "output_type": "stream",
     "text": [
      "(1, 'python', '정', 700, '둘리')\n",
      "(2, 'android', '갑', 650, '홍길동')\n",
      "(3, 'Oracle DB', '을', 650, '홍길동')\n",
      "(4, 'Spring', '병', 650, '홍길동')\n"
     ]
    }
   ],
   "source": [
    "data = ('python','정',700,'둘리',1)\n",
    "update_book(data)\n",
    "select_all()"
   ]
  },
  {
   "cell_type": "code",
   "execution_count": 40,
   "id": "34a53fe6-38df-44f4-8f8c-1524d2818e04",
   "metadata": {},
   "outputs": [],
   "source": [
    "def delete_book(data):\n",
    "    conn=pymysql.connect(\n",
    "        host='localhost',\n",
    "        user='root',\n",
    "        password='1234',\n",
    "        db='pydb',\n",
    "        charset='utf8')\n",
    "    cursor=conn.cursor()\n",
    "    sql='delete from book where id=%s'\n",
    "    cursor.executemany(sql,data)\n",
    "    conn.commit()\n",
    "    conn.close()"
   ]
  },
  {
   "cell_type": "code",
   "execution_count": 48,
   "id": "3dd6f80a-3d76-423f-b573-3d341577dc24",
   "metadata": {},
   "outputs": [
    {
     "name": "stdout",
     "output_type": "stream",
     "text": [
      "(5, 'android', '갑', 650, '홍길동')\n",
      "(6, 'Oracle DB', '을', 650, '홍길동')\n",
      "(7, 'Spring', '병', 650, '홍길동')\n"
     ]
    }
   ],
   "source": [
    "# delete_book((1,))\n",
    "delete_book((3,4))\n",
    "select_all()"
   ]
  },
  {
   "cell_type": "code",
   "execution_count": 50,
   "id": "de970263-72fc-415c-abad-116100126c51",
   "metadata": {},
   "outputs": [],
   "source": [
    "def try_catch_sql():\n",
    "    conn=pymysql.connect(\n",
    "        host='localhost',\n",
    "        user='root',\n",
    "        password='1234',\n",
    "        db='pydb',\n",
    "        charset='utf8')\n",
    "    try: #Insert\n",
    "        with conn.cursor() as curs:\n",
    "            sql = 'insert into book(title,pub) values(%s,%s)'\n",
    "            curs.execute(sql,('python','정'))\n",
    "            conn.commit()\n",
    "        with conn.cursor() as curs:\n",
    "            sql='select * from book'\n",
    "            curs.execute(sql)\n",
    "            rs=curs.fetchall()\n",
    "            for row in rs:\n",
    "                print(row)\n",
    "    finally:\n",
    "        conn.close()"
   ]
  },
  {
   "cell_type": "code",
   "execution_count": 51,
   "id": "1279cd4e-be09-40da-ba22-8abb9fe86f63",
   "metadata": {},
   "outputs": [
    {
     "name": "stdout",
     "output_type": "stream",
     "text": [
      "(5, 'android', '갑', 650, '홍길동')\n",
      "(6, 'Oracle DB', '을', 650, '홍길동')\n",
      "(7, 'Spring', '병', 650, '홍길동')\n",
      "(8, 'python', '정', None, None)\n"
     ]
    }
   ],
   "source": [
    "try_catch_sql()"
   ]
  }
 ],
 "metadata": {
  "kernelspec": {
   "display_name": "Python 3 (ipykernel)",
   "language": "python",
   "name": "python3"
  },
  "language_info": {
   "codemirror_mode": {
    "name": "ipython",
    "version": 3
   },
   "file_extension": ".py",
   "mimetype": "text/x-python",
   "name": "python",
   "nbconvert_exporter": "python",
   "pygments_lexer": "ipython3",
   "version": "3.9.12"
  }
 },
 "nbformat": 4,
 "nbformat_minor": 5
}
