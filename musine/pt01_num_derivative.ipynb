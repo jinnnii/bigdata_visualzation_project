{
 "cells": [
  {
   "cell_type": "code",
   "execution_count": 13,
   "id": "8f4cd1f8-8c7b-45e0-90f0-8933cbefd7af",
   "metadata": {},
   "outputs": [],
   "source": [
    "import numpy as np\n",
    "def my_func(x):\n",
    "    return x**2\n",
    "\n",
    "def my_func2(x):\n",
    "    return 3*x*(np.exp(x))\n",
    "\n",
    "def my_func3(x):\n",
    "    return (2*x[0])+(3*x[0]*x[1])+x[1]**3"
   ]
  },
  {
   "cell_type": "code",
   "execution_count": 2,
   "id": "59196608-39fe-45a0-88ab-b2b864bb44d9",
   "metadata": {},
   "outputs": [],
   "source": [
    "def numerical_derivative(f,x):\n",
    "    delta_x=1e-4 #0.00001\n",
    "    return (f(x+delta_x)-f(x-delta_x))/(2*delta_x)"
   ]
  },
  {
   "cell_type": "code",
   "execution_count": 37,
   "id": "707da1ee-1ec5-42d5-9f88-6651d2a2f29a",
   "metadata": {},
   "outputs": [
    {
     "name": "stdout",
     "output_type": "stream",
     "text": [
      "66.50150507518049\n"
     ]
    }
   ],
   "source": [
    "result= numerical_derivative(my_func2,2)\n",
    "print(result)"
   ]
  },
  {
   "cell_type": "code",
   "execution_count": 29,
   "id": "5901e622-6752-4bf9-a25e-5753ae24e77a",
   "metadata": {},
   "outputs": [],
   "source": [
    "def numerical_derivative_multi(f,x):\n",
    "    delta_x=1e-4\n",
    "    grad=np.zeros_like(x)\n",
    "    \n",
    "    print('debug 1. inital input variable =', x)\n",
    "    print('debug 2. inital grad =', grad)\n",
    "    \n",
    "    it = np.nditer(x, flags=['multi_index'], op_flags=['readwrite'])\n",
    "    \n",
    "    while not it.finished:\n",
    "        idx=it.multi_index\n",
    "        \n",
    "        tmp_val=x[idx]\n",
    "        x[idx]=float(tmp_val)+delta_x\n",
    "        fx1=f(x) #f(x+delta_x)\n",
    "        \n",
    "        x[idx]=tmp_val-delta_x\n",
    "        fx2=f(x) #f(x-detal_x)\n",
    "        grad[idx]=(fx1-fx2)/(2*delta_x)\n",
    "        \n",
    "        print('debug 3. grad[idx] =', grad[idx])\n",
    "        print('debug 4. grad =', grad)\n",
    "    \n",
    "        x[idx]=tmp_val\n",
    "        it.iternext()\n",
    "        \n",
    "    return grad"
   ]
  },
  {
   "cell_type": "code",
   "execution_count": 34,
   "id": "ae8d23db-de33-45f1-a30f-529d33f14d5a",
   "metadata": {},
   "outputs": [
    {
     "name": "stdout",
     "output_type": "stream",
     "text": [
      "debug 1. inital input variable = [1. 2.]\n",
      "debug 2. inital grad = [0. 0.]\n",
      "debug 3. grad[idx] = 7.999999999990237\n",
      "debug 4. grad = [8. 0.]\n",
      "debug 3. grad[idx] = 15.000000010019221\n",
      "debug 4. grad = [ 8.         15.00000001]\n",
      "result ::::: [ 8.         15.00000001]\n"
     ]
    }
   ],
   "source": [
    "xy = np.array([1.0,2.0])\n",
    "result = numerical_derivative_multi(my_func3, xy)\n",
    "print('result :::::',result)"
   ]
  },
  {
   "cell_type": "code",
   "execution_count": 35,
   "id": "9e9d7ed1-0831-4bbb-9741-2957f0eb99ee",
   "metadata": {},
   "outputs": [
    {
     "name": "stdout",
     "output_type": "stream",
     "text": [
      "debug 1. inital input variable = [[1. 2.]\n",
      " [3. 4.]]\n",
      "debug 2. inital grad = [[0. 0.]\n",
      " [0. 0.]]\n",
      "debug 3. grad[idx] = 5.000000000023874\n",
      "debug 4. grad = [[5. 0.]\n",
      " [0. 0.]]\n",
      "debug 3. grad[idx] = 13.00000000000523\n",
      "debug 4. grad = [[ 5. 13.]\n",
      " [ 0.  0.]]\n",
      "debug 3. grad[idx] = 32.00000000006753\n",
      "debug 4. grad = [[ 5. 13.]\n",
      " [32.  0.]]\n",
      "debug 3. grad[idx] = 15.000000000000568\n",
      "debug 4. grad = [[ 5. 13.]\n",
      " [32. 15.]]\n",
      "[[ 5. 13.]\n",
      " [32. 15.]]\n"
     ]
    }
   ],
   "source": [
    "#입력번수 4개인 함수\n",
    "#f(w,x,y,z) = wx+xyz+3w+zy^2\n",
    "\n",
    "def func4(input_obj):\n",
    "    w=input_obj[0,0]\n",
    "    x=input_obj[0,1]\n",
    "    y=input_obj[1,0]\n",
    "    z=input_obj[1,1]\n",
    "    \n",
    "    return (w*x+x*y*z+3*w+z*np.power(y,2))\n",
    "\n",
    "input = np.array([ [1.0,2.0], [3.0,4.0] ])\n",
    "\n",
    "result = numerical_derivative_multi(func4, input)\n",
    "print(result)"
   ]
  }
 ],
 "metadata": {
  "kernelspec": {
   "display_name": "Python 3 (ipykernel)",
   "language": "python",
   "name": "python3"
  },
  "language_info": {
   "codemirror_mode": {
    "name": "ipython",
    "version": 3
   },
   "file_extension": ".py",
   "mimetype": "text/x-python",
   "name": "python",
   "nbconvert_exporter": "python",
   "pygments_lexer": "ipython3",
   "version": "3.9.12"
  }
 },
 "nbformat": 4,
 "nbformat_minor": 5
}
