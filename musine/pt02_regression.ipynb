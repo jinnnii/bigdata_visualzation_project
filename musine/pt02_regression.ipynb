{
 "cells": [
  {
   "cell_type": "code",
   "execution_count": 1,
   "id": "dbf0f344-42d8-4a99-b9f2-3633671dbcad",
   "metadata": {},
   "outputs": [],
   "source": [
    "import numpy as np\n",
    "# 5행 1열 입력데이터(x)와 정답데이터(t)\n",
    "x_data = np.array([1,2,3,4,5]).reshape(5,1)\n",
    "t_data = np.array([2,3,4,5,6]).reshape(5,1)\n",
    "\n",
    "# row_data = [[1,2],[2,3],[3,4],[4,5],[5,6]]\n"
   ]
  },
  {
   "cell_type": "code",
   "execution_count": 24,
   "id": "62fe5fec-67b2-4eeb-9c0e-6ff311038d02",
   "metadata": {},
   "outputs": [
    {
     "name": "stdout",
     "output_type": "stream",
     "text": [
      "W= [[0.88554314]] b= [0.68695527]\n"
     ]
    }
   ],
   "source": [
    "W= np.random.rand(1,1) #0-1 사이 랜덤 값\n",
    "b= np.random.rand(1)\n",
    "\n",
    "print('W=',W, 'b=',b)"
   ]
  },
  {
   "cell_type": "code",
   "execution_count": 13,
   "id": "2b3c3a58-bf9f-4ad5-bc6e-b474a077464a",
   "metadata": {},
   "outputs": [],
   "source": [
    "# 손실함수 공식\n",
    "def loss_func(x,t):\n",
    "    y=np.dot(x,W)+b\n",
    "    return (np.sum((t-y)**2))/(len(x))"
   ]
  },
  {
   "cell_type": "code",
   "execution_count": 22,
   "id": "cb1be734-3a84-4468-8b53-9f6bc2f11384",
   "metadata": {},
   "outputs": [],
   "source": [
    "# 미분함수 공식\n",
    "def numerical_derivative(f,x):\n",
    "    delta_x=1e-4\n",
    "    grad=np.zeros_like(x)\n",
    "    \n",
    "    it = np.nditer(x, flags=['multi_index'], op_flags=['readwrite'])\n",
    "    \n",
    "    while not it.finished:\n",
    "        idx=it.multi_index\n",
    "        \n",
    "        tmp_val=x[idx]\n",
    "        x[idx]=float(tmp_val)+delta_x\n",
    "        fx1=f(x) #f(x+delta_x)\n",
    "        \n",
    "        x[idx]=tmp_val-delta_x\n",
    "        fx2=f(x) #f(x-detal_x)\n",
    "        grad[idx]=(fx1-fx2)/(2*delta_x)\n",
    "        \n",
    "        x[idx]=tmp_val\n",
    "        it.iternext()\n",
    "        \n",
    "    return grad"
   ]
  },
  {
   "cell_type": "code",
   "execution_count": 16,
   "id": "dde907e6-fb9c-4b95-bfbb-8a35c802dd51",
   "metadata": {},
   "outputs": [],
   "source": [
    "# 손실 함수 값 계산 함수\n",
    "def error_val(x,t):\n",
    "    y=np.dot(x,W)+b\n",
    "    return (np.sum((t-y)**2))/(len(x))"
   ]
  },
  {
   "cell_type": "code",
   "execution_count": 17,
   "id": "ecf7a78d-9619-46d9-9007-6afd1f9596f7",
   "metadata": {},
   "outputs": [],
   "source": [
    "# 학습을 마친 후 임의의 데이터에 대해 미래 값 예측 함수\n",
    "def predict(x):\n",
    "    y=np.dot(x,W)+b\n",
    "    return y"
   ]
  },
  {
   "cell_type": "code",
   "execution_count": 25,
   "id": "ccfbab6b-d8f1-40d5-9a70-550aefe991af",
   "metadata": {},
   "outputs": [
    {
     "name": "stdout",
     "output_type": "stream",
     "text": [
      "Intitial error value =  0.4570817929854628\n",
      "Intitial W =  [[0.88554314]]\n",
      "Intitial b =  [0.68695527]\n",
      "step= 0 error value= 0.2741709110357964 W= [[0.92950634]] b= [0.69744578]\n",
      "step= 400 error value= 0.0008535256409603965 W= [[1.01897165]] b= [0.9315231]\n",
      "step= 800 error value= 5.445998191367569e-05 W= [[1.00479221]] b= [0.98270285]\n",
      "step= 1200 error value= 3.4748688120252246e-06 W= [[1.0012105]] b= [0.99563077]\n",
      "step= 1600 error value= 2.217171735371563e-07 W= [[1.00030577]] b= [0.99889634]\n",
      "step= 2000 error value= 1.4146866457552e-08 W= [[1.00007724]] b= [0.99972122]\n",
      "step= 2400 error value= 9.026537158714732e-10 W= [[1.00001951]] b= [0.99992958]\n",
      "step= 2800 error value= 5.759464353540593e-11 W= [[1.00000493]] b= [0.99998221]\n",
      "step= 3200 error value= 3.6748787545697495e-12 W= [[1.00000124]] b= [0.99999551]\n",
      "step= 3600 error value= 2.344789904165764e-13 W= [[1.00000031]] b= [0.99999887]\n",
      "step= 4000 error value= 1.4961145885978397e-14 W= [[1.00000008]] b= [0.99999971]\n",
      "step= 4400 error value= 9.546095524421118e-16 W= [[1.00000002]] b= [0.99999993]\n",
      "step= 4800 error value= 6.090973242196853e-17 W= [[1.00000001]] b= [0.99999998]\n",
      "step= 5200 error value= 3.8864015933191756e-18 W= [[1.]] b= [1.]\n",
      "step= 5600 error value= 2.479755307158413e-19 W= [[1.]] b= [1.]\n",
      "step= 6000 error value= 1.582234070783296e-20 W= [[1.]] b= [1.]\n",
      "step= 6400 error value= 1.0095652226406768e-21 W= [[1.]] b= [1.]\n",
      "step= 6800 error value= 6.441599229732418e-23 W= [[1.]] b= [1.]\n",
      "step= 7200 error value= 4.1126426312277014e-24 W= [[1.]] b= [1.]\n",
      "step= 7600 error value= 2.629630455268858e-25 W= [[1.]] b= [1.]\n",
      "step= 8000 error value= 1.682036832243924e-26 W= [[1.]] b= [1.]\n"
     ]
    }
   ],
   "source": [
    "# 발산하는 경우 1e-3 ~ 1e-6 등으로 바꾸어서 실행\n",
    "# 잘내려가다가 갑자기 올라간다는 등\n",
    "learning_rate = 1e-2\n",
    "\n",
    "f = lambda x:loss_func(x_data, t_data)\n",
    "\n",
    "print('Intitial error value = ', error_val(x_data,t_data))\n",
    "print('Intitial W = ', W)\n",
    "print('Intitial b = ', b)\n",
    "\n",
    "for step in range(8001):\n",
    "    W -= learning_rate * numerical_derivative(f,W)\n",
    "    b -= learning_rage * numerical_derivative(f,b)\n",
    "    \n",
    "    if( step%400==0):\n",
    "        print('step=',step, 'error value=',error_val(x_data, t_data),\n",
    "              'W=',W, 'b=',b)"
   ]
  },
  {
   "cell_type": "code",
   "execution_count": 26,
   "id": "ee0a443e-5929-4401-af20-d9d79e8c48d9",
   "metadata": {},
   "outputs": [
    {
     "data": {
      "text/plain": [
       "array([[11.]])"
      ]
     },
     "execution_count": 26,
     "metadata": {},
     "output_type": "execute_result"
    }
   ],
   "source": [
    "predict(10)"
   ]
  },
  {
   "cell_type": "code",
   "execution_count": 31,
   "id": "a16469d6-1b46-43fd-8f67-9be76771bc29",
   "metadata": {},
   "outputs": [
    {
     "data": {
      "text/plain": [
       "array([[152.],\n",
       "       [185.],\n",
       "       [180.],\n",
       "       [196.],\n",
       "       [142.],\n",
       "       [101.],\n",
       "       [149.],\n",
       "       [115.],\n",
       "       [175.],\n",
       "       [164.],\n",
       "       [141.],\n",
       "       [141.],\n",
       "       [184.],\n",
       "       [152.],\n",
       "       [148.],\n",
       "       [192.],\n",
       "       [147.],\n",
       "       [183.],\n",
       "       [177.],\n",
       "       [159.],\n",
       "       [177.],\n",
       "       [175.],\n",
       "       [175.],\n",
       "       [149.],\n",
       "       [192.]], dtype=float32)"
      ]
     },
     "execution_count": 31,
     "metadata": {},
     "output_type": "execute_result"
    }
   ],
   "source": [
    "import numpy as np\n",
    "\n",
    "load_data = np.loadtxt('data/data-01-test-score.csv',\n",
    "                      delimiter=',', dtype=np.float32)\n",
    "\n",
    "x_data = load_data[:,0:-1] #맨마지막 열 빼고\n",
    "t_data = load_data[:,[-1]] #맨마지막 열 만\n",
    "\n",
    "x_data\n",
    "t_data"
   ]
  },
  {
   "cell_type": "code",
   "execution_count": 41,
   "id": "f24282a2-e4e3-49b3-a905-a637cfc3f314",
   "metadata": {},
   "outputs": [
    {
     "name": "stdout",
     "output_type": "stream",
     "text": [
      "W= [[0.11564407]\n",
      " [0.63140751]\n",
      " [0.05328893]] b= [0.52874103]\n"
     ]
    }
   ],
   "source": [
    "W = np.random.rand(3,1) #3행 1열\n",
    "b = np.random.rand(1)\n",
    "\n",
    "print('W=',W, 'b=',b)"
   ]
  },
  {
   "cell_type": "code",
   "execution_count": 42,
   "id": "2b2df754-1162-4328-bffa-b0498d2470a7",
   "metadata": {},
   "outputs": [
    {
     "name": "stdout",
     "output_type": "stream",
     "text": [
      "Initial error value = 9790.7388265398 Initial W= [[0.11564407]\n",
      " [0.63140751]\n",
      " [0.05328893]] Initial b= [0.52874103]\n",
      "step= 0 error value= 1435002726.0367522 \n",
      "W= [[158.00683881]\n",
      " [159.2002052 ]\n",
      " [162.84445258]] \n",
      "b= [-764.45419773] \n",
      "\n",
      "step= 400 error value= 7.12257658376883e+29 \n",
      "W= [[3.42710497e+12]\n",
      " [3.50758658e+12]\n",
      " [3.50737946e+12]] \n",
      "b= [-1.12142771e+08] \n",
      "\n",
      "step= 800 error value= 7.12257658376883e+29 \n",
      "W= [[3.42710497e+12]\n",
      " [3.50758658e+12]\n",
      " [3.50737946e+12]] \n",
      "b= [-1.12142771e+08] \n",
      "\n",
      "step= 1200 error value= 7.12257658376883e+29 \n",
      "W= [[3.42710497e+12]\n",
      " [3.50758658e+12]\n",
      " [3.50737946e+12]] \n",
      "b= [-1.12142771e+08] \n",
      "\n",
      "step= 1600 error value= 7.12257658376883e+29 \n",
      "W= [[3.42710497e+12]\n",
      " [3.50758658e+12]\n",
      " [3.50737946e+12]] \n",
      "b= [-1.12142771e+08] \n",
      "\n",
      "step= 2000 error value= 7.12257658376883e+29 \n",
      "W= [[3.42710497e+12]\n",
      " [3.50758658e+12]\n",
      " [3.50737946e+12]] \n",
      "b= [-1.12142771e+08] \n",
      "\n",
      "step= 2400 error value= 7.12257658376883e+29 \n",
      "W= [[3.42710497e+12]\n",
      " [3.50758658e+12]\n",
      " [3.50737946e+12]] \n",
      "b= [-1.12142771e+08] \n",
      "\n",
      "step= 2800 error value= 7.12257658376883e+29 \n",
      "W= [[3.42710497e+12]\n",
      " [3.50758658e+12]\n",
      " [3.50737946e+12]] \n",
      "b= [-1.12142771e+08] \n",
      "\n",
      "step= 3200 error value= 7.12257658376883e+29 \n",
      "W= [[3.42710497e+12]\n",
      " [3.50758658e+12]\n",
      " [3.50737946e+12]] \n",
      "b= [-1.12142771e+08] \n",
      "\n",
      "step= 3600 error value= 7.12257658376883e+29 \n",
      "W= [[3.42710497e+12]\n",
      " [3.50758658e+12]\n",
      " [3.50737946e+12]] \n",
      "b= [-1.12142771e+08] \n",
      "\n",
      "step= 4000 error value= 7.12257658376883e+29 \n",
      "W= [[3.42710497e+12]\n",
      " [3.50758658e+12]\n",
      " [3.50737946e+12]] \n",
      "b= [-1.12142771e+08] \n",
      "\n",
      "step= 4400 error value= 7.12257658376883e+29 \n",
      "W= [[3.42710497e+12]\n",
      " [3.50758658e+12]\n",
      " [3.50737946e+12]] \n",
      "b= [-1.12142771e+08] \n",
      "\n",
      "step= 4800 error value= 7.12257658376883e+29 \n",
      "W= [[3.42710497e+12]\n",
      " [3.50758658e+12]\n",
      " [3.50737946e+12]] \n",
      "b= [-1.12142771e+08] \n",
      "\n",
      "step= 5200 error value= 7.12257658376883e+29 \n",
      "W= [[3.42710497e+12]\n",
      " [3.50758658e+12]\n",
      " [3.50737946e+12]] \n",
      "b= [-1.12142771e+08] \n",
      "\n",
      "step= 5600 error value= 7.12257658376883e+29 \n",
      "W= [[3.42710497e+12]\n",
      " [3.50758658e+12]\n",
      " [3.50737946e+12]] \n",
      "b= [-1.12142771e+08] \n",
      "\n",
      "step= 6000 error value= 7.12257658376883e+29 \n",
      "W= [[3.42710497e+12]\n",
      " [3.50758658e+12]\n",
      " [3.50737946e+12]] \n",
      "b= [-1.12142771e+08] \n",
      "\n",
      "step= 6400 error value= 7.12257658376883e+29 \n",
      "W= [[3.42710497e+12]\n",
      " [3.50758658e+12]\n",
      " [3.50737946e+12]] \n",
      "b= [-1.12142771e+08] \n",
      "\n",
      "step= 6800 error value= 7.12257658376883e+29 \n",
      "W= [[3.42710497e+12]\n",
      " [3.50758658e+12]\n",
      " [3.50737946e+12]] \n",
      "b= [-1.12142771e+08] \n",
      "\n",
      "step= 7200 error value= 7.12257658376883e+29 \n",
      "W= [[3.42710497e+12]\n",
      " [3.50758658e+12]\n",
      " [3.50737946e+12]] \n",
      "b= [-1.12142771e+08] \n",
      "\n",
      "step= 7600 error value= 7.12257658376883e+29 \n",
      "W= [[3.42710497e+12]\n",
      " [3.50758658e+12]\n",
      " [3.50737946e+12]] \n",
      "b= [-1.12142771e+08] \n",
      "\n",
      "step= 8000 error value= 7.12257658376883e+29 \n",
      "W= [[3.42710497e+12]\n",
      " [3.50758658e+12]\n",
      " [3.50737946e+12]] \n",
      "b= [-1.12142771e+08] \n",
      "\n",
      "step= 8400 error value= 7.12257658376883e+29 \n",
      "W= [[3.42710497e+12]\n",
      " [3.50758658e+12]\n",
      " [3.50737946e+12]] \n",
      "b= [-1.12142771e+08] \n",
      "\n",
      "step= 8800 error value= 7.12257658376883e+29 \n",
      "W= [[3.42710497e+12]\n",
      " [3.50758658e+12]\n",
      " [3.50737946e+12]] \n",
      "b= [-1.12142771e+08] \n",
      "\n",
      "step= 9200 error value= 7.12257658376883e+29 \n",
      "W= [[3.42710497e+12]\n",
      " [3.50758658e+12]\n",
      " [3.50737946e+12]] \n",
      "b= [-1.12142771e+08] \n",
      "\n",
      "step= 9600 error value= 7.12257658376883e+29 \n",
      "W= [[3.42710497e+12]\n",
      " [3.50758658e+12]\n",
      " [3.50737946e+12]] \n",
      "b= [-1.12142771e+08] \n",
      "\n",
      "step= 10000 error value= 7.12257658376883e+29 \n",
      "W= [[3.42710497e+12]\n",
      " [3.50758658e+12]\n",
      " [3.50737946e+12]] \n",
      "b= [-1.12142771e+08] \n",
      "\n"
     ]
    }
   ],
   "source": [
    "learing_rate = 1e-5\n",
    "\n",
    "f= lambda x : loss_func(x_data,t_data)\n",
    "\n",
    "print('Initial error value =',error_val(x_data,t_data), 'Initial W=',W, 'Initial b=',b)\n",
    "\n",
    "for step in range(10001):\n",
    "    W-=learning_rate*numerical_derivative(f,W)\n",
    "    b-=learning_rate*numerical_derivative(f,b)\n",
    "    \n",
    "    if(step%400==0):\n",
    "        print('step=',step,'error value=',error_val(x_data, t_data), '\\nW=',W,'\\nb=',b,'\\n')\n",
    "    "
   ]
  },
  {
   "cell_type": "code",
   "execution_count": 43,
   "id": "64c4a6d2-1c3c-440c-be9f-bb5a9d17a402",
   "metadata": {},
   "outputs": [
    {
     "data": {
      "text/plain": [
       "array([9.70551606e+14])"
      ]
     },
     "execution_count": 43,
     "metadata": {},
     "output_type": "execute_result"
    }
   ],
   "source": [
    "test_data = np.array([100,98,81])\n",
    "\n",
    "predict(test_data)"
   ]
  }
 ],
 "metadata": {
  "kernelspec": {
   "display_name": "Python 3 (ipykernel)",
   "language": "python",
   "name": "python3"
  },
  "language_info": {
   "codemirror_mode": {
    "name": "ipython",
    "version": 3
   },
   "file_extension": ".py",
   "mimetype": "text/x-python",
   "name": "python",
   "nbconvert_exporter": "python",
   "pygments_lexer": "ipython3",
   "version": "3.9.12"
  }
 },
 "nbformat": 4,
 "nbformat_minor": 5
}
