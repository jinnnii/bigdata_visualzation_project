{
 "cells": [
  {
   "cell_type": "code",
   "execution_count": 3,
   "id": "70b0361c-16fd-4c3a-a0a8-3f18ce3f6aec",
   "metadata": {},
   "outputs": [
    {
     "name": "stdout",
     "output_type": "stream",
     "text": [
      "2.9.1\n"
     ]
    }
   ],
   "source": [
    "import tensorflow as tf\n",
    "\n",
    "from tensorflow.keras.models import Sequential\n",
    "from tensorflow.keras.layers import Flatten,Dense\n",
    "from tensorflow.keras.optimizers import SGD, Adam\n",
    "\n",
    "print(tf.__version__)"
   ]
  },
  {
   "cell_type": "code",
   "execution_count": 4,
   "id": "1ad43959-ee39-42a9-8f35-a24ad8f6ea59",
   "metadata": {},
   "outputs": [
    {
     "name": "stdout",
     "output_type": "stream",
     "text": [
      "loaded_data.shape= (759, 9)\n",
      "training_x_data.shape= (532, 8)\n",
      "training_t_data.shape= (532, 1)\n",
      "test_x_data.shape= (227, 8)\n",
      "test_t_data.shape= (227, 1)\n"
     ]
    }
   ],
   "source": [
    "import numpy as np\n",
    "\n",
    "loaded_data = np.loadtxt('data/diabetes.csv', delimiter=',')\n",
    "\n",
    "# 학습데이터 분리\n",
    "seperation_rate=0.3 #분리 비율\n",
    "test_data_num = int(len(loaded_data)*seperation_rate)\n",
    "\n",
    "np.random.shuffle(loaded_data)\n",
    "\n",
    "test_data = loaded_data[0:test_data_num]\n",
    "training_data = loaded_data[test_data_num:]\n",
    "\n",
    "#학습할 x 데이터, 학습할 t 데이터\n",
    "training_x_data = training_data[:,0:-1] #맨 마지막 필드 빼고 전부다\n",
    "training_t_data = training_data[:,[-1]] #맨 마지막 필드\n",
    "\n",
    "# 테스트할 x 데이터, 테스트할 t 데이터\n",
    "test_x_data = test_data[:,0:-1]\n",
    "test_t_data = test_data[:,[-1]]\n",
    "\n",
    "\n",
    "print('loaded_data.shape=',loaded_data.shape)\n",
    "print('training_x_data.shape=',training_x_data.shape)\n",
    "print('training_t_data.shape=',training_t_data.shape)\n",
    "\n",
    "print('test_x_data.shape=',test_x_data.shape)\n",
    "print('test_t_data.shape=',test_t_data.shape)"
   ]
  },
  {
   "cell_type": "code",
   "execution_count": 6,
   "id": "3e5c371f-b987-485d-8901-6e0480c9a89d",
   "metadata": {},
   "outputs": [],
   "source": [
    "#logistic Regression을 keras 이용하여 생성\n",
    "\n",
    "model = Sequential()\n",
    "\n",
    "#노드 1개인 출력층 생성\n",
    "model.add(Dense(training_t_data.shape[1],\n",
    "                input_shape=(training_x_data.shape[1],),\n",
    "                activation='sigmoid'))"
   ]
  },
  {
   "cell_type": "code",
   "execution_count": 7,
   "id": "70de5d82-699a-4206-b4d7-0be0666c564d",
   "metadata": {},
   "outputs": [
    {
     "name": "stdout",
     "output_type": "stream",
     "text": [
      "Model: \"sequential_1\"\n",
      "_________________________________________________________________\n",
      " Layer (type)                Output Shape              Param #   \n",
      "=================================================================\n",
      " dense (Dense)               (None, 1)                 9         \n",
      "                                                                 \n",
      "=================================================================\n",
      "Total params: 9\n",
      "Trainable params: 9\n",
      "Non-trainable params: 0\n",
      "_________________________________________________________________\n"
     ]
    }
   ],
   "source": [
    "model.compile(optimizer=SGD(learning_rate=0.01), #확률 그라디언트 디센트\n",
    "              loss='binary_crossentropy', # 분류하는 값이 2개 이루어져 있음, 분류값 설정\n",
    "              metrics=['accuracy']) # 매트릭스 정확도\n",
    "model.summary()"
   ]
  },
  {
   "cell_type": "code",
   "execution_count": null,
   "id": "1b7e0764-0fea-4986-bcc1-edb028727d03",
   "metadata": {},
   "outputs": [],
   "source": []
  }
 ],
 "metadata": {
  "kernelspec": {
   "display_name": "Python 3 (ipykernel)",
   "language": "python",
   "name": "python3"
  },
  "language_info": {
   "codemirror_mode": {
    "name": "ipython",
    "version": 3
   },
   "file_extension": ".py",
   "mimetype": "text/x-python",
   "name": "python",
   "nbconvert_exporter": "python",
   "pygments_lexer": "ipython3",
   "version": "3.9.12"
  }
 },
 "nbformat": 4,
 "nbformat_minor": 5
}
