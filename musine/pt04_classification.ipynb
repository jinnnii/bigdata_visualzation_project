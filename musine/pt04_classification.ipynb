{
 "cells": [
  {
   "cell_type": "code",
   "execution_count": 29,
   "id": "6f621b34-b66d-4060-94fa-1afe9322161b",
   "metadata": {},
   "outputs": [
    {
     "name": "stdout",
     "output_type": "stream",
     "text": [
      "W= [[0.80666191]\n",
      " [0.73287012]] b= [0.59110962]\n"
     ]
    }
   ],
   "source": [
    "import numpy as np\n",
    "# x_data = np.array([3,5,10,24,30]).reshape(5,1) #공부한 시간\n",
    "# t_data = np.array([0,0,0,1,1]).reshape(5,1) #t=0 또는 1\n",
    "\n",
    "x_data = np.array([[2,4],[4,11],[6,6],[8,5],[10,7],[12,16],[14,8],[16,3],[18,7]])\n",
    "t_data = np.array([0,0,0,0,1,1,1,1,1]).reshape(9,1)\n",
    "\n",
    "# W= np.random.rand(1,1) #0-1 사이 랜덤 값\n",
    "b= np.random.rand(1)\n",
    "\n",
    "W=np.random.rand(2,1)\n",
    "\n",
    "print('W=',W, 'b=',b)"
   ]
  },
  {
   "cell_type": "code",
   "execution_count": 1,
   "id": "3e8b157c-e614-4eb9-8feb-e6d22fc3f764",
   "metadata": {},
   "outputs": [],
   "source": [
    "def sigmoid(x):\n",
    "    return 1/(1+np.exp(-x))"
   ]
  },
  {
   "cell_type": "code",
   "execution_count": 27,
   "id": "7c33ebfc-51a7-44fb-82c5-ab3e5741f2be",
   "metadata": {},
   "outputs": [],
   "source": [
    "def loss_func(x,t):\n",
    "    delta = 1e-7\n",
    "    z=np.dot(x,W)+b\n",
    "    y=sigmoid(z)\n",
    "    \n",
    "    #cross-entropy\n",
    "    return -np.sum(t*np.log(y-delta)+(1-t)*np.log((1-y)+delta))"
   ]
  },
  {
   "cell_type": "code",
   "execution_count": 4,
   "id": "0e55b462-d416-4555-8e29-2ade909fc0c1",
   "metadata": {},
   "outputs": [],
   "source": [
    "# 미분함수 공식\n",
    "def numerical_derivative(f,x):\n",
    "    delta_x=1e-4\n",
    "    grad=np.zeros_like(x)\n",
    "    \n",
    "    it = np.nditer(x, flags=['multi_index'], op_flags=['readwrite'])\n",
    "    \n",
    "    while not it.finished:\n",
    "        idx=it.multi_index\n",
    "        \n",
    "        tmp_val=x[idx]\n",
    "        x[idx]=float(tmp_val)+delta_x\n",
    "        fx1=f(x) #f(x+delta_x)\n",
    "        \n",
    "        x[idx]=tmp_val-delta_x\n",
    "        fx2=f(x) #f(x-detal_x)\n",
    "        grad[idx]=(fx1-fx2)/(2*delta_x)\n",
    "        \n",
    "        x[idx]=tmp_val\n",
    "        it.iternext()\n",
    "        \n",
    "    return grad"
   ]
  },
  {
   "cell_type": "code",
   "execution_count": 5,
   "id": "217632bd-41e2-4a88-a994-89bd771108e8",
   "metadata": {},
   "outputs": [],
   "source": [
    "def error_val(x,t):\n",
    "    delta =1e-7\n",
    "    \n",
    "    z=np.dot(x,W)+b\n",
    "    y=sigmoid(z) \n",
    "    #cross-entropy\n",
    "    return -np.sum(t*np.log(y-delta)+(1-t)*np.log((1-y)+delta))"
   ]
  },
  {
   "cell_type": "code",
   "execution_count": 6,
   "id": "7b91da7a-1c19-49be-805b-2052e75b6ada",
   "metadata": {},
   "outputs": [],
   "source": [
    "#학습을 마친 후 임의의 데이터에 대해 미래 값 예측 함수\n",
    "# 입력 변수 x:  numpy type\n",
    "\n",
    "def predict(x):\n",
    "    z=np.dot(x,W)+b\n",
    "    y=sigmoid(z)\n",
    "    \n",
    "    if y>=0.5:\n",
    "        result=1 #True\n",
    "    else:\n",
    "        result=0 #False\n",
    "        \n",
    "    return y,result"
   ]
  },
  {
   "cell_type": "code",
   "execution_count": 36,
   "id": "68e4e15b-c70f-4b52-a3bc-c85439e75af2",
   "metadata": {},
   "outputs": [
    {
     "name": "stdout",
     "output_type": "stream",
     "text": [
      "Initial error value = 0.40455723041072267 Initial W= [[1.28024781]\n",
      " [0.31246876]] \n",
      "b= [-13.3211481]\n",
      "step= 0 error value= 0.4045314289300512 W= [[1.28028522]\n",
      " [0.312497  ]] b= [-13.32165467]\n",
      "step= 400 error value= 0.39447802117441627 W= [[1.29502332]\n",
      " [0.32369529]] b= [-13.52163376]\n",
      "step= 800 error value= 0.384928094754099 W= [[1.30933397]\n",
      " [0.33469636]] b= [-13.7165347]\n",
      "step= 1200 error value= 0.37584139873421085 W= [[1.32325039]\n",
      " [0.34549681]] b= [-13.90664408]\n",
      "step= 1600 error value= 0.3671823559394669 W= [[1.33680167]\n",
      " [0.356095  ]] b= [-14.0922205]\n",
      "step= 2000 error value= 0.3589193407879625 W= [[1.35001335]\n",
      " [0.36649079]] b= [-14.27349847]\n",
      "step= 2400 error value= 0.35102409327725836 W= [[1.36290794]\n",
      " [0.37668529]] b= [-14.4506917]\n",
      "step= 2800 error value= 0.34347123980128114 W= [[1.37550534]\n",
      " [0.3866806 ]] b= [-14.6239958]\n",
      "step= 3200 error value= 0.336237898404864 W= [[1.38782321]\n",
      " [0.39647964]] b= [-14.79359053]\n",
      "step= 3600 error value= 0.32930335125080096 W= [[1.39987733]\n",
      " [0.40608596]] b= [-14.9596417]\n",
      "step= 4000 error value= 0.32264877096071304 W= [[1.41168181]\n",
      " [0.41550357]] b= [-15.1223028]\n",
      "step= 4400 error value= 0.3162569904330774 W= [[1.42324938]\n",
      " [0.42473684]] b= [-15.28171632]\n",
      "step= 4800 error value= 0.3101123079834946 W= [[1.43459151]\n",
      " [0.43379035]] b= [-15.43801495]\n",
      "step= 5200 error value= 0.30420032137069764 W= [[1.44571866]\n",
      " [0.44266887]] b= [-15.59132258]\n",
      "step= 5600 error value= 0.29850778559727364 W= [[1.45664037]\n",
      " [0.45137721]] b= [-15.74175512]\n",
      "step= 6000 error value= 0.2930224904008754 W= [[1.46736536]\n",
      " [0.45992023]] b= [-15.88942133]\n",
      "step= 6400 error value= 0.28773315415370926 W= [[1.47790168]\n",
      " [0.46830276]] b= [-16.03442339]\n",
      "step= 6800 error value= 0.2826293315154509 W= [[1.48825675]\n",
      " [0.47652958]] b= [-16.17685752]\n",
      "step= 7200 error value= 0.2777013326808052 W= [[1.49843745]\n",
      " [0.48460539]] b= [-16.31681449]\n",
      "step= 7600 error value= 0.27294015245514475 W= [[1.5084502 ]\n",
      " [0.49253477]] b= [-16.45438006]\n",
      "step= 8000 error value= 0.26833740770481457 W= [[1.51830097]\n",
      " [0.50032221]] b= [-16.58963535]\n",
      "step= 8400 error value= 0.2638852819796054 W= [[1.52799536]\n",
      " [0.50797206]] b= [-16.72265724]\n",
      "step= 8800 error value= 0.25957647630704156 W= [[1.53753861]\n",
      " [0.51548854]] b= [-16.85351866]\n",
      "step= 9200 error value= 0.25540416532189864 W= [[1.54693568]\n",
      " [0.52287575]] b= [-16.98228889]\n",
      "step= 9600 error value= 0.25136195802769756 W= [[1.55619121]\n",
      " [0.53013762]] b= [-17.1090338]\n",
      "step= 10000 error value= 0.24744386259645193 W= [[1.56530963]\n",
      " [0.53727796]] b= [-17.23381612]\n"
     ]
    }
   ],
   "source": [
    "learning_rate = 1e-2\n",
    "\n",
    "f=lambda x: loss_func(x_data,t_data) #f(x) = loss_func(x_data,t_data)\n",
    "print('Initial error value =', error_val(x_data,t_data),'Initial W=',W, '\\nb=',b)\n",
    "\n",
    "for step in range(10001):\n",
    "    W-=learning_rate*numerical_derivative(f,W)\n",
    "    b-=learning_rate*numerical_derivative(f,b)\n",
    "    \n",
    "    if(step%400==0):\n",
    "        print('step=',step, 'error value=',error_val(x_data,t_data),'W=',W,'b=',b)"
   ]
  },
  {
   "cell_type": "code",
   "execution_count": 33,
   "id": "7f0f7410-7692-4132-a2c1-2fb4cbc7bed6",
   "metadata": {},
   "outputs": [
    {
     "name": "stdout",
     "output_type": "stream",
     "text": [
      "[0.00036398] 0\n"
     ]
    }
   ],
   "source": [
    "(real_val,logical_val)=predict([3,5])\n",
    "print(real_val, logical_val)"
   ]
  },
  {
   "cell_type": "code",
   "execution_count": 35,
   "id": "bc5ded98-8d31-4796-8393-8a2d30ae1d85",
   "metadata": {},
   "outputs": [
    {
     "name": "stdout",
     "output_type": "stream",
     "text": [
      "[0.99890944] 1\n"
     ]
    }
   ],
   "source": [
    "(real_val, logical_val) = predict([15,3])\n",
    "print(real_val, logical_val)"
   ]
  },
  {
   "cell_type": "code",
   "execution_count": null,
   "id": "5fb40df6-f8ef-492c-9fbc-906396ec293d",
   "metadata": {},
   "outputs": [],
   "source": []
  }
 ],
 "metadata": {
  "kernelspec": {
   "display_name": "Python 3 (ipykernel)",
   "language": "python",
   "name": "python3"
  },
  "language_info": {
   "codemirror_mode": {
    "name": "ipython",
    "version": 3
   },
   "file_extension": ".py",
   "mimetype": "text/x-python",
   "name": "python",
   "nbconvert_exporter": "python",
   "pygments_lexer": "ipython3",
   "version": "3.9.12"
  }
 },
 "nbformat": 4,
 "nbformat_minor": 5
}
