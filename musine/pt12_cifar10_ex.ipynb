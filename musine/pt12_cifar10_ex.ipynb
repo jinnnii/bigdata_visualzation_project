{
 "cells": [
  {
   "cell_type": "code",
   "execution_count": 1,
   "id": "b83e1de9-367d-49b1-8b10-d6079e8137ca",
   "metadata": {},
   "outputs": [],
   "source": [
    "import tensorflow as tf\n",
    "\n",
    "import numpy as np\n",
    "import matplotlib.pyplot as plt\n",
    "\n",
    "from tensorflow.keras.datasets import cifar10\n",
    "from tensorflow.keras.models import Sequential\n",
    "from tensorflow.keras.layers import Conv2D, MaxPooling2D\n",
    "from tensorflow.keras.layers import Flatten,Dense,Dropout\n",
    "from tensorflow.keras.optimizers import Adam,RMSprop\n",
    "from tensorflow.keras.callbacks import ModelCheckpoint,EarlyStopping"
   ]
  },
  {
   "cell_type": "code",
   "execution_count": 3,
   "id": "a7b27c52-25cb-44f9-9c25-23eeb30b3f02",
   "metadata": {},
   "outputs": [
    {
     "ename": "NameError",
     "evalue": "name 'ImageDataGenerator' is not defined",
     "output_type": "error",
     "traceback": [
      "\u001b[1;31m---------------------------------------------------------------------------\u001b[0m",
      "\u001b[1;31mNameError\u001b[0m                                 Traceback (most recent call last)",
      "Input \u001b[1;32mIn [3]\u001b[0m, in \u001b[0;36m<cell line: 1>\u001b[1;34m()\u001b[0m\n\u001b[1;32m----> 1\u001b[0m gen\u001b[38;5;241m=\u001b[39m\u001b[43mImageDataGenerator\u001b[49m(rotation_range\u001b[38;5;241m=\u001b[39m\u001b[38;5;241m20\u001b[39m,\n\u001b[0;32m      2\u001b[0m                        shear_range\u001b[38;5;241m=\u001b[39m\u001b[38;5;241m0.2\u001b[39m,\n\u001b[0;32m      3\u001b[0m                        width_shift_range\u001b[38;5;241m=\u001b[39m\u001b[38;5;241m0.2\u001b[39m,\n\u001b[0;32m      4\u001b[0m                        height_shift_range\u001b[38;5;241m=\u001b[39m\u001b[38;5;241m0.2\u001b[39m,\n\u001b[0;32m      5\u001b[0m                        horizontal_flip\u001b[38;5;241m=\u001b[39m\u001b[38;5;28;01mTrue\u001b[39;00m)\n",
      "\u001b[1;31mNameError\u001b[0m: name 'ImageDataGenerator' is not defined"
     ]
    }
   ],
   "source": [
    "gen=ImageDataGenerator(rotation_range=20,\n",
    "                       shear_range=0.2,\n",
    "                       width_shift_range=0.2,\n",
    "                       height_shift_range=0.2,\n",
    "                       horizontal_flip=True)"
   ]
  },
  {
   "cell_type": "code",
   "execution_count": 4,
   "id": "c4c2f7c9-18dc-417f-a6f0-4e57cdfbab42",
   "metadata": {},
   "outputs": [
    {
     "ename": "NameError",
     "evalue": "name 'x_test' is not defined",
     "output_type": "error",
     "traceback": [
      "\u001b[1;31m---------------------------------------------------------------------------\u001b[0m",
      "\u001b[1;31mNameError\u001b[0m                                 Traceback (most recent call last)",
      "Input \u001b[1;32mIn [4]\u001b[0m, in \u001b[0;36m<cell line: 1>\u001b[1;34m()\u001b[0m\n\u001b[1;32m----> 1\u001b[0m x_test \u001b[38;5;241m=\u001b[39m \u001b[43mx_test\u001b[49m,astype(np\u001b[38;5;241m.\u001b[39mfloat32)\u001b[38;5;241m/\u001b[39m\u001b[38;5;241m255.0\u001b[39m\n",
      "\u001b[1;31mNameError\u001b[0m: name 'x_test' is not defined"
     ]
    }
   ],
   "source": [
    "x_test = x_test,astype(np.float32)/255.0"
   ]
  },
  {
   "cell_type": "code",
   "execution_count": null,
   "id": "ff5ff6f7-1830-4fb2-9960-9a6dbe9fa4e5",
   "metadata": {},
   "outputs": [],
   "source": [
    "#보강할 학습데이터 이미지 생성\n",
    "augment_ratio =1.5 #전체 데이터의 150%\n",
    "augment_size = int(augment_ratio*x_train.shape[0])\n",
    "\n",
    "print(augment_size)\n",
    "\n",
    "#전체 x_train 개수의 150% 비율만큼\n",
    "randidx= np.random.randint(x_train.shape[0], size=augment_size)\n",
    "\n",
    "#임의로 선택된 데이터는 원본 데이터를 참조하기 때ㅜㅁㄴ에\n",
    "#원본 데이터에 영향을 줄 수 있다. 그래서 copy 함수를 통해 안전하게 복사본을 만듦\n",
    "x_augmented = x_train[randidx].copy()\n",
    "y_augmented = y_train[randidx].copy()\n",
    "\n",
    "print(x_augmented.shape, y_augmented.shape)\n",
    "\n",
    "#이미지 보강 실행\n",
    "x_augmented,y_augmented=gen.flow(x_augmented,y_augmented,\n",
    "                                 "
   ]
  },
  {
   "cell_type": "code",
   "execution_count": null,
   "id": "9b8adcd8-2646-4ea4-a654-829ee34b9c47",
   "metadata": {},
   "outputs": [],
   "source": [
    "#CNN 모델 구축\n",
    "cnn.add"
   ]
  }
 ],
 "metadata": {
  "kernelspec": {
   "display_name": "Python 3 (ipykernel)",
   "language": "python",
   "name": "python3"
  },
  "language_info": {
   "codemirror_mode": {
    "name": "ipython",
    "version": 3
   },
   "file_extension": ".py",
   "mimetype": "text/x-python",
   "name": "python",
   "nbconvert_exporter": "python",
   "pygments_lexer": "ipython3",
   "version": "3.9.12"
  }
 },
 "nbformat": 4,
 "nbformat_minor": 5
}
